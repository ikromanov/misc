{
 "cells": [
  {
   "cell_type": "markdown",
   "metadata": {},
   "source": [
    "# Prerequisites\n",
    "Before reading this tutorial you should already know Python (see the [Python Tutorial](http://docs.python.org/tut/)) and have some familiarlity with OneTick.\n",
    "\n",
    "If you wish to work the examples in this tutorial you must also have Python installed and have followed the setup procedures for both of OneTick's pyomd and NumPy_OneTickQuery modules - instructions for which can be found with your distribution.\n"
   ]
  },
  {
   "cell_type": "markdown",
   "metadata": {},
   "source": [
    "## Basics\n",
    "\n",
    "The EventProcessor (EP) is the basic type in OneTick's quersive module. It is used to perform all of the analytics in OneTick, as well as to construct powerful graphs via an intuitive, pythonic interface. All EPs inherit from a single abstract class:\n",
    "\n",
    "\n",
    "**EventProcessor.name**\n",
    "    name of the EventProcessor\n",
    "\n",
    "**EventProcessor.sink**\n",
    "    add an event processor to this event processor as a sink.\n",
    "\n",
    "**EventProcessor.source**:\n",
    "    add an event processor to this event processor as a source.\n",
    "\n",
    "**EventProcessor.\\__lshift\\__**(self,event_processor):\n",
    "    overloads the >> operator and equivalent to EventProcessor.sink\n",
    "\n",
    "**EventProcessor.\\__rshift\\__**(self,event_processor):\n",
    "    overloads the << operator and equivalent to EventProcessor.source\n",
    "    \n",
    "**EventProcessor.label**\n",
    "    label the event processor, returns self.\n",
    "            \n",
    "**EventProcessor.symbol**\n",
    "    bind a symbol to the event processor   \n",
    "        \n",
    "**EventProcessor.pin**\n",
    "    attach to the pin of the event processor (i.e., 'if','else')\n",
    "        \n",
    "**EventProcessor.output**\n",
    "    flag the event processor as an output node\n",
    "    \n",
    "**===================================================================**\n",
    "\n",
    "**EventProcessor.Descriptor**\n",
    "    read-only object that describes an EventProcessor\n",
    "    \n",
    "**EventProcessor.Descriptor.label**\n",
    "    label of the event processor\n",
    "            \n",
    "**EventProcessor.Descriptor.symbol**\n",
    "    bound symbol of the event processor   \n",
    "        \n",
    "**EventProcessor.Descriptor.pin**\n",
    "    input/output pin of the event processor (i.e., 'if','else')\n",
    "        \n",
    "**EventProcessor.Descriptor.output**\n",
    "    flag to set event processor as an output node\n",
    "    \n",
    "\n",
    "\n",
    "The EP also provides access to a read-only nested Descriptor class to retrieve attributes describing the EP.\n",
    "\n",
    "All of OneTick's EPs are exposed as python objects in the module. For example, the AddField EP can be instantiated like:\n"
   ]
  },
  {
   "cell_type": "code",
   "execution_count": 170,
   "metadata": {
    "collapsed": false
   },
   "outputs": [
    {
     "name": "stdout",
     "output_type": "stream",
     "text": [
      "<class 'quersive.AddField'>\n"
     ]
    },
    {
     "data": {
      "text/plain": [
       "True"
      ]
     },
     "execution_count": 170,
     "metadata": {},
     "output_type": "execute_result"
    }
   ],
   "source": [
    "import quersive as q\n",
    "a = q.add_field()\n",
    "print(type(a))\n",
    "isinstance(a,q.EventProcessor)"
   ]
  },
  {
   "cell_type": "markdown",
   "metadata": {},
   "source": [
    "The above output demonstrates that the function call to q.add_field returns an object of type 'quersive.AddField' that inherits from the abstract quersive.EventProcessor class. Each call to an EP with no parameters passed in will populate its attributes with that EP's default values. For example, the above invocation results in the following values for the AddField object:\n"
   ]
  },
  {
   "cell_type": "code",
   "execution_count": 171,
   "metadata": {
    "collapsed": false
   },
   "outputs": [
    {
     "data": {
      "text/plain": [
       "AddField(name='ADD_FIELD',ticktype='',field='',value='')"
      ]
     },
     "execution_count": 171,
     "metadata": {},
     "output_type": "execute_result"
    }
   ],
   "source": [
    "a"
   ]
  },
  {
   "cell_type": "markdown",
   "metadata": {},
   "source": [
    "The above shows that the attributes of the AddField object are set to the above default values.\n",
    "\n",
    "All of the EP's attributes are listed in its function signature. For example, OneTick's AddField EP signature is:\n",
    "\n",
    "```python\n",
    "def add_field(ticktype='', field='',value='')\n",
    "```\n",
    "\n",
    "The above signfies that, in addition to the attributes accessible via the Descriptor, each EP has it's own set of attributes as listed in its signature and can be accessed in the usual way. For example, once instantiated, the 'field' attribute of the resulting 'AddField' can be accessed and set like:\n"
   ]
  },
  {
   "cell_type": "code",
   "execution_count": 172,
   "metadata": {
    "collapsed": false
   },
   "outputs": [
    {
     "name": "stdout",
     "output_type": "stream",
     "text": [
      "AddField(name='ADD_FIELD',ticktype='',field='',value='')\n",
      "TRD\n",
      "New_Field\n",
      "New_Value\n",
      "can't set attribute\n",
      "can't set attribute\n"
     ]
    }
   ],
   "source": [
    "import quersive as q\n",
    "\n",
    "a = q.add_field()\n",
    "\n",
    "print(a)\n",
    "\n",
    "#set attributes\n",
    "a.ticktype='TRD'\n",
    "a.field='New_Field'\n",
    "a.value = 'New_Value'\n",
    "\n",
    "print(a.ticktype)\n",
    "print(a.field)\n",
    "print(a.value)\n",
    "\n",
    "\n",
    "try:\n",
    "    a.name='New_Name'\n",
    "except AttributeError as e:\n",
    "    print(str(e))\n",
    "    \n",
    "try:\n",
    "    a.descriptor = q.EventProcessor.Descriptor(label='A',symbol='B',pin='',output=True)\n",
    "except AttributeError as e:\n",
    "    print(str(e))"
   ]
  },
  {
   "cell_type": "markdown",
   "metadata": {},
   "source": [
    "Note that the name attribute is read-only as per the EventProcessor class and can never be set, nor can the descriptor object, as shown above.The Descriptor class is read-only. To set a Descriptor field on an object, each EP provides the appropriate functions. For example, to set the label of the AddField object, call it's 'label' method. Note that the 'label' method actually returns the same AddField object, as shown below. This is useful for 'chaining' when building graphs (more below).\n"
   ]
  },
  {
   "cell_type": "code",
   "execution_count": 173,
   "metadata": {
    "collapsed": false
   },
   "outputs": [
    {
     "name": "stdout",
     "output_type": "stream",
     "text": [
      "Descriptor(output='False',symbol='',label='',pin='')\n",
      "Descriptor(output='False',symbol='',label='add_field',pin='')\n"
     ]
    },
    {
     "data": {
      "text/plain": [
       "True"
      ]
     },
     "execution_count": 173,
     "metadata": {},
     "output_type": "execute_result"
    }
   ],
   "source": [
    "import quersive as q\n",
    "\n",
    "a = q.add_field()\n",
    "\n",
    "print(a.descriptor)\n",
    "b = a.label('add_field')\n",
    "print(a.descriptor)\n",
    "(a is b)"
   ]
  },
  {
   "cell_type": "markdown",
   "metadata": {},
   "source": [
    "# Building Graphs - Simple Example\n",
    "The below code creates a passthrough, instantiates a Graph object, and runs it via the quersive.run_query:\n"
   ]
  },
  {
   "cell_type": "code",
   "execution_count": 174,
   "metadata": {
    "collapsed": false
   },
   "outputs": [
    {
     "data": {
      "text/plain": [
       "{'FULL_DEMO_L1::GS': [{'TICK_STATUS': array([0, 0, 0, ..., 0, 0, 0], dtype=int32), 'EXCHANGE': array(['N', 'T', 'T', ..., 'N', 'N', 'N'], \n",
       "      dtype='<U1'), 'DELETED_TIME': array(['1970-01-01T00:00:00.000', '1970-01-01T00:00:00.000',\n",
       "       '1970-01-01T00:00:00.000', ..., '1970-01-01T00:00:00.000',\n",
       "       '1970-01-01T00:00:00.000', '1970-01-01T00:00:00.000'], dtype='datetime64[ms]'), 'OMDSEQ': array([0, 0, 0, ..., 0, 0, 0], dtype=int32), 'STOP_STOCK': array(['N', 'N', 'N', ..., 'N', 'N', 'N'], \n",
       "      dtype='<U1'), 'TICKER': array(['G', 'G', 'G', ..., 'G', 'G', 'G'], \n",
       "      dtype='<U1'), 'PRICE': array([ 104.9 ,  104.9 ,  104.9 , ...,  104.85,  104.86,  104.86]), 'SEQ_NUM': array([1971504712011575, 1971504713008187, 1971504713508334, ...,\n",
       "       1971527983664438, 1971527985164078, 1971527993164523], dtype=int64), 'Time': array(['2005-01-03T14:31:52.011000', '2005-01-03T14:31:53.008000',\n",
       "       '2005-01-03T14:31:53.508000', ..., '2005-01-03T20:59:43.664000',\n",
       "       '2005-01-03T20:59:45.164000', '2005-01-03T20:59:53.164000'], dtype='datetime64[us]'), 'SOURCE': array(['C', 'C', 'C', ..., 'C', 'C', 'C'], \n",
       "      dtype='<U1'), 'CORR': array([0, 0, 0, ..., 0, 0, 0], dtype=int32), 'COND': array([' ', ' ', ' ', ..., ' ', ' ', ' '], \n",
       "      dtype='<U1'), 'SIZE': array([40400,  1200,  1000, ...,  1200,  4900, 10000], dtype=int32)}]}"
      ]
     },
     "execution_count": 174,
     "metadata": {},
     "output_type": "execute_result"
    }
   ],
   "source": [
    "import quersive as q\n",
    "from datetime import datetime\n",
    "\n",
    "p = q.passthrough(ticktype='TRD')\n",
    "g = q.Graph(p)\n",
    "result = q.run_query(g,symbol='FULL_DEMO_L1::GS',s=datetime(2005,1,3,9,30),e=datetime(2005,1,3,16))\n",
    "result"
   ]
  },
  {
   "cell_type": "markdown",
   "metadata": {},
   "source": [
    "Note that the output of the above is a dictionary of a list of dictionaries. All the outputs of any symbol is retrievable via the 'call' operator. This allows all outputs from queries to be retrieved. Usually, only one output is produced by the graph or we are only interested in the 'last' output of the query. As a shortcut, the [] operator retrieves the 'last' output:"
   ]
  },
  {
   "cell_type": "code",
   "execution_count": 175,
   "metadata": {
    "collapsed": false
   },
   "outputs": [
    {
     "data": {
      "text/plain": [
       "[{'COND': array([' ', ' ', ' ', ..., ' ', ' ', ' '], \n",
       "        dtype='<U1'),\n",
       "  'CORR': array([0, 0, 0, ..., 0, 0, 0], dtype=int32),\n",
       "  'DELETED_TIME': array(['1970-01-01T00:00:00.000', '1970-01-01T00:00:00.000',\n",
       "         '1970-01-01T00:00:00.000', ..., '1970-01-01T00:00:00.000',\n",
       "         '1970-01-01T00:00:00.000', '1970-01-01T00:00:00.000'], dtype='datetime64[ms]'),\n",
       "  'EXCHANGE': array(['N', 'T', 'T', ..., 'N', 'N', 'N'], \n",
       "        dtype='<U1'),\n",
       "  'OMDSEQ': array([0, 0, 0, ..., 0, 0, 0], dtype=int32),\n",
       "  'PRICE': array([ 104.9 ,  104.9 ,  104.9 , ...,  104.85,  104.86,  104.86]),\n",
       "  'SEQ_NUM': array([1971504712011575, 1971504713008187, 1971504713508334, ...,\n",
       "         1971527983664438, 1971527985164078, 1971527993164523], dtype=int64),\n",
       "  'SIZE': array([40400,  1200,  1000, ...,  1200,  4900, 10000], dtype=int32),\n",
       "  'SOURCE': array(['C', 'C', 'C', ..., 'C', 'C', 'C'], \n",
       "        dtype='<U1'),\n",
       "  'STOP_STOCK': array(['N', 'N', 'N', ..., 'N', 'N', 'N'], \n",
       "        dtype='<U1'),\n",
       "  'TICKER': array(['G', 'G', 'G', ..., 'G', 'G', 'G'], \n",
       "        dtype='<U1'),\n",
       "  'TICK_STATUS': array([0, 0, 0, ..., 0, 0, 0], dtype=int32),\n",
       "  'Time': array(['2005-01-03T14:31:52.011000', '2005-01-03T14:31:53.008000',\n",
       "         '2005-01-03T14:31:53.508000', ..., '2005-01-03T20:59:43.664000',\n",
       "         '2005-01-03T20:59:45.164000', '2005-01-03T20:59:53.164000'], dtype='datetime64[us]')}]"
      ]
     },
     "execution_count": 175,
     "metadata": {},
     "output_type": "execute_result"
    }
   ],
   "source": [
    "result('FULL_DEMO_L1::GS')"
   ]
  },
  {
   "cell_type": "code",
   "execution_count": 176,
   "metadata": {
    "collapsed": false
   },
   "outputs": [
    {
     "data": {
      "text/plain": [
       "{'COND': array([' ', ' ', ' ', ..., ' ', ' ', ' '], \n",
       "       dtype='<U1'),\n",
       " 'CORR': array([0, 0, 0, ..., 0, 0, 0], dtype=int32),\n",
       " 'DELETED_TIME': array(['1970-01-01T00:00:00.000', '1970-01-01T00:00:00.000',\n",
       "        '1970-01-01T00:00:00.000', ..., '1970-01-01T00:00:00.000',\n",
       "        '1970-01-01T00:00:00.000', '1970-01-01T00:00:00.000'], dtype='datetime64[ms]'),\n",
       " 'EXCHANGE': array(['N', 'T', 'T', ..., 'N', 'N', 'N'], \n",
       "       dtype='<U1'),\n",
       " 'OMDSEQ': array([0, 0, 0, ..., 0, 0, 0], dtype=int32),\n",
       " 'PRICE': array([ 104.9 ,  104.9 ,  104.9 , ...,  104.85,  104.86,  104.86]),\n",
       " 'SEQ_NUM': array([1971504712011575, 1971504713008187, 1971504713508334, ...,\n",
       "        1971527983664438, 1971527985164078, 1971527993164523], dtype=int64),\n",
       " 'SIZE': array([40400,  1200,  1000, ...,  1200,  4900, 10000], dtype=int32),\n",
       " 'SOURCE': array(['C', 'C', 'C', ..., 'C', 'C', 'C'], \n",
       "       dtype='<U1'),\n",
       " 'STOP_STOCK': array(['N', 'N', 'N', ..., 'N', 'N', 'N'], \n",
       "       dtype='<U1'),\n",
       " 'TICKER': array(['G', 'G', 'G', ..., 'G', 'G', 'G'], \n",
       "       dtype='<U1'),\n",
       " 'TICK_STATUS': array([0, 0, 0, ..., 0, 0, 0], dtype=int32),\n",
       " 'Time': array(['2005-01-03T14:31:52.011000', '2005-01-03T14:31:53.008000',\n",
       "        '2005-01-03T14:31:53.508000', ..., '2005-01-03T20:59:43.664000',\n",
       "        '2005-01-03T20:59:45.164000', '2005-01-03T20:59:53.164000'], dtype='datetime64[us]')}"
      ]
     },
     "execution_count": 176,
     "metadata": {},
     "output_type": "execute_result"
    }
   ],
   "source": [
    "result['FULL_DEMO_L1::GS']"
   ]
  },
  {
   "cell_type": "markdown",
   "metadata": {},
   "source": [
    "Note the latter produces a dict while the former produces a list of dicts, with each dict being keyed by OneTick's TickDescriptors with values as numpy arrays. This allows for rapid population of "
   ]
  },
  {
   "cell_type": "code",
   "execution_count": 177,
   "metadata": {
    "collapsed": false
   },
   "outputs": [
    {
     "data": {
      "text/html": [
       "<div>\n",
       "<table border=\"1\" class=\"dataframe\">\n",
       "  <thead>\n",
       "    <tr style=\"text-align: right;\">\n",
       "      <th></th>\n",
       "      <th>COND</th>\n",
       "      <th>CORR</th>\n",
       "      <th>DELETED_TIME</th>\n",
       "      <th>EXCHANGE</th>\n",
       "      <th>OMDSEQ</th>\n",
       "      <th>PRICE</th>\n",
       "      <th>SEQ_NUM</th>\n",
       "      <th>SIZE</th>\n",
       "      <th>SOURCE</th>\n",
       "      <th>STOP_STOCK</th>\n",
       "      <th>TICKER</th>\n",
       "      <th>TICK_STATUS</th>\n",
       "      <th>Time</th>\n",
       "    </tr>\n",
       "  </thead>\n",
       "  <tbody>\n",
       "    <tr>\n",
       "      <th>0</th>\n",
       "      <td></td>\n",
       "      <td>0</td>\n",
       "      <td>1970-01-01</td>\n",
       "      <td>N</td>\n",
       "      <td>0</td>\n",
       "      <td>104.9</td>\n",
       "      <td>1971504712011575</td>\n",
       "      <td>40400</td>\n",
       "      <td>C</td>\n",
       "      <td>N</td>\n",
       "      <td>G</td>\n",
       "      <td>0</td>\n",
       "      <td>2005-01-03 14:31:52.011</td>\n",
       "    </tr>\n",
       "    <tr>\n",
       "      <th>1</th>\n",
       "      <td></td>\n",
       "      <td>0</td>\n",
       "      <td>1970-01-01</td>\n",
       "      <td>T</td>\n",
       "      <td>0</td>\n",
       "      <td>104.9</td>\n",
       "      <td>1971504713008187</td>\n",
       "      <td>1200</td>\n",
       "      <td>C</td>\n",
       "      <td>N</td>\n",
       "      <td>G</td>\n",
       "      <td>0</td>\n",
       "      <td>2005-01-03 14:31:53.008</td>\n",
       "    </tr>\n",
       "    <tr>\n",
       "      <th>2</th>\n",
       "      <td></td>\n",
       "      <td>0</td>\n",
       "      <td>1970-01-01</td>\n",
       "      <td>T</td>\n",
       "      <td>0</td>\n",
       "      <td>104.9</td>\n",
       "      <td>1971504713508334</td>\n",
       "      <td>1000</td>\n",
       "      <td>C</td>\n",
       "      <td>N</td>\n",
       "      <td>G</td>\n",
       "      <td>0</td>\n",
       "      <td>2005-01-03 14:31:53.508</td>\n",
       "    </tr>\n",
       "    <tr>\n",
       "      <th>3</th>\n",
       "      <td></td>\n",
       "      <td>0</td>\n",
       "      <td>1970-01-01</td>\n",
       "      <td>T</td>\n",
       "      <td>0</td>\n",
       "      <td>104.9</td>\n",
       "      <td>1971504713511894</td>\n",
       "      <td>100</td>\n",
       "      <td>C</td>\n",
       "      <td>N</td>\n",
       "      <td>G</td>\n",
       "      <td>0</td>\n",
       "      <td>2005-01-03 14:31:53.511</td>\n",
       "    </tr>\n",
       "    <tr>\n",
       "      <th>4</th>\n",
       "      <td></td>\n",
       "      <td>0</td>\n",
       "      <td>1970-01-01</td>\n",
       "      <td>T</td>\n",
       "      <td>0</td>\n",
       "      <td>104.9</td>\n",
       "      <td>1971504713515182</td>\n",
       "      <td>200</td>\n",
       "      <td>C</td>\n",
       "      <td>N</td>\n",
       "      <td>G</td>\n",
       "      <td>0</td>\n",
       "      <td>2005-01-03 14:31:53.515</td>\n",
       "    </tr>\n",
       "  </tbody>\n",
       "</table>\n",
       "</div>"
      ],
      "text/plain": [
       "  COND  CORR DELETED_TIME EXCHANGE  OMDSEQ  PRICE           SEQ_NUM   SIZE  \\\n",
       "0          0   1970-01-01        N       0  104.9  1971504712011575  40400   \n",
       "1          0   1970-01-01        T       0  104.9  1971504713008187   1200   \n",
       "2          0   1970-01-01        T       0  104.9  1971504713508334   1000   \n",
       "3          0   1970-01-01        T       0  104.9  1971504713511894    100   \n",
       "4          0   1970-01-01        T       0  104.9  1971504713515182    200   \n",
       "\n",
       "  SOURCE STOP_STOCK TICKER  TICK_STATUS                    Time  \n",
       "0      C          N      G            0 2005-01-03 14:31:52.011  \n",
       "1      C          N      G            0 2005-01-03 14:31:53.008  \n",
       "2      C          N      G            0 2005-01-03 14:31:53.508  \n",
       "3      C          N      G            0 2005-01-03 14:31:53.511  \n",
       "4      C          N      G            0 2005-01-03 14:31:53.515  "
      ]
     },
     "execution_count": 177,
     "metadata": {},
     "output_type": "execute_result"
    }
   ],
   "source": [
    "import pandas as pd\n",
    "\n",
    "pd.DataFrame(result['FULL_DEMO_L1::GS']).head()"
   ]
  },
  {
   "cell_type": "markdown",
   "metadata": {},
   "source": [
    "Of course, the same could be done via the 'call' operator for any of the outputs, but more verbosely:"
   ]
  },
  {
   "cell_type": "code",
   "execution_count": 178,
   "metadata": {
    "collapsed": false
   },
   "outputs": [
    {
     "data": {
      "text/html": [
       "<div>\n",
       "<table border=\"1\" class=\"dataframe\">\n",
       "  <thead>\n",
       "    <tr style=\"text-align: right;\">\n",
       "      <th></th>\n",
       "      <th>COND</th>\n",
       "      <th>CORR</th>\n",
       "      <th>DELETED_TIME</th>\n",
       "      <th>EXCHANGE</th>\n",
       "      <th>OMDSEQ</th>\n",
       "      <th>PRICE</th>\n",
       "      <th>SEQ_NUM</th>\n",
       "      <th>SIZE</th>\n",
       "      <th>SOURCE</th>\n",
       "      <th>STOP_STOCK</th>\n",
       "      <th>TICKER</th>\n",
       "      <th>TICK_STATUS</th>\n",
       "      <th>Time</th>\n",
       "    </tr>\n",
       "  </thead>\n",
       "  <tbody>\n",
       "    <tr>\n",
       "      <th>0</th>\n",
       "      <td></td>\n",
       "      <td>0</td>\n",
       "      <td>1970-01-01</td>\n",
       "      <td>N</td>\n",
       "      <td>0</td>\n",
       "      <td>104.9</td>\n",
       "      <td>1971504712011575</td>\n",
       "      <td>40400</td>\n",
       "      <td>C</td>\n",
       "      <td>N</td>\n",
       "      <td>G</td>\n",
       "      <td>0</td>\n",
       "      <td>2005-01-03 14:31:52.011</td>\n",
       "    </tr>\n",
       "    <tr>\n",
       "      <th>1</th>\n",
       "      <td></td>\n",
       "      <td>0</td>\n",
       "      <td>1970-01-01</td>\n",
       "      <td>T</td>\n",
       "      <td>0</td>\n",
       "      <td>104.9</td>\n",
       "      <td>1971504713008187</td>\n",
       "      <td>1200</td>\n",
       "      <td>C</td>\n",
       "      <td>N</td>\n",
       "      <td>G</td>\n",
       "      <td>0</td>\n",
       "      <td>2005-01-03 14:31:53.008</td>\n",
       "    </tr>\n",
       "    <tr>\n",
       "      <th>2</th>\n",
       "      <td></td>\n",
       "      <td>0</td>\n",
       "      <td>1970-01-01</td>\n",
       "      <td>T</td>\n",
       "      <td>0</td>\n",
       "      <td>104.9</td>\n",
       "      <td>1971504713508334</td>\n",
       "      <td>1000</td>\n",
       "      <td>C</td>\n",
       "      <td>N</td>\n",
       "      <td>G</td>\n",
       "      <td>0</td>\n",
       "      <td>2005-01-03 14:31:53.508</td>\n",
       "    </tr>\n",
       "    <tr>\n",
       "      <th>3</th>\n",
       "      <td></td>\n",
       "      <td>0</td>\n",
       "      <td>1970-01-01</td>\n",
       "      <td>T</td>\n",
       "      <td>0</td>\n",
       "      <td>104.9</td>\n",
       "      <td>1971504713511894</td>\n",
       "      <td>100</td>\n",
       "      <td>C</td>\n",
       "      <td>N</td>\n",
       "      <td>G</td>\n",
       "      <td>0</td>\n",
       "      <td>2005-01-03 14:31:53.511</td>\n",
       "    </tr>\n",
       "    <tr>\n",
       "      <th>4</th>\n",
       "      <td></td>\n",
       "      <td>0</td>\n",
       "      <td>1970-01-01</td>\n",
       "      <td>T</td>\n",
       "      <td>0</td>\n",
       "      <td>104.9</td>\n",
       "      <td>1971504713515182</td>\n",
       "      <td>200</td>\n",
       "      <td>C</td>\n",
       "      <td>N</td>\n",
       "      <td>G</td>\n",
       "      <td>0</td>\n",
       "      <td>2005-01-03 14:31:53.515</td>\n",
       "    </tr>\n",
       "  </tbody>\n",
       "</table>\n",
       "</div>"
      ],
      "text/plain": [
       "  COND  CORR DELETED_TIME EXCHANGE  OMDSEQ  PRICE           SEQ_NUM   SIZE  \\\n",
       "0          0   1970-01-01        N       0  104.9  1971504712011575  40400   \n",
       "1          0   1970-01-01        T       0  104.9  1971504713008187   1200   \n",
       "2          0   1970-01-01        T       0  104.9  1971504713508334   1000   \n",
       "3          0   1970-01-01        T       0  104.9  1971504713511894    100   \n",
       "4          0   1970-01-01        T       0  104.9  1971504713515182    200   \n",
       "\n",
       "  SOURCE STOP_STOCK TICKER  TICK_STATUS                    Time  \n",
       "0      C          N      G            0 2005-01-03 14:31:52.011  \n",
       "1      C          N      G            0 2005-01-03 14:31:53.008  \n",
       "2      C          N      G            0 2005-01-03 14:31:53.508  \n",
       "3      C          N      G            0 2005-01-03 14:31:53.511  \n",
       "4      C          N      G            0 2005-01-03 14:31:53.515  "
      ]
     },
     "execution_count": 178,
     "metadata": {},
     "output_type": "execute_result"
    }
   ],
   "source": [
    "pd.DataFrame(result('FULL_DEMO_L1::GS')[-1]).head()"
   ]
  },
  {
   "cell_type": "markdown",
   "metadata": {},
   "source": [
    "# Multi-EP Graphs"
   ]
  },
  {
   "cell_type": "markdown",
   "metadata": {},
   "source": [
    "Graphs can be constructed by sinking or sourcing EPs to another. To filter the above results on PRICE, for example, sink a where_clause:"
   ]
  },
  {
   "cell_type": "code",
   "execution_count": 179,
   "metadata": {
    "collapsed": false
   },
   "outputs": [
    {
     "data": {
      "text/html": [
       "<div>\n",
       "<table border=\"1\" class=\"dataframe\">\n",
       "  <thead>\n",
       "    <tr style=\"text-align: right;\">\n",
       "      <th></th>\n",
       "      <th>COND</th>\n",
       "      <th>CORR</th>\n",
       "      <th>DELETED_TIME</th>\n",
       "      <th>EXCHANGE</th>\n",
       "      <th>OMDSEQ</th>\n",
       "      <th>PRICE</th>\n",
       "      <th>SEQ_NUM</th>\n",
       "      <th>SIZE</th>\n",
       "      <th>SOURCE</th>\n",
       "      <th>STOP_STOCK</th>\n",
       "      <th>TICKER</th>\n",
       "      <th>TICK_STATUS</th>\n",
       "      <th>Time</th>\n",
       "    </tr>\n",
       "  </thead>\n",
       "  <tbody>\n",
       "    <tr>\n",
       "      <th>0</th>\n",
       "      <td></td>\n",
       "      <td>0</td>\n",
       "      <td>1970-01-01</td>\n",
       "      <td>N</td>\n",
       "      <td>0</td>\n",
       "      <td>105.05</td>\n",
       "      <td>1971504952659752</td>\n",
       "      <td>1500</td>\n",
       "      <td>C</td>\n",
       "      <td>N</td>\n",
       "      <td>G</td>\n",
       "      <td>0</td>\n",
       "      <td>2005-01-03 14:35:52.659</td>\n",
       "    </tr>\n",
       "    <tr>\n",
       "      <th>1</th>\n",
       "      <td>E</td>\n",
       "      <td>0</td>\n",
       "      <td>1970-01-01</td>\n",
       "      <td>N</td>\n",
       "      <td>0</td>\n",
       "      <td>105.05</td>\n",
       "      <td>1971504956661036</td>\n",
       "      <td>200</td>\n",
       "      <td>C</td>\n",
       "      <td>N</td>\n",
       "      <td>G</td>\n",
       "      <td>0</td>\n",
       "      <td>2005-01-03 14:35:56.661</td>\n",
       "    </tr>\n",
       "    <tr>\n",
       "      <th>2</th>\n",
       "      <td>E</td>\n",
       "      <td>0</td>\n",
       "      <td>1970-01-01</td>\n",
       "      <td>N</td>\n",
       "      <td>0</td>\n",
       "      <td>105.08</td>\n",
       "      <td>1971504958660452</td>\n",
       "      <td>500</td>\n",
       "      <td>C</td>\n",
       "      <td>N</td>\n",
       "      <td>G</td>\n",
       "      <td>0</td>\n",
       "      <td>2005-01-03 14:35:58.660</td>\n",
       "    </tr>\n",
       "    <tr>\n",
       "      <th>3</th>\n",
       "      <td></td>\n",
       "      <td>0</td>\n",
       "      <td>1970-01-01</td>\n",
       "      <td>N</td>\n",
       "      <td>0</td>\n",
       "      <td>105.08</td>\n",
       "      <td>1971504960661857</td>\n",
       "      <td>100</td>\n",
       "      <td>C</td>\n",
       "      <td>N</td>\n",
       "      <td>G</td>\n",
       "      <td>0</td>\n",
       "      <td>2005-01-03 14:36:00.661</td>\n",
       "    </tr>\n",
       "    <tr>\n",
       "      <th>4</th>\n",
       "      <td></td>\n",
       "      <td>0</td>\n",
       "      <td>1970-01-01</td>\n",
       "      <td>N</td>\n",
       "      <td>0</td>\n",
       "      <td>105.07</td>\n",
       "      <td>1971504961161477</td>\n",
       "      <td>100</td>\n",
       "      <td>C</td>\n",
       "      <td>N</td>\n",
       "      <td>G</td>\n",
       "      <td>0</td>\n",
       "      <td>2005-01-03 14:36:01.161</td>\n",
       "    </tr>\n",
       "  </tbody>\n",
       "</table>\n",
       "</div>"
      ],
      "text/plain": [
       "  COND  CORR DELETED_TIME EXCHANGE  OMDSEQ   PRICE           SEQ_NUM  SIZE  \\\n",
       "0          0   1970-01-01        N       0  105.05  1971504952659752  1500   \n",
       "1    E     0   1970-01-01        N       0  105.05  1971504956661036   200   \n",
       "2    E     0   1970-01-01        N       0  105.08  1971504958660452   500   \n",
       "3          0   1970-01-01        N       0  105.08  1971504960661857   100   \n",
       "4          0   1970-01-01        N       0  105.07  1971504961161477   100   \n",
       "\n",
       "  SOURCE STOP_STOCK TICKER  TICK_STATUS                    Time  \n",
       "0      C          N      G            0 2005-01-03 14:35:52.659  \n",
       "1      C          N      G            0 2005-01-03 14:35:56.661  \n",
       "2      C          N      G            0 2005-01-03 14:35:58.660  \n",
       "3      C          N      G            0 2005-01-03 14:36:00.661  \n",
       "4      C          N      G            0 2005-01-03 14:36:01.161  "
      ]
     },
     "execution_count": 179,
     "metadata": {},
     "output_type": "execute_result"
    }
   ],
   "source": [
    "w = q.where_clause(where='PRICE > 105')\n",
    "root = p\n",
    "p.sink(w)\n",
    "g = q.Graph(root)\n",
    "result = q.run_query(g)\n",
    "pd.DataFrame(result['FULL_DEMO_L1::GS']).head()"
   ]
  },
  {
   "cell_type": "markdown",
   "metadata": {},
   "source": [
    "The above can be achieved also via operators in place of the 'sink' or 'source' methods:"
   ]
  },
  {
   "cell_type": "code",
   "execution_count": 180,
   "metadata": {
    "collapsed": false
   },
   "outputs": [
    {
     "data": {
      "text/html": [
       "<div>\n",
       "<table border=\"1\" class=\"dataframe\">\n",
       "  <thead>\n",
       "    <tr style=\"text-align: right;\">\n",
       "      <th></th>\n",
       "      <th>COND</th>\n",
       "      <th>CORR</th>\n",
       "      <th>DELETED_TIME</th>\n",
       "      <th>EXCHANGE</th>\n",
       "      <th>OMDSEQ</th>\n",
       "      <th>PRICE</th>\n",
       "      <th>SEQ_NUM</th>\n",
       "      <th>SIZE</th>\n",
       "      <th>SOURCE</th>\n",
       "      <th>STOP_STOCK</th>\n",
       "      <th>TICKER</th>\n",
       "      <th>TICK_STATUS</th>\n",
       "      <th>Time</th>\n",
       "    </tr>\n",
       "  </thead>\n",
       "  <tbody>\n",
       "    <tr>\n",
       "      <th>0</th>\n",
       "      <td></td>\n",
       "      <td>0</td>\n",
       "      <td>1970-01-01</td>\n",
       "      <td>N</td>\n",
       "      <td>0</td>\n",
       "      <td>105.05</td>\n",
       "      <td>1971504952659752</td>\n",
       "      <td>1500</td>\n",
       "      <td>C</td>\n",
       "      <td>N</td>\n",
       "      <td>G</td>\n",
       "      <td>0</td>\n",
       "      <td>2005-01-03 14:35:52.659</td>\n",
       "    </tr>\n",
       "    <tr>\n",
       "      <th>1</th>\n",
       "      <td>E</td>\n",
       "      <td>0</td>\n",
       "      <td>1970-01-01</td>\n",
       "      <td>N</td>\n",
       "      <td>0</td>\n",
       "      <td>105.05</td>\n",
       "      <td>1971504956661036</td>\n",
       "      <td>200</td>\n",
       "      <td>C</td>\n",
       "      <td>N</td>\n",
       "      <td>G</td>\n",
       "      <td>0</td>\n",
       "      <td>2005-01-03 14:35:56.661</td>\n",
       "    </tr>\n",
       "    <tr>\n",
       "      <th>2</th>\n",
       "      <td>E</td>\n",
       "      <td>0</td>\n",
       "      <td>1970-01-01</td>\n",
       "      <td>N</td>\n",
       "      <td>0</td>\n",
       "      <td>105.08</td>\n",
       "      <td>1971504958660452</td>\n",
       "      <td>500</td>\n",
       "      <td>C</td>\n",
       "      <td>N</td>\n",
       "      <td>G</td>\n",
       "      <td>0</td>\n",
       "      <td>2005-01-03 14:35:58.660</td>\n",
       "    </tr>\n",
       "    <tr>\n",
       "      <th>3</th>\n",
       "      <td></td>\n",
       "      <td>0</td>\n",
       "      <td>1970-01-01</td>\n",
       "      <td>N</td>\n",
       "      <td>0</td>\n",
       "      <td>105.08</td>\n",
       "      <td>1971504960661857</td>\n",
       "      <td>100</td>\n",
       "      <td>C</td>\n",
       "      <td>N</td>\n",
       "      <td>G</td>\n",
       "      <td>0</td>\n",
       "      <td>2005-01-03 14:36:00.661</td>\n",
       "    </tr>\n",
       "    <tr>\n",
       "      <th>4</th>\n",
       "      <td></td>\n",
       "      <td>0</td>\n",
       "      <td>1970-01-01</td>\n",
       "      <td>N</td>\n",
       "      <td>0</td>\n",
       "      <td>105.07</td>\n",
       "      <td>1971504961161477</td>\n",
       "      <td>100</td>\n",
       "      <td>C</td>\n",
       "      <td>N</td>\n",
       "      <td>G</td>\n",
       "      <td>0</td>\n",
       "      <td>2005-01-03 14:36:01.161</td>\n",
       "    </tr>\n",
       "  </tbody>\n",
       "</table>\n",
       "</div>"
      ],
      "text/plain": [
       "  COND  CORR DELETED_TIME EXCHANGE  OMDSEQ   PRICE           SEQ_NUM  SIZE  \\\n",
       "0          0   1970-01-01        N       0  105.05  1971504952659752  1500   \n",
       "1    E     0   1970-01-01        N       0  105.05  1971504956661036   200   \n",
       "2    E     0   1970-01-01        N       0  105.08  1971504958660452   500   \n",
       "3          0   1970-01-01        N       0  105.08  1971504960661857   100   \n",
       "4          0   1970-01-01        N       0  105.07  1971504961161477   100   \n",
       "\n",
       "  SOURCE STOP_STOCK TICKER  TICK_STATUS                    Time  \n",
       "0      C          N      G            0 2005-01-03 14:35:52.659  \n",
       "1      C          N      G            0 2005-01-03 14:35:56.661  \n",
       "2      C          N      G            0 2005-01-03 14:35:58.660  \n",
       "3      C          N      G            0 2005-01-03 14:36:00.661  \n",
       "4      C          N      G            0 2005-01-03 14:36:01.161  "
      ]
     },
     "execution_count": 180,
     "metadata": {},
     "output_type": "execute_result"
    }
   ],
   "source": [
    "import quersive as q\n",
    "root = p = q.passthrough(ticktype='TRD')\n",
    "p >> q.where_clause(where='PRICE > 105')\n",
    "g = q.Graph(root)\n",
    "result = q.run_query(g,symbol='FULL_DEMO_L1::GS',s=datetime(2005,1,3,9,30),e=datetime(2005,1,3,16))\n",
    "pd.DataFrame(result['FULL_DEMO_L1::GS']).head()"
   ]
  },
  {
   "cell_type": "markdown",
   "metadata": {},
   "source": [
    "Note in the above example that we first created the passthrough EP, and then we constructed the Graph object to pass to quersive.run_query. The quesiv.Graph object is NOT and EP, but it does support sinking and sourcing of event processors. Rather than returning and EP, it'sink and source methods returns the graph:"
   ]
  },
  {
   "cell_type": "code",
   "execution_count": 181,
   "metadata": {
    "collapsed": false
   },
   "outputs": [
    {
     "data": {
      "text/html": [
       "<div>\n",
       "<table border=\"1\" class=\"dataframe\">\n",
       "  <thead>\n",
       "    <tr style=\"text-align: right;\">\n",
       "      <th></th>\n",
       "      <th>COND</th>\n",
       "      <th>CORR</th>\n",
       "      <th>DELETED_TIME</th>\n",
       "      <th>EXCHANGE</th>\n",
       "      <th>OMDSEQ</th>\n",
       "      <th>PRICE</th>\n",
       "      <th>SEQ_NUM</th>\n",
       "      <th>SIZE</th>\n",
       "      <th>SOURCE</th>\n",
       "      <th>STOP_STOCK</th>\n",
       "      <th>TICKER</th>\n",
       "      <th>TICK_STATUS</th>\n",
       "      <th>Time</th>\n",
       "    </tr>\n",
       "  </thead>\n",
       "  <tbody>\n",
       "    <tr>\n",
       "      <th>0</th>\n",
       "      <td></td>\n",
       "      <td>0</td>\n",
       "      <td>1970-01-01</td>\n",
       "      <td>N</td>\n",
       "      <td>0</td>\n",
       "      <td>105.05</td>\n",
       "      <td>1971504952659752</td>\n",
       "      <td>1500</td>\n",
       "      <td>C</td>\n",
       "      <td>N</td>\n",
       "      <td>G</td>\n",
       "      <td>0</td>\n",
       "      <td>2005-01-03 14:35:52.659</td>\n",
       "    </tr>\n",
       "    <tr>\n",
       "      <th>1</th>\n",
       "      <td>E</td>\n",
       "      <td>0</td>\n",
       "      <td>1970-01-01</td>\n",
       "      <td>N</td>\n",
       "      <td>0</td>\n",
       "      <td>105.05</td>\n",
       "      <td>1971504956661036</td>\n",
       "      <td>200</td>\n",
       "      <td>C</td>\n",
       "      <td>N</td>\n",
       "      <td>G</td>\n",
       "      <td>0</td>\n",
       "      <td>2005-01-03 14:35:56.661</td>\n",
       "    </tr>\n",
       "    <tr>\n",
       "      <th>2</th>\n",
       "      <td>E</td>\n",
       "      <td>0</td>\n",
       "      <td>1970-01-01</td>\n",
       "      <td>N</td>\n",
       "      <td>0</td>\n",
       "      <td>105.08</td>\n",
       "      <td>1971504958660452</td>\n",
       "      <td>500</td>\n",
       "      <td>C</td>\n",
       "      <td>N</td>\n",
       "      <td>G</td>\n",
       "      <td>0</td>\n",
       "      <td>2005-01-03 14:35:58.660</td>\n",
       "    </tr>\n",
       "    <tr>\n",
       "      <th>3</th>\n",
       "      <td></td>\n",
       "      <td>0</td>\n",
       "      <td>1970-01-01</td>\n",
       "      <td>N</td>\n",
       "      <td>0</td>\n",
       "      <td>105.08</td>\n",
       "      <td>1971504960661857</td>\n",
       "      <td>100</td>\n",
       "      <td>C</td>\n",
       "      <td>N</td>\n",
       "      <td>G</td>\n",
       "      <td>0</td>\n",
       "      <td>2005-01-03 14:36:00.661</td>\n",
       "    </tr>\n",
       "    <tr>\n",
       "      <th>4</th>\n",
       "      <td></td>\n",
       "      <td>0</td>\n",
       "      <td>1970-01-01</td>\n",
       "      <td>N</td>\n",
       "      <td>0</td>\n",
       "      <td>105.07</td>\n",
       "      <td>1971504961161477</td>\n",
       "      <td>100</td>\n",
       "      <td>C</td>\n",
       "      <td>N</td>\n",
       "      <td>G</td>\n",
       "      <td>0</td>\n",
       "      <td>2005-01-03 14:36:01.161</td>\n",
       "    </tr>\n",
       "  </tbody>\n",
       "</table>\n",
       "</div>"
      ],
      "text/plain": [
       "  COND  CORR DELETED_TIME EXCHANGE  OMDSEQ   PRICE           SEQ_NUM  SIZE  \\\n",
       "0          0   1970-01-01        N       0  105.05  1971504952659752  1500   \n",
       "1    E     0   1970-01-01        N       0  105.05  1971504956661036   200   \n",
       "2    E     0   1970-01-01        N       0  105.08  1971504958660452   500   \n",
       "3          0   1970-01-01        N       0  105.08  1971504960661857   100   \n",
       "4          0   1970-01-01        N       0  105.07  1971504961161477   100   \n",
       "\n",
       "  SOURCE STOP_STOCK TICKER  TICK_STATUS                    Time  \n",
       "0      C          N      G            0 2005-01-03 14:35:52.659  \n",
       "1      C          N      G            0 2005-01-03 14:35:56.661  \n",
       "2      C          N      G            0 2005-01-03 14:35:58.660  \n",
       "3      C          N      G            0 2005-01-03 14:36:00.661  \n",
       "4      C          N      G            0 2005-01-03 14:36:01.161  "
      ]
     },
     "execution_count": 181,
     "metadata": {},
     "output_type": "execute_result"
    }
   ],
   "source": [
    "import quersive as q\n",
    "g = q.Graph(q.passthrough(ticktype='TRD')) >> q.where_clause(where='PRICE > 105')\n",
    "result = q.run_query(g,symbol='FULL_DEMO_L1::GS',s=datetime(2005,1,3,9,30),e=datetime(2005,1,3,16))\n",
    "pd.DataFrame(result['FULL_DEMO_L1::GS']).head()"
   ]
  },
  {
   "cell_type": "markdown",
   "metadata": {},
   "source": [
    "Sourcing the where_clause can be easily achieved as well:"
   ]
  },
  {
   "cell_type": "code",
   "execution_count": 182,
   "metadata": {
    "collapsed": false
   },
   "outputs": [
    {
     "data": {
      "text/html": [
       "<div>\n",
       "<table border=\"1\" class=\"dataframe\">\n",
       "  <thead>\n",
       "    <tr style=\"text-align: right;\">\n",
       "      <th></th>\n",
       "      <th>COND</th>\n",
       "      <th>CORR</th>\n",
       "      <th>DELETED_TIME</th>\n",
       "      <th>EXCHANGE</th>\n",
       "      <th>OMDSEQ</th>\n",
       "      <th>PRICE</th>\n",
       "      <th>SEQ_NUM</th>\n",
       "      <th>SIZE</th>\n",
       "      <th>SOURCE</th>\n",
       "      <th>STOP_STOCK</th>\n",
       "      <th>TICKER</th>\n",
       "      <th>TICK_STATUS</th>\n",
       "      <th>Time</th>\n",
       "    </tr>\n",
       "  </thead>\n",
       "  <tbody>\n",
       "    <tr>\n",
       "      <th>0</th>\n",
       "      <td></td>\n",
       "      <td>0</td>\n",
       "      <td>1970-01-01</td>\n",
       "      <td>N</td>\n",
       "      <td>0</td>\n",
       "      <td>105.05</td>\n",
       "      <td>1971504952659752</td>\n",
       "      <td>1500</td>\n",
       "      <td>C</td>\n",
       "      <td>N</td>\n",
       "      <td>G</td>\n",
       "      <td>0</td>\n",
       "      <td>2005-01-03 14:35:52.659</td>\n",
       "    </tr>\n",
       "    <tr>\n",
       "      <th>1</th>\n",
       "      <td>E</td>\n",
       "      <td>0</td>\n",
       "      <td>1970-01-01</td>\n",
       "      <td>N</td>\n",
       "      <td>0</td>\n",
       "      <td>105.05</td>\n",
       "      <td>1971504956661036</td>\n",
       "      <td>200</td>\n",
       "      <td>C</td>\n",
       "      <td>N</td>\n",
       "      <td>G</td>\n",
       "      <td>0</td>\n",
       "      <td>2005-01-03 14:35:56.661</td>\n",
       "    </tr>\n",
       "    <tr>\n",
       "      <th>2</th>\n",
       "      <td>E</td>\n",
       "      <td>0</td>\n",
       "      <td>1970-01-01</td>\n",
       "      <td>N</td>\n",
       "      <td>0</td>\n",
       "      <td>105.08</td>\n",
       "      <td>1971504958660452</td>\n",
       "      <td>500</td>\n",
       "      <td>C</td>\n",
       "      <td>N</td>\n",
       "      <td>G</td>\n",
       "      <td>0</td>\n",
       "      <td>2005-01-03 14:35:58.660</td>\n",
       "    </tr>\n",
       "    <tr>\n",
       "      <th>3</th>\n",
       "      <td></td>\n",
       "      <td>0</td>\n",
       "      <td>1970-01-01</td>\n",
       "      <td>N</td>\n",
       "      <td>0</td>\n",
       "      <td>105.08</td>\n",
       "      <td>1971504960661857</td>\n",
       "      <td>100</td>\n",
       "      <td>C</td>\n",
       "      <td>N</td>\n",
       "      <td>G</td>\n",
       "      <td>0</td>\n",
       "      <td>2005-01-03 14:36:00.661</td>\n",
       "    </tr>\n",
       "    <tr>\n",
       "      <th>4</th>\n",
       "      <td></td>\n",
       "      <td>0</td>\n",
       "      <td>1970-01-01</td>\n",
       "      <td>N</td>\n",
       "      <td>0</td>\n",
       "      <td>105.07</td>\n",
       "      <td>1971504961161477</td>\n",
       "      <td>100</td>\n",
       "      <td>C</td>\n",
       "      <td>N</td>\n",
       "      <td>G</td>\n",
       "      <td>0</td>\n",
       "      <td>2005-01-03 14:36:01.161</td>\n",
       "    </tr>\n",
       "  </tbody>\n",
       "</table>\n",
       "</div>"
      ],
      "text/plain": [
       "  COND  CORR DELETED_TIME EXCHANGE  OMDSEQ   PRICE           SEQ_NUM  SIZE  \\\n",
       "0          0   1970-01-01        N       0  105.05  1971504952659752  1500   \n",
       "1    E     0   1970-01-01        N       0  105.05  1971504956661036   200   \n",
       "2    E     0   1970-01-01        N       0  105.08  1971504958660452   500   \n",
       "3          0   1970-01-01        N       0  105.08  1971504960661857   100   \n",
       "4          0   1970-01-01        N       0  105.07  1971504961161477   100   \n",
       "\n",
       "  SOURCE STOP_STOCK TICKER  TICK_STATUS                    Time  \n",
       "0      C          N      G            0 2005-01-03 14:35:52.659  \n",
       "1      C          N      G            0 2005-01-03 14:35:56.661  \n",
       "2      C          N      G            0 2005-01-03 14:35:58.660  \n",
       "3      C          N      G            0 2005-01-03 14:36:00.661  \n",
       "4      C          N      G            0 2005-01-03 14:36:01.161  "
      ]
     },
     "execution_count": 182,
     "metadata": {},
     "output_type": "execute_result"
    }
   ],
   "source": [
    "import quersive as q\n",
    "g = q.Graph(q.passthrough(ticktype='TRD')) << q.where_clause(where='PRICE > 105')\n",
    "result = q.run_query(g,symbol='FULL_DEMO_L1::GS',s=datetime(2005,1,3,9,30),e=datetime(2005,1,3,16))\n",
    "pd.DataFrame(result['FULL_DEMO_L1::GS']).head()"
   ]
  }
 ],
 "metadata": {
  "kernelspec": {
   "display_name": "Python 3",
   "language": "python",
   "name": "python3"
  },
  "language_info": {
   "codemirror_mode": {
    "name": "ipython",
    "version": 3.0
   },
   "file_extension": ".py",
   "mimetype": "text/x-python",
   "name": "python",
   "nbconvert_exporter": "python",
   "pygments_lexer": "ipython3",
   "version": "3.4.5"
  }
 },
 "nbformat": 4,
 "nbformat_minor": 0
}