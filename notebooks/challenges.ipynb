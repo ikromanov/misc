{
 "cells": [
  {
   "cell_type": "code",
   "execution_count": 2,
   "metadata": {
    "collapsed": true
   },
   "outputs": [],
   "source": [
    "import string"
   ]
  },
  {
   "cell_type": "code",
   "execution_count": 41,
   "metadata": {
    "collapsed": false
   },
   "outputs": [
    {
     "name": "stdout",
     "output_type": "stream",
     "text": [
      "jvvr://yyy.ravjqpejcnngpig.eqo/re/fgh/ocr.jvon\n"
     ]
    }
   ],
   "source": [
    "#s = list(\"g fmnc wms bgblr rpylqjyrc gr zw fylb. rfyrq ufyr amknsrcpq ypc dmp. bmgle gr gl zw fylb gqglcddgagclr ylb rfyr'q ufw rfgq rcvr gq qm jmle. sqgle qrpgle.kyicrpylq() gq pcamkkclbcb. lmu ynnjw ml rfc spj.\")\n",
    "s = list(\"http://www.pythonchallenge.com/pc/def/map.html\")\n",
    "\n",
    "alphabet = list(string.ascii_lowercase)\n",
    "new_s = []\n",
    "for letter in s:\n",
    "    if letter not in ['.',' ','\\'','(',')',':','/']:\n",
    "        ind = alphabet.index(letter)\n",
    "        ind = (ind + 2) % 26\n",
    "        new_s.append(alphabet[ind])\n",
    "        #print(alphabet[ind])\n",
    "    else:\n",
    "        new_s.append(letter)\n",
    "        #print(letter)\n",
    "\n",
    "print(\"\".join(new_s))"
   ]
  },
  {
   "cell_type": "code",
   "execution_count": null,
   "metadata": {
    "collapsed": true
   },
   "outputs": [],
   "source": []
  }
 ],
 "metadata": {
  "kernelspec": {
   "display_name": "Python 3",
   "language": "python",
   "name": "python3"
  },
  "language_info": {
   "codemirror_mode": {
    "name": "ipython",
    "version": 3
   },
   "file_extension": ".py",
   "mimetype": "text/x-python",
   "name": "python",
   "nbconvert_exporter": "python",
   "pygments_lexer": "ipython3",
   "version": "3.4.5"
  }
 },
 "nbformat": 4,
 "nbformat_minor": 0
}
