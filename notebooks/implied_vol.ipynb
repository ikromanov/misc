{
 "cells": [
  {
   "cell_type": "code",
   "execution_count": 5,
   "metadata": {
    "collapsed": true
   },
   "outputs": [],
   "source": [
    "from scipy.stats import norm\n",
    "import datetime\n",
    "import math"
   ]
  },
  {
   "cell_type": "code",
   "execution_count": 6,
   "metadata": {
    "collapsed": false
   },
   "outputs": [],
   "source": [
    "n = norm.pdf\n",
    "N = norm.cdf\n",
    "log = math.log\n",
    "sqrt = math.sqrt\n",
    "exp = math.exp\n",
    "\n",
    "def bs_price(cp_flag,S,K,T,r,v,q=0.0):\n",
    "    d1 = (log(S/K)+(r+v*v/2.)*T)/(v*sqrt(T))\n",
    "    d2 = d1-v*sqrt(T)\n",
    "    if cp_flag == 'c':\n",
    "        price = S*exp(-q*T)*N(d1)-K*exp(-r*T)*N(d2)\n",
    "    else:\n",
    "        price = K*exp(-r*T)*N(-d2)-S*exp(-q*T)*N(-d1)\n",
    "    return price\n",
    "\n",
    "def bs_vega(cp_flag,S,K,T,r,v,q=0.0):\n",
    "    d1 = (log(S/K)+(r+v*v/2.)*T)/(v*sqrt(T))\n",
    "    return S * sqrt(T)*n(d1)"
   ]
  },
  {
   "cell_type": "code",
   "execution_count": 18,
   "metadata": {
    "collapsed": false
   },
   "outputs": [],
   "source": [
    "def find_vol(target_value, call_put, S, K, T, r):\n",
    "    MAX_ITERATIONS = 100\n",
    "    PRECISION = 1.0e-5\n",
    "\n",
    "    sigma = 0.5\n",
    "    for i in range(0, MAX_ITERATIONS):\n",
    "        price = bs_price(call_put, S, K, T, r, sigma)\n",
    "        vega = bs_vega(call_put, S, K, T, r, sigma)\n",
    "        \n",
    "        diff = target_value - price  # our root\n",
    "\n",
    "        print(i, round(sigma,5), round(diff,5))\n",
    "\n",
    "        if (abs(diff) < PRECISION):\n",
    "            return sigma\n",
    "        sigma = sigma + diff/vega # f(x) / f'(x)\n",
    "\n",
    "    # value wasn't found, return best guess so far\n",
    "    return(sigma)"
   ]
  },
  {
   "cell_type": "code",
   "execution_count": 19,
   "metadata": {
    "collapsed": false
   },
   "outputs": [
    {
     "name": "stdout",
     "output_type": "stream",
     "text": [
      "0 0.5 0.22521\n",
      "1 5.0653177985e+43 -89.76\n",
      "2 -inf nan\n",
      "3 nan nan\n",
      "4 nan nan\n",
      "5 nan nan\n",
      "6 nan nan\n",
      "7 nan nan\n",
      "8 nan nan\n",
      "9 nan nan\n",
      "10 nan nan\n",
      "11 nan nan\n",
      "12 nan nan\n",
      "13 nan nan\n",
      "14 nan nan\n",
      "15 nan nan\n",
      "16 nan nan\n",
      "17 nan nan\n",
      "18 nan nan\n",
      "19 nan nan\n",
      "20 nan nan\n",
      "21 nan nan\n",
      "22 nan nan\n",
      "23 nan nan\n",
      "24 nan nan\n",
      "25 nan nan\n",
      "26 nan nan\n",
      "27 nan nan\n",
      "28 nan nan\n",
      "29 nan nan\n",
      "30 nan nan\n",
      "31 nan nan\n",
      "32 nan nan\n",
      "33 nan nan\n",
      "34 nan nan\n",
      "35 nan nan\n",
      "36 nan nan\n",
      "37 nan nan\n",
      "38 nan nan\n",
      "39 nan nan\n",
      "40 nan nan\n",
      "41 nan nan\n",
      "42 nan nan\n",
      "43 nan nan\n",
      "44 nan nan\n",
      "45 nan nan\n",
      "46 nan nan\n",
      "47 nan nan\n",
      "48 nan nan\n",
      "49 nan nan\n",
      "50 nan nan\n",
      "51 nan nan\n",
      "52 nan nan\n",
      "53 nan nan\n",
      "54 nan nan\n",
      "55 nan nan\n",
      "56 nan nan\n",
      "57 nan nan\n",
      "58 nan nan\n",
      "59 nan nan\n",
      "60 nan nan\n",
      "61 nan nan\n",
      "62 nan nan\n",
      "63 nan nan\n",
      "64 nan nan\n",
      "65 nan nan\n",
      "66 nan nan\n",
      "67 nan nan\n",
      "68 nan nan\n",
      "69 nan nan\n",
      "70 nan nan\n",
      "71 nan nan\n",
      "72 nan nan\n",
      "73 nan nan\n",
      "74 nan nan\n",
      "75 nan nan\n",
      "76 nan nan\n",
      "77 nan nan\n",
      "78 nan nan\n",
      "79 nan nan\n",
      "80 nan nan\n",
      "81 nan nan\n",
      "82 nan nan\n",
      "83 nan nan\n",
      "84 nan nan\n",
      "85 nan nan\n",
      "86 nan nan\n",
      "87 nan nan\n",
      "88 nan nan\n",
      "89 nan nan\n",
      "90 nan nan\n",
      "91 nan nan\n",
      "92 nan nan\n",
      "93 nan nan\n",
      "94 nan nan\n",
      "95 nan nan\n",
      "96 nan nan\n",
      "97 nan nan\n",
      "98 nan nan\n",
      "99 nan nan\n",
      "Implied vol (call): nan%\n"
     ]
    },
    {
     "name": "stderr",
     "output_type": "stream",
     "text": [
      "C:\\Anaconda3\\lib\\site-packages\\ipykernel\\__main__.py:16: RuntimeWarning: divide by zero encountered in double_scalars\n",
      "C:\\Anaconda3\\lib\\site-packages\\ipykernel\\__main__.py:8: RuntimeWarning: invalid value encountered in double_scalars\n",
      "C:\\Anaconda3\\lib\\site-packages\\scipy\\stats\\_distn_infrastructure.py:1665: RuntimeWarning: invalid value encountered in greater\n",
      "  cond1 = (scale > 0) & (x > self.a) & (x < self.b)\n",
      "C:\\Anaconda3\\lib\\site-packages\\scipy\\stats\\_distn_infrastructure.py:1665: RuntimeWarning: invalid value encountered in less\n",
      "  cond1 = (scale > 0) & (x > self.a) & (x < self.b)\n",
      "C:\\Anaconda3\\lib\\site-packages\\scipy\\stats\\_distn_infrastructure.py:1666: RuntimeWarning: invalid value encountered in greater_equal\n",
      "  cond2 = (x >= self.b) & cond0\n",
      "C:\\Anaconda3\\lib\\site-packages\\ipykernel\\__main__.py:17: RuntimeWarning: invalid value encountered in double_scalars\n",
      "C:\\Anaconda3\\lib\\site-packages\\scipy\\stats\\_distn_infrastructure.py:1582: RuntimeWarning: invalid value encountered in greater_equal\n",
      "  cond1 = (scale > 0) & (x >= self.a) & (x <= self.b)\n",
      "C:\\Anaconda3\\lib\\site-packages\\scipy\\stats\\_distn_infrastructure.py:1582: RuntimeWarning: invalid value encountered in less_equal\n",
      "  cond1 = (scale > 0) & (x >= self.a) & (x <= self.b)\n",
      "C:\\Anaconda3\\lib\\site-packages\\ipykernel\\__main__.py:12: RuntimeWarning: invalid value encountered in rint\n"
     ]
    }
   ],
   "source": [
    "V_market = 63.45\n",
    "K = 90\n",
    "#T = (datetime.date(2014,10,18) - datetime.date(2014,9,8)).days / 365.\n",
    "T = 2 / 365.\n",
    "S = 153.21\n",
    "r = 0.03\n",
    "cp = 'c' # call option\n",
    "\n",
    "implied_vol_call = find_vol(V_market, cp, S, K, T, r)\n",
    "#implied_vol_put = find_vol(V_market, 'p', S, K, T, r)\n",
    "\n",
    "print('Implied vol (call): %.2f%%' % (implied_vol_call * 100) )\n",
    "#print('Implied vol (put): %.2f%%' % (implied_vol_put * 100) )"
   ]
  },
  {
   "cell_type": "code",
   "execution_count": null,
   "metadata": {
    "collapsed": true
   },
   "outputs": [],
   "source": []
  },
  {
   "cell_type": "code",
   "execution_count": null,
   "metadata": {
    "collapsed": true
   },
   "outputs": [],
   "source": []
  }
 ],
 "metadata": {
  "kernelspec": {
   "display_name": "Python 3",
   "language": "python",
   "name": "python3"
  },
  "language_info": {
   "codemirror_mode": {
    "name": "ipython",
    "version": 3
   },
   "file_extension": ".py",
   "mimetype": "text/x-python",
   "name": "python",
   "nbconvert_exporter": "python",
   "pygments_lexer": "ipython3",
   "version": "3.4.5"
  }
 },
 "nbformat": 4,
 "nbformat_minor": 0
}
