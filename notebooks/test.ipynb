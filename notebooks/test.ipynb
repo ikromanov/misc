{
 "cells": [
  {
   "cell_type": "code",
   "execution_count": 23,
   "metadata": {
    "collapsed": true
   },
   "outputs": [],
   "source": [
    "from scipy.stats import norm\n",
    "import datetime\n",
    "import numpy as np\n",
    "import math as m"
   ]
  },
  {
   "cell_type": "code",
   "execution_count": 92,
   "metadata": {
    "collapsed": true
   },
   "outputs": [],
   "source": [
    "def f(x):\n",
    "    return -math.pow(x-2,2) + 5\n",
    "\n",
    "def f_prime(x):\n",
    "    return -2*(x-2)"
   ]
  },
  {
   "cell_type": "code",
   "execution_count": 109,
   "metadata": {
    "collapsed": false
   },
   "outputs": [],
   "source": [
    "def newton(target_value, init_x=1):\n",
    "    MAX_ITERATIONS = 1000\n",
    "    PRECISION = 1.0e-5\n",
    "\n",
    "    x = init_x\n",
    "    for i in range(0, MAX_ITERATIONS):\n",
    "        f_value = f(x)\n",
    "        f_prime_value = f_prime(x)\n",
    "\n",
    "        diff = f_value - target_value # our root\n",
    "\n",
    "        print(i,', x =',round(x,3),', diff =',round(diff,3))\n",
    "\n",
    "        if (abs(diff) < PRECISION):\n",
    "            return x\n",
    "        x = x - diff/f_prime_value # f(x) / f'(x)\n",
    "\n",
    "    # value wasn't found, return best guess so far\n",
    "    return(x)"
   ]
  },
  {
   "cell_type": "code",
   "execution_count": 115,
   "metadata": {
    "collapsed": false
   },
   "outputs": [
    {
     "name": "stdout",
     "output_type": "stream",
     "text": [
      "0 , x = 1 , diff = 5.0\n",
      "1 , x = -1.5 , diff = -6.25\n",
      "2 , x = -0.607 , diff = -0.797\n",
      "3 , x = -0.454 , diff = -0.023\n",
      "4 , x = -0.449 , diff = -0.0\n",
      "5 , x = -0.449 , diff = -0.0\n"
     ]
    },
    {
     "data": {
      "text/plain": [
       "-0.44948974278755144"
      ]
     },
     "execution_count": 115,
     "metadata": {},
     "output_type": "execute_result"
    }
   ],
   "source": [
    "newton(-1)"
   ]
  },
  {
   "cell_type": "code",
   "execution_count": 116,
   "metadata": {
    "collapsed": false
   },
   "outputs": [
    {
     "data": {
      "text/plain": [
       "274877906944"
      ]
     },
     "execution_count": 116,
     "metadata": {},
     "output_type": "execute_result"
    }
   ],
   "source": [
    "2**38"
   ]
  },
  {
   "cell_type": "code",
   "execution_count": 127,
   "metadata": {
    "collapsed": true
   },
   "outputs": [],
   "source": [
    "import string\n",
    "\n",
    "def mapping(s):\n",
    "    alphabet = list(string.ascii_lowercase)\n",
    "    good_chars = [' ', ',', '.', '(', ')']\n",
    "    mapped_string = ''\n",
    "    for l in s:\n",
    "        if l not in good_chars:\n",
    "            index = alphabet.index(l)\n",
    "            new_index = (index+2) % len(alphabet)\n",
    "            mapped_char = alphabet[new_index]\n",
    "        else:\n",
    "            mapped_char = l\n",
    "            \n",
    "        mapped_string += mapped_char\n",
    "        \n",
    "    return mapped_string"
   ]
  },
  {
   "cell_type": "code",
   "execution_count": 128,
   "metadata": {
    "collapsed": false
   },
   "outputs": [
    {
     "data": {
      "text/plain": [
       "'i hope you didnt translate it by hand. thats what computers are for. doing it in by hand is inefficient and thats why this text is so long. using string.maketrans() is recommended. now apply on the url.'"
      ]
     },
     "execution_count": 128,
     "metadata": {},
     "output_type": "execute_result"
    }
   ],
   "source": [
    "mapping('g fmnc wms bgblr rpylqjyrc gr zw fylb. rfyrq ufyr amknsrcpq ypc dmp. bmgle gr gl zw fylb gq glcddgagclr ylb rfyrq ufw rfgq rcvr gq qm jmle. sqgle qrpgle.kyicrpylq() gq pcamkkclbcb. lmu ynnjw ml rfc spj.')"
   ]
  },
  {
   "cell_type": "code",
   "execution_count": 129,
   "metadata": {
    "collapsed": false
   },
   "outputs": [
    {
     "data": {
      "text/plain": [
       "'ocr'"
      ]
     },
     "execution_count": 129,
     "metadata": {},
     "output_type": "execute_result"
    }
   ],
   "source": [
    "mapping('map')"
   ]
  },
  {
   "cell_type": "code",
   "execution_count": null,
   "metadata": {
    "collapsed": true
   },
   "outputs": [],
   "source": []
  }
 ],
 "metadata": {
  "kernelspec": {
   "display_name": "Python 3",
   "language": "python",
   "name": "python3"
  },
  "language_info": {
   "codemirror_mode": {
    "name": "ipython",
    "version": 3
   },
   "file_extension": ".py",
   "mimetype": "text/x-python",
   "name": "python",
   "nbconvert_exporter": "python",
   "pygments_lexer": "ipython3",
   "version": "3.4.5"
  }
 },
 "nbformat": 4,
 "nbformat_minor": 0
}
