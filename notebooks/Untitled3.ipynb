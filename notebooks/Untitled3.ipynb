{
 "cells": [
  {
   "cell_type": "code",
   "execution_count": 68,
   "id": "98cebb67",
   "metadata": {},
   "outputs": [],
   "source": [
    "import pandas as pd\n",
    "import numpy as np\n",
    "\n",
    "import matplotlib.pyplot as plt\n",
    "%matplotlib inline"
   ]
  },
  {
   "cell_type": "code",
   "execution_count": 69,
   "id": "44d5e6a7",
   "metadata": {},
   "outputs": [],
   "source": [
    "def generate_data(init_value=100, N=200, rate=0.03):\n",
    "    result = [init_value]\n",
    "    value = init_value\n",
    "    for i in range(N):\n",
    "        value *= (1 + rate)\n",
    "        result.append(value)\n",
    "    return result"
   ]
  },
  {
   "cell_type": "code",
   "execution_count": 70,
   "id": "96811c15",
   "metadata": {},
   "outputs": [],
   "source": [
    "init_value = 1\n",
    "N = 100\n",
    "rate = 0.03\n",
    "data = np.array(generate_data(init_value, N, rate))"
   ]
  },
  {
   "cell_type": "code",
   "execution_count": 78,
   "id": "45f715e3",
   "metadata": {},
   "outputs": [
    {
     "data": {
      "text/plain": [
       "<matplotlib.lines.Line2D at 0x7fec206e3f90>"
      ]
     },
     "execution_count": 78,
     "metadata": {},
     "output_type": "execute_result"
    },
    {
     "data": {
      "image/png": "[encoded data removed]",
      "text/plain": [
       "<Figure size 432x288 with 1 Axes>"
      ]
     },
     "metadata": {
      "needs_background": "light"
     },
     "output_type": "display_data"
    }
   ],
   "source": [
    "# initialize variables\n",
    "init_value = 1\n",
    "X = 2\n",
    "math.log(X, 1+rate)\n",
    "N = int(math.log(X, 1+rate) * 5)\n",
    "rate = 0.03\n",
    "data = np.array(generate_data(init_value, N, rate))\n",
    "\n",
    "# plot\n",
    "plt.plot(data)\n",
    "plt.axhline(X*init_value, color='r', linestyle='-')\n",
    "plt.axvline(math.log(X, 1+rate), color='r', linestyle='-')"
   ]
  },
  {
   "cell_type": "code",
   "execution_count": 43,
   "id": "7e15c6a8",
   "metadata": {},
   "outputs": [],
   "source": [
    "import math"
   ]
  },
  {
   "cell_type": "code",
   "execution_count": 50,
   "id": "0afe325d",
   "metadata": {},
   "outputs": [
    {
     "data": {
      "text/plain": [
       "77.89845725743918"
      ]
     },
     "execution_count": 50,
     "metadata": {},
     "output_type": "execute_result"
    }
   ],
   "source": [
    "math.log(10, 1.03)"
   ]
  },
  {
   "cell_type": "code",
   "execution_count": null,
   "id": "f59c05dc",
   "metadata": {},
   "outputs": [],
   "source": []
  }
 ],
 "metadata": {
  "kernelspec": {
   "display_name": "Python 3 (ipykernel)",
   "language": "python",
   "name": "python3"
  },
  "language_info": {
   "codemirror_mode": {
    "name": "ipython",
    "version": 3
   },
   "file_extension": ".py",
   "mimetype": "text/x-python",
   "name": "python",
   "nbconvert_exporter": "python",
   "pygments_lexer": "ipython3",
   "version": "3.7.13"
  }
 },
 "nbformat": 4,
 "nbformat_minor": 5
}
