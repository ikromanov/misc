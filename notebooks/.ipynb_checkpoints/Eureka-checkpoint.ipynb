{
 "cells": [
  {
   "cell_type": "markdown",
   "metadata": {
    "collapsed": false
   },
   "source": [
    "This is a very well known game where one needs to extend the sequence:\n",
    "1\n",
    "11\n",
    "21\n",
    "1211\n",
    "111221\n",
    "?\n",
    "\n",
    "What is the next value in this sequence?"
   ]
  },
  {
   "cell_type": "code",
   "execution_count": 17,
   "metadata": {
    "collapsed": true
   },
   "outputs": [],
   "source": [
    "import numpy as np\n",
    "import matplotlib.pyplot as plt\n",
    "%matplotlib inline"
   ]
  },
  {
   "cell_type": "code",
   "execution_count": 2,
   "metadata": {
    "collapsed": true
   },
   "outputs": [],
   "source": [
    "import sys"
   ]
  },
  {
   "cell_type": "code",
   "execution_count": 3,
   "metadata": {
    "collapsed": true
   },
   "outputs": [],
   "source": [
    "# Function to get next value in the sequence\n",
    "# Input:\n",
    "#   digits - list of values\n",
    "# Output:\n",
    "#   new_digits - derived (next) list of values\n",
    "def get_next(digits):\n",
    "    new_digits = []\n",
    "    count = 0\n",
    "    prev = digits[0]\n",
    "    for i in digits:\n",
    "        if i == prev:\n",
    "            count += 1\n",
    "        else:\n",
    "            new_digits.extend((count,prev))\n",
    "            count = 1\n",
    "            prev = i\n",
    "    new_digits.extend((count,prev))\n",
    "    return new_digits"
   ]
  },
  {
   "cell_type": "code",
   "execution_count": 4,
   "metadata": {
    "collapsed": true
   },
   "outputs": [],
   "source": [
    "def get_seq(value, N=10):\n",
    "    seq = []\n",
    "    for i in range(N):\n",
    "        new_val = get_next(value)\n",
    "        seq.append(new_val)\n",
    "        value = new_val\n",
    "    return seq"
   ]
  },
  {
   "cell_type": "code",
   "execution_count": 5,
   "metadata": {
    "collapsed": false
   },
   "outputs": [],
   "source": [
    "def get_ratio_list(seq):\n",
    "    ratio_list = []\n",
    "    for i in range(len(seq)):\n",
    "        ratio_list.append(len(seq[i])/len(seq[i-1]))\n",
    "    return ratio_list"
   ]
  },
  {
   "cell_type": "code",
   "execution_count": 14,
   "metadata": {
    "collapsed": true
   },
   "outputs": [],
   "source": [
    "# Define the sequence of the ratios of lengths of 2 consequent sequences (sorry for the language!)\n",
    "def get_ratio_list_2(value, N=30):\n",
    "    ratio_list = []\n",
    "    for i in range(N):\n",
    "        new_val = get_next(value)\n",
    "        ratio = len(new_val)/len(value)\n",
    "        ratio_list.append(ratio)\n",
    "        value = new_val\n",
    "    return ratio_list"
   ]
  },
  {
   "cell_type": "code",
   "execution_count": 7,
   "metadata": {
    "collapsed": false
   },
   "outputs": [],
   "source": [
    "start_value = [1]"
   ]
  },
  {
   "cell_type": "code",
   "execution_count": 8,
   "metadata": {
    "collapsed": false,
    "scrolled": true
   },
   "outputs": [],
   "source": [
    "seq = get_seq(start_value, N=50)"
   ]
  },
  {
   "cell_type": "code",
   "execution_count": 9,
   "metadata": {
    "collapsed": false
   },
   "outputs": [],
   "source": [
    "ratio_list = get_ratio_list(seq)"
   ]
  },
  {
   "cell_type": "code",
   "execution_count": 10,
   "metadata": {
    "collapsed": false
   },
   "outputs": [
    {
     "data": {
      "text/plain": [
       "[<matplotlib.lines.Line2D at 0x7fa4c8099e48>]"
      ]
     },
     "execution_count": 10,
     "metadata": {},
     "output_type": "execute_result"
    },
    {
     "data": {
      "image/png": "[encoded data removed]",
      "text/plain": [
       "<matplotlib.figure.Figure at 0x7fa4c8148518>"
      ]
     },
     "metadata": {},
     "output_type": "display_data"
    }
   ],
   "source": [
    "# Show plot of last 20 values\n",
    "plt.plot(ratio_list[-20:])"
   ]
  },
  {
   "cell_type": "code",
   "execution_count": 11,
   "metadata": {
    "collapsed": false
   },
   "outputs": [
    {
     "data": {
      "text/plain": [
       "1.3037873962070161"
      ]
     },
     "execution_count": 11,
     "metadata": {},
     "output_type": "execute_result"
    }
   ],
   "source": [
    "ratio_list[-1]"
   ]
  },
  {
   "cell_type": "code",
   "execution_count": 15,
   "metadata": {
    "collapsed": false
   },
   "outputs": [],
   "source": [
    "ratio_list2 = get_ratio_list_2(start_value, 50)"
   ]
  },
  {
   "cell_type": "code",
   "execution_count": null,
   "metadata": {
    "collapsed": true
   },
   "outputs": [],
   "source": [
    "# Show plot of last 20 values\n",
    "plt.plot(ratio_list2[-25:])"
   ]
  }
 ],
 "metadata": {
  "anaconda-cloud": {},
  "kernelspec": {
   "display_name": "Python [Root]",
   "language": "python",
   "name": "Python [Root]"
  },
  "language_info": {
   "codemirror_mode": {
    "name": "ipython",
    "version": 3
   },
   "file_extension": ".py",
   "mimetype": "text/x-python",
   "name": "python",
   "nbconvert_exporter": "python",
   "pygments_lexer": "ipython3",
   "version": "3.5.2"
  }
 },
 "nbformat": 4,
 "nbformat_minor": 0
}
