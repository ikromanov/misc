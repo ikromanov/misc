{
 "cells": [
  {
   "cell_type": "code",
   "execution_count": 1,
   "metadata": {},
   "outputs": [],
   "source": [
    "import pandas as pd\n",
    "import numpy as np\n",
    "import datetime as dt\n",
    "import matplotlib\n",
    "import matplotlib.pyplot as plt\n",
    "%matplotlib inline"
   ]
  },
  {
   "cell_type": "code",
   "execution_count": 2,
   "metadata": {},
   "outputs": [],
   "source": [
    "# Categorize transactions into more generic groups to avoid too many categories\n",
    "def main_categories(category):\n",
    "    categories = {\n",
    "        ('Groceries','Shopping','Restaurants','Fast Food','Coffee Shops','Food & Dining','Alcohol & Bars'):'Food',\n",
    "        ('Parking', 'Service & Parts', 'Auto & Transport', 'Rental Car & Taxi','Public Transportation'):'Transportation',\n",
    "        ('Gas & Fuel','adf'):'Gas',\n",
    "        ('Babysitter & Daycare','Kids Activities'): 'Nina',\n",
    "        ('Home Improvement','Furnishings','Home Services','Home'): 'House',\n",
    "        ('Pharmacy','Personal Care', 'Hair','Doctor','Eyecare'): 'Health',\n",
    "        ('Clothing','Books'):'Shopping',\n",
    "        ('Music','Newspapers & Magazines','Amusement', 'Movies & DVDs','Entertainment'):'Entertainment',\n",
    "        ('Finance Charge','asfdasdf'): 'Finance Charge',\n",
    "        ('Mobile Phone','Internet'): 'Bills',\n",
    "        ('Gift','Charity'): 'Gift'\n",
    "    }\n",
    "\n",
    "    categories_map = {}\n",
    "    for k, v in categories.items():\n",
    "        for key in k:\n",
    "            categories_map[key] = v\n",
    "            \n",
    "    if category not in categories_map.keys():\n",
    "        categories_map[category] = 'Other'\n",
    "            \n",
    "    return categories_map.get(category)"
   ]
  },
  {
   "cell_type": "code",
   "execution_count": 3,
   "metadata": {},
   "outputs": [],
   "source": [
    "def all_data_df(transactions_file):\n",
    "    # import data\n",
    "    all_data = pd.read_csv(transactions_file)\n",
    "\n",
    "    # Modify columns\n",
    "    all_data.drop(columns=['Labels','Notes'], inplace=True)\n",
    "    all_data['Date'] = pd.to_datetime(all_data['Date'], format='%m/%d/%Y')\n",
    "    all_data['Main_Category'] = all_data.apply(\n",
    "        lambda row: main_categories(row.Category), axis=1)\n",
    "    \n",
    "    return all_data"
   ]
  },
  {
   "cell_type": "code",
   "execution_count": 35,
   "metadata": {},
   "outputs": [],
   "source": [
    "# Extract expenses for the [start, end] period\n",
    "def range_expenses(data_df, start, end):\n",
    "    range_exp = data_df.loc[(data_df['Date'] >= start) &\n",
    "                          (data_df['Date'] <= end) &\n",
    "                          (data_df['Transaction Type'] == 'debit') &\n",
    "                          (data_df['Account Name'] == 'Ivan Credit Sapphire')\n",
    "                        ]\n",
    "    return range_exp"
   ]
  },
  {
   "cell_type": "code",
   "execution_count": 63,
   "metadata": {},
   "outputs": [],
   "source": [
    "transact_file = '../input/transactions2.csv'\n",
    "all_data = all_data_df(transact_file)\n",
    "\n",
    "start_date = dt.datetime(2022, 1, 1)\n",
    "end_date = dt.datetime(2022, 12, 30)\n",
    "month = end_date.strftime('%Y')\n",
    "# Take a look at August 2021\n",
    "exp_df = range_expenses(all_data, start_date, end_date)"
   ]
  },
  {
   "cell_type": "code",
   "execution_count": 64,
   "metadata": {},
   "outputs": [
    {
     "data": {
      "text/html": [
       "<div>\n",
       "<style scoped>\n",
       "    .dataframe tbody tr th:only-of-type {\n",
       "        vertical-align: middle;\n",
       "    }\n",
       "\n",
       "    .dataframe tbody tr th {\n",
       "        vertical-align: top;\n",
       "    }\n",
       "\n",
       "    .dataframe thead th {\n",
       "        text-align: right;\n",
       "    }\n",
       "</style>\n",
       "<table border=\"1\" class=\"dataframe\">\n",
       "  <thead>\n",
       "    <tr style=\"text-align: right;\">\n",
       "      <th></th>\n",
       "      <th>Date</th>\n",
       "      <th>Description</th>\n",
       "      <th>Original Description</th>\n",
       "      <th>Amount</th>\n",
       "      <th>Transaction Type</th>\n",
       "      <th>Category</th>\n",
       "      <th>Account Name</th>\n",
       "      <th>Main_Category</th>\n",
       "    </tr>\n",
       "  </thead>\n",
       "  <tbody>\n",
       "    <tr>\n",
       "      <th>0</th>\n",
       "      <td>2022-12-06</td>\n",
       "      <td>Express Stop</td>\n",
       "      <td>FOOD EXPRESS TOBYHANNA</td>\n",
       "      <td>49.54</td>\n",
       "      <td>debit</td>\n",
       "      <td>Gas &amp; Fuel</td>\n",
       "      <td>Ivan Credit Sapphire</td>\n",
       "      <td>Gas</td>\n",
       "    </tr>\n",
       "    <tr>\n",
       "      <th>1</th>\n",
       "      <td>2022-12-06</td>\n",
       "      <td>Express Stop</td>\n",
       "      <td>FOOD EXPRESS TOBYHANNA</td>\n",
       "      <td>1.59</td>\n",
       "      <td>debit</td>\n",
       "      <td>Gas &amp; Fuel</td>\n",
       "      <td>Ivan Credit Sapphire</td>\n",
       "      <td>Gas</td>\n",
       "    </tr>\n",
       "    <tr>\n",
       "      <th>2</th>\n",
       "      <td>2022-12-06</td>\n",
       "      <td>Express Stop</td>\n",
       "      <td>FOOD EXPRESS TOBYHANNA</td>\n",
       "      <td>65.95</td>\n",
       "      <td>debit</td>\n",
       "      <td>Gas &amp; Fuel</td>\n",
       "      <td>Ivan Credit Sapphire</td>\n",
       "      <td>Gas</td>\n",
       "    </tr>\n",
       "    <tr>\n",
       "      <th>3</th>\n",
       "      <td>2022-12-06</td>\n",
       "      <td>DUNKIN #357324</td>\n",
       "      <td>DUNKIN #357324</td>\n",
       "      <td>1.59</td>\n",
       "      <td>debit</td>\n",
       "      <td>Coffee Shops</td>\n",
       "      <td>Ivan Credit Sapphire</td>\n",
       "      <td>Food</td>\n",
       "    </tr>\n",
       "    <tr>\n",
       "      <th>4</th>\n",
       "      <td>2022-12-06</td>\n",
       "      <td>ORIG CO NAME:PAYMENT FOR AMZ  CO</td>\n",
       "      <td>ORIG CO NAME:PAYMENT FOR AMZ  CO</td>\n",
       "      <td>123.44</td>\n",
       "      <td>debit</td>\n",
       "      <td>Shopping</td>\n",
       "      <td>Ivan Debit Chase</td>\n",
       "      <td>Food</td>\n",
       "    </tr>\n",
       "  </tbody>\n",
       "</table>\n",
       "</div>"
      ],
      "text/plain": [
       "        Date                       Description  \\\n",
       "0 2022-12-06                      Express Stop   \n",
       "1 2022-12-06                      Express Stop   \n",
       "2 2022-12-06                      Express Stop   \n",
       "3 2022-12-06                    DUNKIN #357324   \n",
       "4 2022-12-06  ORIG CO NAME:PAYMENT FOR AMZ  CO   \n",
       "\n",
       "               Original Description  Amount Transaction Type      Category  \\\n",
       "0            FOOD EXPRESS TOBYHANNA   49.54            debit    Gas & Fuel   \n",
       "1            FOOD EXPRESS TOBYHANNA    1.59            debit    Gas & Fuel   \n",
       "2            FOOD EXPRESS TOBYHANNA   65.95            debit    Gas & Fuel   \n",
       "3                    DUNKIN #357324    1.59            debit  Coffee Shops   \n",
       "4  ORIG CO NAME:PAYMENT FOR AMZ  CO  123.44            debit      Shopping   \n",
       "\n",
       "           Account Name Main_Category  \n",
       "0  Ivan Credit Sapphire           Gas  \n",
       "1  Ivan Credit Sapphire           Gas  \n",
       "2  Ivan Credit Sapphire           Gas  \n",
       "3  Ivan Credit Sapphire          Food  \n",
       "4      Ivan Debit Chase          Food  "
      ]
     },
     "execution_count": 64,
     "metadata": {},
     "output_type": "execute_result"
    }
   ],
   "source": [
    "all_data.head()"
   ]
  },
  {
   "cell_type": "code",
   "execution_count": 65,
   "metadata": {
    "scrolled": true
   },
   "outputs": [
    {
     "data": {
      "text/html": [
       "<div>\n",
       "<style scoped>\n",
       "    .dataframe tbody tr th:only-of-type {\n",
       "        vertical-align: middle;\n",
       "    }\n",
       "\n",
       "    .dataframe tbody tr th {\n",
       "        vertical-align: top;\n",
       "    }\n",
       "\n",
       "    .dataframe thead th {\n",
       "        text-align: right;\n",
       "    }\n",
       "</style>\n",
       "<table border=\"1\" class=\"dataframe\">\n",
       "  <thead>\n",
       "    <tr style=\"text-align: right;\">\n",
       "      <th></th>\n",
       "      <th>Date</th>\n",
       "      <th>Description</th>\n",
       "      <th>Original Description</th>\n",
       "      <th>Amount</th>\n",
       "      <th>Transaction Type</th>\n",
       "      <th>Category</th>\n",
       "      <th>Account Name</th>\n",
       "      <th>Main_Category</th>\n",
       "    </tr>\n",
       "  </thead>\n",
       "  <tbody>\n",
       "    <tr>\n",
       "      <th>0</th>\n",
       "      <td>2022-12-06</td>\n",
       "      <td>Express Stop</td>\n",
       "      <td>FOOD EXPRESS TOBYHANNA</td>\n",
       "      <td>49.54</td>\n",
       "      <td>debit</td>\n",
       "      <td>Gas &amp; Fuel</td>\n",
       "      <td>Ivan Credit Sapphire</td>\n",
       "      <td>Gas</td>\n",
       "    </tr>\n",
       "    <tr>\n",
       "      <th>1</th>\n",
       "      <td>2022-12-06</td>\n",
       "      <td>Express Stop</td>\n",
       "      <td>FOOD EXPRESS TOBYHANNA</td>\n",
       "      <td>1.59</td>\n",
       "      <td>debit</td>\n",
       "      <td>Gas &amp; Fuel</td>\n",
       "      <td>Ivan Credit Sapphire</td>\n",
       "      <td>Gas</td>\n",
       "    </tr>\n",
       "    <tr>\n",
       "      <th>2</th>\n",
       "      <td>2022-12-06</td>\n",
       "      <td>Express Stop</td>\n",
       "      <td>FOOD EXPRESS TOBYHANNA</td>\n",
       "      <td>65.95</td>\n",
       "      <td>debit</td>\n",
       "      <td>Gas &amp; Fuel</td>\n",
       "      <td>Ivan Credit Sapphire</td>\n",
       "      <td>Gas</td>\n",
       "    </tr>\n",
       "    <tr>\n",
       "      <th>3</th>\n",
       "      <td>2022-12-06</td>\n",
       "      <td>DUNKIN #357324</td>\n",
       "      <td>DUNKIN #357324</td>\n",
       "      <td>1.59</td>\n",
       "      <td>debit</td>\n",
       "      <td>Coffee Shops</td>\n",
       "      <td>Ivan Credit Sapphire</td>\n",
       "      <td>Food</td>\n",
       "    </tr>\n",
       "    <tr>\n",
       "      <th>6</th>\n",
       "      <td>2022-12-05</td>\n",
       "      <td>AMK LIBERTY SCIENCE CENTE</td>\n",
       "      <td>AMK LIBERTY SCIENCE CENTE</td>\n",
       "      <td>8.00</td>\n",
       "      <td>debit</td>\n",
       "      <td>Restaurants</td>\n",
       "      <td>Ivan Credit Sapphire</td>\n",
       "      <td>Food</td>\n",
       "    </tr>\n",
       "  </tbody>\n",
       "</table>\n",
       "</div>"
      ],
      "text/plain": [
       "        Date                Description       Original Description  Amount  \\\n",
       "0 2022-12-06               Express Stop     FOOD EXPRESS TOBYHANNA   49.54   \n",
       "1 2022-12-06               Express Stop     FOOD EXPRESS TOBYHANNA    1.59   \n",
       "2 2022-12-06               Express Stop     FOOD EXPRESS TOBYHANNA   65.95   \n",
       "3 2022-12-06             DUNKIN #357324             DUNKIN #357324    1.59   \n",
       "6 2022-12-05  AMK LIBERTY SCIENCE CENTE  AMK LIBERTY SCIENCE CENTE    8.00   \n",
       "\n",
       "  Transaction Type      Category          Account Name Main_Category  \n",
       "0            debit    Gas & Fuel  Ivan Credit Sapphire           Gas  \n",
       "1            debit    Gas & Fuel  Ivan Credit Sapphire           Gas  \n",
       "2            debit    Gas & Fuel  Ivan Credit Sapphire           Gas  \n",
       "3            debit  Coffee Shops  Ivan Credit Sapphire          Food  \n",
       "6            debit   Restaurants  Ivan Credit Sapphire          Food  "
      ]
     },
     "execution_count": 65,
     "metadata": {},
     "output_type": "execute_result"
    }
   ],
   "source": [
    "exp_df.head()"
   ]
  },
  {
   "cell_type": "markdown",
   "metadata": {},
   "source": [
    "# Expenses"
   ]
  },
  {
   "cell_type": "markdown",
   "metadata": {},
   "source": [
    "In this section we are analyzing the expenses with some visual representation of data.\n",
    "First, how the expenses are distrubuted across the month."
   ]
  },
  {
   "cell_type": "code",
   "execution_count": 48,
   "metadata": {},
   "outputs": [
    {
     "data": {
      "text/plain": [
       "<AxesSubplot:xlabel='Date'>"
      ]
     },
     "execution_count": 48,
     "metadata": {},
     "output_type": "execute_result"
    },
    {
     "data": {
      "image/png": "[encoded data removed]",
      "text/plain": [
       "<Figure size 432x288 with 1 Axes>"
      ]
     },
     "metadata": {
      "needs_background": "light"
     },
     "output_type": "display_data"
    }
   ],
   "source": [
    "# See how expenses are distributed across the time range selected\n",
    "exp_rev = exp_df.iloc[::-1].reset_index(drop=True)\n",
    "exp_rev = exp_rev.groupby(['Date']).sum()\n",
    "exp_rev['Amount'].cumsum().plot()"
   ]
  },
  {
   "cell_type": "code",
   "execution_count": 40,
   "metadata": {},
   "outputs": [
    {
     "data": {
      "text/plain": [
       "Text(92.40889289392372, 422.415, 'Mean: 84.01')"
      ]
     },
     "execution_count": 40,
     "metadata": {},
     "output_type": "execute_result"
    },
    {
     "data": {
      "image/png": "[encoded data removed]",
      "text/plain": [
       "<Figure size 864x576 with 1 Axes>"
      ]
     },
     "metadata": {
      "needs_background": "light"
     },
     "output_type": "display_data"
    }
   ],
   "source": [
    "x = exp_df['Amount']\n",
    "plt.figure(figsize=(12,8))\n",
    "result = plt.hist(x, bins=50)\n",
    "plt.axvline(x.mean(), color='r', linestyle='dashed', linewidth=3)\n",
    "min_ylim, max_ylim = plt.ylim()\n",
    "plt.text(x.mean()*1.1, max_ylim*0.9, 'Mean: {:.2f}'.format(x.mean()))"
   ]
  },
  {
   "cell_type": "code",
   "execution_count": 305,
   "metadata": {},
   "outputs": [],
   "source": [
    "#all_data[all_data.Amount < 500].hist(bins=100, figsize=(12,8))"
   ]
  },
  {
   "cell_type": "code",
   "execution_count": 367,
   "metadata": {},
   "outputs": [],
   "source": [
    "# Check if any Main_Categories can be added\n",
    "#exp_df[exp_df.Main_Category == 'Other']"
   ]
  },
  {
   "cell_type": "code",
   "execution_count": 53,
   "metadata": {},
   "outputs": [],
   "source": [
    "exp_by_category = exp_df.groupby(['Main_Category']).sum()"
   ]
  },
  {
   "cell_type": "code",
   "execution_count": 54,
   "metadata": {},
   "outputs": [
    {
     "data": {
      "text/html": [
       "<div>\n",
       "<style scoped>\n",
       "    .dataframe tbody tr th:only-of-type {\n",
       "        vertical-align: middle;\n",
       "    }\n",
       "\n",
       "    .dataframe tbody tr th {\n",
       "        vertical-align: top;\n",
       "    }\n",
       "\n",
       "    .dataframe thead th {\n",
       "        text-align: right;\n",
       "    }\n",
       "</style>\n",
       "<table border=\"1\" class=\"dataframe\">\n",
       "  <thead>\n",
       "    <tr style=\"text-align: right;\">\n",
       "      <th></th>\n",
       "      <th>Amount</th>\n",
       "    </tr>\n",
       "    <tr>\n",
       "      <th>Main_Category</th>\n",
       "      <th></th>\n",
       "    </tr>\n",
       "  </thead>\n",
       "  <tbody>\n",
       "    <tr>\n",
       "      <th>Food</th>\n",
       "      <td>23090.73</td>\n",
       "    </tr>\n",
       "    <tr>\n",
       "      <th>Other</th>\n",
       "      <td>17975.51</td>\n",
       "    </tr>\n",
       "    <tr>\n",
       "      <th>Nina</th>\n",
       "      <td>11037.55</td>\n",
       "    </tr>\n",
       "    <tr>\n",
       "      <th>Shopping</th>\n",
       "      <td>6714.09</td>\n",
       "    </tr>\n",
       "    <tr>\n",
       "      <th>Gas</th>\n",
       "      <td>6554.69</td>\n",
       "    </tr>\n",
       "    <tr>\n",
       "      <th>Transportation</th>\n",
       "      <td>6496.12</td>\n",
       "    </tr>\n",
       "    <tr>\n",
       "      <th>Bills</th>\n",
       "      <td>2468.51</td>\n",
       "    </tr>\n",
       "    <tr>\n",
       "      <th>House</th>\n",
       "      <td>1954.40</td>\n",
       "    </tr>\n",
       "    <tr>\n",
       "      <th>Finance Charge</th>\n",
       "      <td>1557.46</td>\n",
       "    </tr>\n",
       "    <tr>\n",
       "      <th>Health</th>\n",
       "      <td>1281.66</td>\n",
       "    </tr>\n",
       "    <tr>\n",
       "      <th>Gift</th>\n",
       "      <td>1255.99</td>\n",
       "    </tr>\n",
       "    <tr>\n",
       "      <th>Entertainment</th>\n",
       "      <td>1185.14</td>\n",
       "    </tr>\n",
       "  </tbody>\n",
       "</table>\n",
       "</div>"
      ],
      "text/plain": [
       "                  Amount\n",
       "Main_Category           \n",
       "Food            23090.73\n",
       "Other           17975.51\n",
       "Nina            11037.55\n",
       "Shopping         6714.09\n",
       "Gas              6554.69\n",
       "Transportation   6496.12\n",
       "Bills            2468.51\n",
       "House            1954.40\n",
       "Finance Charge   1557.46\n",
       "Health           1281.66\n",
       "Gift             1255.99\n",
       "Entertainment    1185.14"
      ]
     },
     "execution_count": 54,
     "metadata": {},
     "output_type": "execute_result"
    }
   ],
   "source": [
    "exp_by_category.sort_values('Amount', ascending = False)"
   ]
  },
  {
   "cell_type": "code",
   "execution_count": 58,
   "metadata": {},
   "outputs": [
    {
     "name": "stdout",
     "output_type": "stream",
     "text": [
      "Total for 2023: 81571.85\n"
     ]
    }
   ],
   "source": [
    "print('Total for {}: {:.2f}'.format(month, exp_df.Amount.sum()))"
   ]
  },
  {
   "cell_type": "code",
   "execution_count": 59,
   "metadata": {},
   "outputs": [
    {
     "data": {
      "text/plain": [
       "<AxesSubplot:ylabel='Amount'>"
      ]
     },
     "execution_count": 59,
     "metadata": {},
     "output_type": "execute_result"
    },
    {
     "data": {
      "image/png": "[encoded data removed]",
      "text/plain": [
       "<Figure size 1080x1080 with 1 Axes>"
      ]
     },
     "metadata": {},
     "output_type": "display_data"
    }
   ],
   "source": [
    "exp_by_category.plot.pie(y='Amount', figsize=(15,15))"
   ]
  },
  {
   "cell_type": "code",
   "execution_count": 60,
   "metadata": {},
   "outputs": [],
   "source": [
    "exp_by_merch = exp_df.groupby(['Description']).sum()"
   ]
  },
  {
   "cell_type": "code",
   "execution_count": 61,
   "metadata": {},
   "outputs": [
    {
     "data": {
      "text/html": [
       "<div>\n",
       "<style scoped>\n",
       "    .dataframe tbody tr th:only-of-type {\n",
       "        vertical-align: middle;\n",
       "    }\n",
       "\n",
       "    .dataframe tbody tr th {\n",
       "        vertical-align: top;\n",
       "    }\n",
       "\n",
       "    .dataframe thead th {\n",
       "        text-align: right;\n",
       "    }\n",
       "</style>\n",
       "<table border=\"1\" class=\"dataframe\">\n",
       "  <thead>\n",
       "    <tr style=\"text-align: right;\">\n",
       "      <th></th>\n",
       "      <th>Amount</th>\n",
       "    </tr>\n",
       "    <tr>\n",
       "      <th>Description</th>\n",
       "      <th></th>\n",
       "    </tr>\n",
       "  </thead>\n",
       "  <tbody>\n",
       "    <tr>\n",
       "      <th>PY *WEE WONS</th>\n",
       "      <td>11005.55</td>\n",
       "    </tr>\n",
       "    <tr>\n",
       "      <th>Express Stop</th>\n",
       "      <td>4414.22</td>\n",
       "    </tr>\n",
       "    <tr>\n",
       "      <th>AE.COM</th>\n",
       "      <td>2953.00</td>\n",
       "    </tr>\n",
       "    <tr>\n",
       "      <th>THE TIRE RACK</th>\n",
       "      <td>2434.73</td>\n",
       "    </tr>\n",
       "    <tr>\n",
       "      <th>GEICO  *AUTO</th>\n",
       "      <td>2274.24</td>\n",
       "    </tr>\n",
       "    <tr>\n",
       "      <th>BUTCHERBOX, LLC</th>\n",
       "      <td>1857.00</td>\n",
       "    </tr>\n",
       "    <tr>\n",
       "      <th>CL *Chase Travel</th>\n",
       "      <td>1774.11</td>\n",
       "    </tr>\n",
       "    <tr>\n",
       "      <th>PURCHASE INTEREST CHARGE</th>\n",
       "      <td>1557.46</td>\n",
       "    </tr>\n",
       "    <tr>\n",
       "      <th>GIANT MARTINS #6504</th>\n",
       "      <td>1492.12</td>\n",
       "    </tr>\n",
       "    <tr>\n",
       "      <th>SPORTY'S CATALOGS</th>\n",
       "      <td>1377.29</td>\n",
       "    </tr>\n",
       "  </tbody>\n",
       "</table>\n",
       "</div>"
      ],
      "text/plain": [
       "                            Amount\n",
       "Description                       \n",
       "PY *WEE WONS              11005.55\n",
       "Express Stop               4414.22\n",
       "AE.COM                     2953.00\n",
       "THE TIRE RACK              2434.73\n",
       "GEICO  *AUTO               2274.24\n",
       "BUTCHERBOX, LLC            1857.00\n",
       "CL *Chase Travel           1774.11\n",
       "PURCHASE INTEREST CHARGE   1557.46\n",
       "GIANT MARTINS #6504        1492.12\n",
       "SPORTY'S CATALOGS          1377.29"
      ]
     },
     "execution_count": 61,
     "metadata": {},
     "output_type": "execute_result"
    }
   ],
   "source": [
    "exp_by_merch.sort_values('Amount', ascending=False).head(10)"
   ]
  },
  {
   "cell_type": "code",
   "execution_count": 62,
   "metadata": {},
   "outputs": [
    {
     "data": {
      "text/html": [
       "<div>\n",
       "<style scoped>\n",
       "    .dataframe tbody tr th:only-of-type {\n",
       "        vertical-align: middle;\n",
       "    }\n",
       "\n",
       "    .dataframe tbody tr th {\n",
       "        vertical-align: top;\n",
       "    }\n",
       "\n",
       "    .dataframe thead th {\n",
       "        text-align: right;\n",
       "    }\n",
       "</style>\n",
       "<table border=\"1\" class=\"dataframe\">\n",
       "  <thead>\n",
       "    <tr style=\"text-align: right;\">\n",
       "      <th></th>\n",
       "      <th>Date</th>\n",
       "      <th>Description</th>\n",
       "      <th>Original Description</th>\n",
       "      <th>Amount</th>\n",
       "      <th>Transaction Type</th>\n",
       "      <th>Category</th>\n",
       "      <th>Account Name</th>\n",
       "      <th>Main_Category</th>\n",
       "    </tr>\n",
       "  </thead>\n",
       "  <tbody>\n",
       "    <tr>\n",
       "      <th>1185</th>\n",
       "      <td>2022-03-16</td>\n",
       "      <td>FLOWMINI</td>\n",
       "      <td>FLOWMINI</td>\n",
       "      <td>447.12</td>\n",
       "      <td>debit</td>\n",
       "      <td>Clothing</td>\n",
       "      <td>Ivan Credit Sapphire</td>\n",
       "      <td>Shopping</td>\n",
       "    </tr>\n",
       "  </tbody>\n",
       "</table>\n",
       "</div>"
      ],
      "text/plain": [
       "           Date Description Original Description  Amount Transaction Type  \\\n",
       "1185 2022-03-16    FLOWMINI             FLOWMINI  447.12            debit   \n",
       "\n",
       "      Category          Account Name Main_Category  \n",
       "1185  Clothing  Ivan Credit Sapphire      Shopping  "
      ]
     },
     "execution_count": 62,
     "metadata": {},
     "output_type": "execute_result"
    }
   ],
   "source": [
    "exp_df[exp_df.Description == 'FLOWMINI']"
   ]
  },
  {
   "cell_type": "code",
   "execution_count": null,
   "metadata": {},
   "outputs": [],
   "source": []
  }
 ],
 "metadata": {
  "kernelspec": {
   "display_name": "Python 3 (ipykernel)",
   "language": "python",
   "name": "python3"
  },
  "language_info": {
   "codemirror_mode": {
    "name": "ipython",
    "version": 3
   },
   "file_extension": ".py",
   "mimetype": "text/x-python",
   "name": "python",
   "nbconvert_exporter": "python",
   "pygments_lexer": "ipython3",
   "version": "3.7.13"
  }
 },
 "nbformat": 4,
 "nbformat_minor": 2
}
