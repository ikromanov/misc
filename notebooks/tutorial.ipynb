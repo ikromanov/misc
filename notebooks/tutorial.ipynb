{
 "cells": [
  {
   "cell_type": "markdown",
   "metadata": {},
   "source": [
    "# Table of Contents\n",
    "[Prerequisites](#pre)\n",
    "\n",
    "[Run existing otq files](#run_from_file)\n",
    "\n",
    "[Build Graphs via the API](#building)\n",
    "\n",
    "  * [The EventProcessor type](#basics)\n",
    "  * [The Graph type](#simple)\n",
    "  * [Graphs with multiple EventProcessors](#multi)\n",
    "  * [The Head EP on the Graph](#head)\n",
    "  * [EventProcessor pins](#pins)\n",
    "  * [Labeling an EventProcessor](#labels)  \n",
    "  * [Accessing EventProcessors on the Graph via labels](#graph_labels)  \n",
    "  * [Outputs from  multiple EventProcessors](#multi_output)\n",
    "  * [Binding symbols to an EventProcessor](#bind)\n",
    "  * [Using utililty functions for common Graph patterns](#chainlet)\n",
    "  * [Printing the Graph](#print)\n",
    "  \n",
    "[Business Cases](#business)\n",
    "\n",
    "  * [Retrieve database snapshot as of given time](#db_snapshot)\n",
    "  * [Package trade filter conditions for reuse in different queries](#package_filters)\n",
    "  * [Bucketed volume for N second buckets or N ticks buckets](#bucketed_volume_N)\n",
    "  * [Append running total and sliding bucketed volumes to each trade tick and calculate a ratio between the two](#running_total_to_each_tick)\n",
    "  * [Compute sliding aggregation per group](#sliding_aggr_per_group)\n",
    "  * [Combine multiple aggregation functions](#mult_aggr_functions)\n",
    "  * [Aggregate ticks into flexible volume-based buckets](#aggr_ticks_flex_buckets)\n",
    "  * [Append total daily volume to each detail tick to compute % of total](#append_tot_vol_to_each_tick)\n",
    "  * [Compute Relative Strength Index](#RSI)\n",
    "  * [Get trades along with prevailing quotes](#jbt_trd_qte)\n",
    "  * [Compute effective spread average and generate above/below mid flag for each trade](#spread_avg_mid_flag)\n",
    "  * [Compute symbol pair RETURN correlation](#return_correlation)\n",
    "  * [Get top N players, or how to MERGE time series to compute totals across symbols](#top_N_players)\n",
    "  * [Compute ASK/BID VWAP and Volume over N seconds before and after each trade](#vwap_volume_for_each_trd)"
   ]
  },
  {
   "cell_type": "markdown",
   "metadata": {},
   "source": [
    "<a><a id=\"pre\"></a>\n",
    "# Prerequisites\n",
    "Before reading this tutorial you should already know Python (see the [Python Tutorial](http://docs.python.org/tut/)) and have some familiarlity with OneTick.\n",
    "\n",
    "If you wish to work with the examples in this tutorial you must also have Python installed and have followed the setup procedures for both of OneTick's pyomd and NumPy_OneTickQuery modules - instructions for which can be found with your distribution.\n"
   ]
  },
  {
   "cell_type": "markdown",
   "metadata": {},
   "source": [
    "<a><a id=\"run_from_file\"></a>\n",
    "# Run existing otq files\n",
    "- TODO"
   ]
  },
  {
   "cell_type": "markdown",
   "metadata": {},
   "source": [
    "<a><a id=\"building\"></a>\n",
    "# Build Graphs via the API\n",
    "<a><a id=\"basics\"></a>\n",
    "## The EventProcessor type\n",
    "\n",
    "The EventProcessor (EP) is the basic type in OneTick's quersive module. It is used to perform all of the analytics in OneTick and can be combined to construct powerful graphs via an intuitive interface. All EPs inherit from a single abstract class: *quersive.EventProcessor*:\n",
    "\n",
    "\n",
    "**EventProcessor.name**<br>\n",
    "&nbsp;&nbsp;&nbsp;&nbsp;name of the EventProcessor\n",
    "\n",
    "**EventProcessor.sink**<br>\n",
    "&nbsp;&nbsp;&nbsp;&nbsp;add an event processor to this event processor as a sink. Returns the same Graph object\n",
    "\n",
    "**EventProcessor.source**:<br>\n",
    "&nbsp;&nbsp;&nbsp;&nbsp;add an event processor to this event processor as a source. Returns the same Graph object\n",
    "\n",
    "**EventProcessor.\\__lshift\\__**:<br>\n",
    "&nbsp;&nbsp;&nbsp;&nbsp;overloads the >> operator and equivalent to EventProcessor.sink\n",
    "\n",
    "**EventProcessor.\\__rshift\\__**:<br>\n",
    "&nbsp;&nbsp;&nbsp;&nbsp;overloads the << operator and equivalent to EventProcessor.source\n",
    "    \n",
    "**EventProcessor.label**<br>\n",
    "&nbsp;&nbsp;&nbsp;&nbsp;label the event processor, returns self.\n",
    "            \n",
    "**EventProcessor.symbol**<br>\n",
    "&nbsp;&nbsp;&nbsp;&nbsp;bind a symbol to the event processor   \n",
    "        \n",
    "**EventProcessor.pin**<br>\n",
    "&nbsp;&nbsp;&nbsp;&nbsp;attach to the pin of the event processor (i.e., 'if','else')\n",
    "        \n",
    "**EventProcessor.output**<br>\n",
    "&nbsp;&nbsp;&nbsp;&nbsp;flag the event processor as an output node\n",
    "    \n",
    "**EventProcessor.Descriptor**<br>\n",
    "&nbsp;&nbsp;&nbsp;&nbsp;read-only object that describes an EventProcessor\n",
    "    \n",
    "**EventProcessor.Descriptor.label**<br>\n",
    "&nbsp;&nbsp;&nbsp;&nbsp;label of the event processor\n",
    "            \n",
    "**EventProcessor.Descriptor.symbol**<br>\n",
    "&nbsp;&nbsp;&nbsp;&nbsp;bound symbol of the event processor   \n",
    "        \n",
    "**EventProcessor.Descriptor.pin**<br>\n",
    "&nbsp;&nbsp;&nbsp;&nbsp;input/output pin of the event processor (i.e., 'if','else')\n",
    "        \n",
    "**EventProcessor.Descriptor.output**<br>\n",
    "&nbsp;&nbsp;&nbsp;&nbsp;flag to set event processor as an output node\n",
    "    \n",
    "<br>\n",
    "\n",
    "All of OneTick's EPs are exposed as python objects in the module. For example, the AddField EP can be instantiated like:\n"
   ]
  },
  {
   "cell_type": "code",
   "execution_count": 47,
   "metadata": {
    "scrolled": true
   },
   "outputs": [
    {
     "name": "stdout",
     "output_type": "stream",
     "text": [
      "AddField(name='ADD_FIELD',ticktype='',field='',value='')\n",
      "<class 'quersive.ep.AddField'>\n"
     ]
    },
    {
     "data": {
      "text/plain": [
       "True"
      ]
     },
     "execution_count": 47,
     "metadata": {},
     "output_type": "execute_result"
    }
   ],
   "source": [
    "import quersive as q\n",
    "\n",
    "a = q.add_field()\n",
    "print(a)\n",
    "print(type(a))\n",
    "isinstance(a,q.EventProcessor)"
   ]
  },
  {
   "cell_type": "markdown",
   "metadata": {},
   "source": [
    "The above output demonstrates that the function call to q.add_field returns an object of type 'quersive.AddField' that inherits from the abstract class quersive.EventProcessor. Each call to an EP with no parameters passed in will populate its attributes with that EP's default values, also shown above.\n"
   ]
  },
  {
   "cell_type": "markdown",
   "metadata": {},
   "source": [
    "All of the EP's attributes are listed in its function signature. For example, OneTick's AddField EP signature is:\n",
    "\n",
    "```python\n",
    "def add_field(ticktype='', field='',value='')\n",
    "```\n",
    "\n",
    "The above signfies that, in addition to the attributes accessible via the Descriptor, each EP has it's own set of attributes as listed in its signature and can be accessed in the usual way. For example, once instantiated, the 'field' attribute of the resulting 'AddField' can be accessed and set like:\n"
   ]
  },
  {
   "cell_type": "code",
   "execution_count": 48,
   "metadata": {},
   "outputs": [
    {
     "name": "stdout",
     "output_type": "stream",
     "text": [
      "AddField(name='ADD_FIELD',ticktype='',field='',value='')\n",
      "TRD\n",
      "New_Field\n",
      "New_Value\n",
      "can't set attribute\n",
      "can't set attribute\n"
     ]
    }
   ],
   "source": [
    "import quersive as q\n",
    "\n",
    "a = q.add_field()\n",
    "\n",
    "print(a)\n",
    "\n",
    "#set attributes\n",
    "a.ticktype='TRD'\n",
    "a.field='New_Field'\n",
    "a.value = 'New_Value'\n",
    "\n",
    "print(a.ticktype)\n",
    "print(a.field)\n",
    "print(a.value)\n",
    "\n",
    "\n",
    "try:\n",
    "    a.name='New_Name'\n",
    "except AttributeError as e:\n",
    "    print(str(e))\n",
    "    \n",
    "try:\n",
    "    a.descriptor = q.EventProcessor.Descriptor(label='A',symbol='B',pin='',output=True)\n",
    "except AttributeError as e:\n",
    "    print(str(e))\n",
    "    "
   ]
  },
  {
   "cell_type": "markdown",
   "metadata": {},
   "source": [
    "Note that the name attribute is read-only as per the EventProcessor class and can never be set, nor can the descriptor object, as shown above.The Descriptor class is read-only. To set a Descriptor field on an object, each EP provides the appropriate functions. For example, to set the label of the AddField object, call its 'label' method. Note that the 'label' method actually returns the same AddField object, as shown below. This is useful for 'chaining' when building graphs (more below).\n"
   ]
  },
  {
   "cell_type": "code",
   "execution_count": 49,
   "metadata": {},
   "outputs": [
    {
     "name": "stdout",
     "output_type": "stream",
     "text": [
      "Descriptor(symbol='',label='',output='False',pin='')\n",
      "Descriptor(symbol='',label='add_field',output='False',pin='')\n"
     ]
    },
    {
     "data": {
      "text/plain": [
       "True"
      ]
     },
     "execution_count": 49,
     "metadata": {},
     "output_type": "execute_result"
    }
   ],
   "source": [
    "import quersive as q\n",
    "\n",
    "a = q.add_field()\n",
    "\n",
    "print(a.descriptor)\n",
    "b = a.label('add_field')\n",
    "print(a.descriptor)\n",
    "(a is b)"
   ]
  },
  {
   "cell_type": "markdown",
   "metadata": {},
   "source": [
    "<a><a id=\"simple\"></a>\n",
    "## The Graph type\n",
    "\n",
    "The Graph type represents a collection of EPs and facilitates building the Graph. EPs are directly sinked or sourced to each other while the Graph maintains references to them. Several other methods allow for simple graph construction and inspection.\n",
    "\n",
    "**Graph.sink**<br>\n",
    "&nbsp;&nbsp;&nbsp;&nbsp;sink an event processor to the graph. Returns the same Graph object.\n",
    "\n",
    "**Graph.source**:<br>\n",
    "&nbsp;&nbsp;&nbsp;&nbsp;source an event processor to the graph. Returns the same Graph object.\n",
    "\n",
    "**Graph.\\__lshift\\__**:<br>\n",
    "&nbsp;&nbsp;&nbsp;&nbsp;overloads the >> operator and equivalent to Graph.sink. \n",
    "\n",
    "**Graph.\\__rshift\\__**:<br>\n",
    "&nbsp;&nbsp;&nbsp;&nbsp;overloads the << operator and equivalent to Graph.source. \n",
    "    \n",
    "**Graph.head**:<br>\n",
    "&nbsp;&nbsp;&nbsp;&nbsp;property to retrieve and set the head EP on the Graph.\n",
    "    \n",
    "**Graph.\\__getitem\\__**:<br>\n",
    "&nbsp;&nbsp;&nbsp;&nbsp;Overloaded [] operator to retrieve an EP by label\n",
    "    \n",
    "**Graph.save**:<br>\n",
    "&nbsp;&nbsp;&nbsp;&nbsp;Save the Graph to an otq file or to memory.\n",
    "    \n",
    "**Graph.to_text**:<br>\n",
    "&nbsp;&nbsp;&nbsp;&nbsp;Return a textual representation of the Graph as a collections.OrderedDict object of strings.<br> &nbsp;&nbsp;&nbsp;&nbsp;Keys represent sources and Values are sinks represented as children (sinks) of the source.\n",
    "    \n",
    "**Graph.chainlet**:<br>\n",
    "&nbsp;&nbsp;&nbsp;&nbsp;static utility method that accepts a list of EPs and returns a linear Graph.\n",
    "    \n",
    "**Graph.join_chainlets**:<br>\n",
    "&nbsp;&nbsp;&nbsp;&nbsp;static utility method that accepts two lists of EPs joins them by time via the join_by_time EP <br> &nbsp;&nbsp;&nbsp;&nbsp;and returns a Graph.\n",
    "<br><br>\n",
    "\n",
    "The below code creates a passthrough, instantiates a Graph object, and runs it via the quersive.run_query:\n"
   ]
  },
  {
   "cell_type": "code",
   "execution_count": 50,
   "metadata": {},
   "outputs": [
    {
     "data": {
      "text/plain": [
       "{'FULL_DEMO_L1::GS': [{'SEQ_NUM': array([1971504712011575, 1971504713008187, 1971504713508334, ...,\n",
       "       1971527983664438, 1971527985164078, 1971527993164523], dtype=int64), 'TICK_STATUS': array([0, 0, 0, ..., 0, 0, 0], dtype=int32), 'Time': array(['2005-01-03T14:31:52.011000', '2005-01-03T14:31:53.008000',\n",
       "       '2005-01-03T14:31:53.508000', ..., '2005-01-03T20:59:43.664000',\n",
       "       '2005-01-03T20:59:45.164000', '2005-01-03T20:59:53.164000'], dtype='datetime64[us]'), 'OMDSEQ': array([0, 0, 0, ..., 0, 0, 0], dtype=int32), 'CORR': array([0, 0, 0, ..., 0, 0, 0], dtype=int32), 'COND': array([' ', ' ', ' ', ..., ' ', ' ', ' '], \n",
       "      dtype='<U1'), 'TICKER': array(['G', 'G', 'G', ..., 'G', 'G', 'G'], \n",
       "      dtype='<U1'), 'DELETED_TIME': array(['1970-01-01T00:00:00.000', '1970-01-01T00:00:00.000',\n",
       "       '1970-01-01T00:00:00.000', ..., '1970-01-01T00:00:00.000',\n",
       "       '1970-01-01T00:00:00.000', '1970-01-01T00:00:00.000'], dtype='datetime64[ms]'), 'SOURCE': array(['C', 'C', 'C', ..., 'C', 'C', 'C'], \n",
       "      dtype='<U1'), 'PRICE': array([ 104.9 ,  104.9 ,  104.9 , ...,  104.85,  104.86,  104.86]), 'SIZE': array([40400,  1200,  1000, ...,  1200,  4900, 10000], dtype=int32), 'EXCHANGE': array(['N', 'T', 'T', ..., 'N', 'N', 'N'], \n",
       "      dtype='<U1'), 'STOP_STOCK': array(['N', 'N', 'N', ..., 'N', 'N', 'N'], \n",
       "      dtype='<U1')}]}"
      ]
     },
     "execution_count": 50,
     "metadata": {},
     "output_type": "execute_result"
    }
   ],
   "source": [
    "import quersive as q\n",
    "from datetime import datetime\n",
    "\n",
    "p = q.passthrough(ticktype='TRD')\n",
    "g = q.Graph(p)\n",
    "result = q.run_query(g,symbol='FULL_DEMO_L1::GS',s=datetime(2005,1,3,9,30),e=datetime(2005,1,3,16))\n",
    "result"
   ]
  },
  {
   "cell_type": "markdown",
   "metadata": {},
   "source": [
    "Note that the output of the above is a dictionary of a list of dictionaries. All the outputs of any symbol is retrievable via the 'call' operator. This allows all outputs from queries to be retrieved. Usually, only one output is produced by the graph or we are only interested in the 'last' output of the query. As a shortcut, the [] operator retrieves the 'last' output:"
   ]
  },
  {
   "cell_type": "code",
   "execution_count": 51,
   "metadata": {},
   "outputs": [
    {
     "data": {
      "text/plain": [
       "[{'COND': array([' ', ' ', ' ', ..., ' ', ' ', ' '], \n",
       "        dtype='<U1'),\n",
       "  'CORR': array([0, 0, 0, ..., 0, 0, 0], dtype=int32),\n",
       "  'DELETED_TIME': array(['1970-01-01T00:00:00.000', '1970-01-01T00:00:00.000',\n",
       "         '1970-01-01T00:00:00.000', ..., '1970-01-01T00:00:00.000',\n",
       "         '1970-01-01T00:00:00.000', '1970-01-01T00:00:00.000'], dtype='datetime64[ms]'),\n",
       "  'EXCHANGE': array(['N', 'T', 'T', ..., 'N', 'N', 'N'], \n",
       "        dtype='<U1'),\n",
       "  'OMDSEQ': array([0, 0, 0, ..., 0, 0, 0], dtype=int32),\n",
       "  'PRICE': array([ 104.9 ,  104.9 ,  104.9 , ...,  104.85,  104.86,  104.86]),\n",
       "  'SEQ_NUM': array([1971504712011575, 1971504713008187, 1971504713508334, ...,\n",
       "         1971527983664438, 1971527985164078, 1971527993164523], dtype=int64),\n",
       "  'SIZE': array([40400,  1200,  1000, ...,  1200,  4900, 10000], dtype=int32),\n",
       "  'SOURCE': array(['C', 'C', 'C', ..., 'C', 'C', 'C'], \n",
       "        dtype='<U1'),\n",
       "  'STOP_STOCK': array(['N', 'N', 'N', ..., 'N', 'N', 'N'], \n",
       "        dtype='<U1'),\n",
       "  'TICKER': array(['G', 'G', 'G', ..., 'G', 'G', 'G'], \n",
       "        dtype='<U1'),\n",
       "  'TICK_STATUS': array([0, 0, 0, ..., 0, 0, 0], dtype=int32),\n",
       "  'Time': array(['2005-01-03T14:31:52.011000', '2005-01-03T14:31:53.008000',\n",
       "         '2005-01-03T14:31:53.508000', ..., '2005-01-03T20:59:43.664000',\n",
       "         '2005-01-03T20:59:45.164000', '2005-01-03T20:59:53.164000'], dtype='datetime64[us]')}]"
      ]
     },
     "execution_count": 51,
     "metadata": {},
     "output_type": "execute_result"
    }
   ],
   "source": [
    "result('FULL_DEMO_L1::GS')"
   ]
  },
  {
   "cell_type": "code",
   "execution_count": 52,
   "metadata": {},
   "outputs": [
    {
     "data": {
      "text/plain": [
       "{'COND': array([' ', ' ', ' ', ..., ' ', ' ', ' '], \n",
       "       dtype='<U1'),\n",
       " 'CORR': array([0, 0, 0, ..., 0, 0, 0], dtype=int32),\n",
       " 'DELETED_TIME': array(['1970-01-01T00:00:00.000', '1970-01-01T00:00:00.000',\n",
       "        '1970-01-01T00:00:00.000', ..., '1970-01-01T00:00:00.000',\n",
       "        '1970-01-01T00:00:00.000', '1970-01-01T00:00:00.000'], dtype='datetime64[ms]'),\n",
       " 'EXCHANGE': array(['N', 'T', 'T', ..., 'N', 'N', 'N'], \n",
       "       dtype='<U1'),\n",
       " 'OMDSEQ': array([0, 0, 0, ..., 0, 0, 0], dtype=int32),\n",
       " 'PRICE': array([ 104.9 ,  104.9 ,  104.9 , ...,  104.85,  104.86,  104.86]),\n",
       " 'SEQ_NUM': array([1971504712011575, 1971504713008187, 1971504713508334, ...,\n",
       "        1971527983664438, 1971527985164078, 1971527993164523], dtype=int64),\n",
       " 'SIZE': array([40400,  1200,  1000, ...,  1200,  4900, 10000], dtype=int32),\n",
       " 'SOURCE': array(['C', 'C', 'C', ..., 'C', 'C', 'C'], \n",
       "       dtype='<U1'),\n",
       " 'STOP_STOCK': array(['N', 'N', 'N', ..., 'N', 'N', 'N'], \n",
       "       dtype='<U1'),\n",
       " 'TICKER': array(['G', 'G', 'G', ..., 'G', 'G', 'G'], \n",
       "       dtype='<U1'),\n",
       " 'TICK_STATUS': array([0, 0, 0, ..., 0, 0, 0], dtype=int32),\n",
       " 'Time': array(['2005-01-03T14:31:52.011000', '2005-01-03T14:31:53.008000',\n",
       "        '2005-01-03T14:31:53.508000', ..., '2005-01-03T20:59:43.664000',\n",
       "        '2005-01-03T20:59:45.164000', '2005-01-03T20:59:53.164000'], dtype='datetime64[us]')}"
      ]
     },
     "execution_count": 52,
     "metadata": {},
     "output_type": "execute_result"
    }
   ],
   "source": [
    "result['FULL_DEMO_L1::GS']"
   ]
  },
  {
   "cell_type": "markdown",
   "metadata": {},
   "source": [
    "Note the latter produces a dict while the former produces a list of dicts, with each dict being keyed by OneTick's TickDescriptors with values as numpy arrays. This allows for rapid instantiation of a Pandas DataFrame object:"
   ]
  },
  {
   "cell_type": "code",
   "execution_count": 53,
   "metadata": {},
   "outputs": [
    {
     "data": {
      "text/html": [
       "<div>\n",
       "<table border=\"1\" class=\"dataframe\">\n",
       "  <thead>\n",
       "    <tr style=\"text-align: right;\">\n",
       "      <th></th>\n",
       "      <th>COND</th>\n",
       "      <th>CORR</th>\n",
       "      <th>DELETED_TIME</th>\n",
       "      <th>EXCHANGE</th>\n",
       "      <th>OMDSEQ</th>\n",
       "      <th>PRICE</th>\n",
       "      <th>SEQ_NUM</th>\n",
       "      <th>SIZE</th>\n",
       "      <th>SOURCE</th>\n",
       "      <th>STOP_STOCK</th>\n",
       "      <th>TICKER</th>\n",
       "      <th>TICK_STATUS</th>\n",
       "      <th>Time</th>\n",
       "    </tr>\n",
       "  </thead>\n",
       "  <tbody>\n",
       "    <tr>\n",
       "      <th>0</th>\n",
       "      <td></td>\n",
       "      <td>0</td>\n",
       "      <td>1970-01-01</td>\n",
       "      <td>N</td>\n",
       "      <td>0</td>\n",
       "      <td>104.9</td>\n",
       "      <td>1971504712011575</td>\n",
       "      <td>40400</td>\n",
       "      <td>C</td>\n",
       "      <td>N</td>\n",
       "      <td>G</td>\n",
       "      <td>0</td>\n",
       "      <td>2005-01-03 14:31:52.011</td>\n",
       "    </tr>\n",
       "    <tr>\n",
       "      <th>1</th>\n",
       "      <td></td>\n",
       "      <td>0</td>\n",
       "      <td>1970-01-01</td>\n",
       "      <td>T</td>\n",
       "      <td>0</td>\n",
       "      <td>104.9</td>\n",
       "      <td>1971504713008187</td>\n",
       "      <td>1200</td>\n",
       "      <td>C</td>\n",
       "      <td>N</td>\n",
       "      <td>G</td>\n",
       "      <td>0</td>\n",
       "      <td>2005-01-03 14:31:53.008</td>\n",
       "    </tr>\n",
       "    <tr>\n",
       "      <th>2</th>\n",
       "      <td></td>\n",
       "      <td>0</td>\n",
       "      <td>1970-01-01</td>\n",
       "      <td>T</td>\n",
       "      <td>0</td>\n",
       "      <td>104.9</td>\n",
       "      <td>1971504713508334</td>\n",
       "      <td>1000</td>\n",
       "      <td>C</td>\n",
       "      <td>N</td>\n",
       "      <td>G</td>\n",
       "      <td>0</td>\n",
       "      <td>2005-01-03 14:31:53.508</td>\n",
       "    </tr>\n",
       "    <tr>\n",
       "      <th>3</th>\n",
       "      <td></td>\n",
       "      <td>0</td>\n",
       "      <td>1970-01-01</td>\n",
       "      <td>T</td>\n",
       "      <td>0</td>\n",
       "      <td>104.9</td>\n",
       "      <td>1971504713511894</td>\n",
       "      <td>100</td>\n",
       "      <td>C</td>\n",
       "      <td>N</td>\n",
       "      <td>G</td>\n",
       "      <td>0</td>\n",
       "      <td>2005-01-03 14:31:53.511</td>\n",
       "    </tr>\n",
       "    <tr>\n",
       "      <th>4</th>\n",
       "      <td></td>\n",
       "      <td>0</td>\n",
       "      <td>1970-01-01</td>\n",
       "      <td>T</td>\n",
       "      <td>0</td>\n",
       "      <td>104.9</td>\n",
       "      <td>1971504713515182</td>\n",
       "      <td>200</td>\n",
       "      <td>C</td>\n",
       "      <td>N</td>\n",
       "      <td>G</td>\n",
       "      <td>0</td>\n",
       "      <td>2005-01-03 14:31:53.515</td>\n",
       "    </tr>\n",
       "  </tbody>\n",
       "</table>\n",
       "</div>"
      ],
      "text/plain": [
       "  COND  CORR DELETED_TIME EXCHANGE  OMDSEQ  PRICE           SEQ_NUM   SIZE  \\\n",
       "0          0   1970-01-01        N       0  104.9  1971504712011575  40400   \n",
       "1          0   1970-01-01        T       0  104.9  1971504713008187   1200   \n",
       "2          0   1970-01-01        T       0  104.9  1971504713508334   1000   \n",
       "3          0   1970-01-01        T       0  104.9  1971504713511894    100   \n",
       "4          0   1970-01-01        T       0  104.9  1971504713515182    200   \n",
       "\n",
       "  SOURCE STOP_STOCK TICKER  TICK_STATUS                    Time  \n",
       "0      C          N      G            0 2005-01-03 14:31:52.011  \n",
       "1      C          N      G            0 2005-01-03 14:31:53.008  \n",
       "2      C          N      G            0 2005-01-03 14:31:53.508  \n",
       "3      C          N      G            0 2005-01-03 14:31:53.511  \n",
       "4      C          N      G            0 2005-01-03 14:31:53.515  "
      ]
     },
     "execution_count": 53,
     "metadata": {},
     "output_type": "execute_result"
    }
   ],
   "source": [
    "import pandas as pd\n",
    "\n",
    "pd.DataFrame(result['FULL_DEMO_L1::GS']).head()\n"
   ]
  },
  {
   "cell_type": "markdown",
   "metadata": {},
   "source": [
    "Of course, the same could be done via the 'call' operator for any of the outputs, but more verbosely:"
   ]
  },
  {
   "cell_type": "code",
   "execution_count": 54,
   "metadata": {},
   "outputs": [
    {
     "data": {
      "text/html": [
       "<div>\n",
       "<table border=\"1\" class=\"dataframe\">\n",
       "  <thead>\n",
       "    <tr style=\"text-align: right;\">\n",
       "      <th></th>\n",
       "      <th>COND</th>\n",
       "      <th>CORR</th>\n",
       "      <th>DELETED_TIME</th>\n",
       "      <th>EXCHANGE</th>\n",
       "      <th>OMDSEQ</th>\n",
       "      <th>PRICE</th>\n",
       "      <th>SEQ_NUM</th>\n",
       "      <th>SIZE</th>\n",
       "      <th>SOURCE</th>\n",
       "      <th>STOP_STOCK</th>\n",
       "      <th>TICKER</th>\n",
       "      <th>TICK_STATUS</th>\n",
       "      <th>Time</th>\n",
       "    </tr>\n",
       "  </thead>\n",
       "  <tbody>\n",
       "    <tr>\n",
       "      <th>0</th>\n",
       "      <td></td>\n",
       "      <td>0</td>\n",
       "      <td>1970-01-01</td>\n",
       "      <td>N</td>\n",
       "      <td>0</td>\n",
       "      <td>104.9</td>\n",
       "      <td>1971504712011575</td>\n",
       "      <td>40400</td>\n",
       "      <td>C</td>\n",
       "      <td>N</td>\n",
       "      <td>G</td>\n",
       "      <td>0</td>\n",
       "      <td>2005-01-03 14:31:52.011</td>\n",
       "    </tr>\n",
       "    <tr>\n",
       "      <th>1</th>\n",
       "      <td></td>\n",
       "      <td>0</td>\n",
       "      <td>1970-01-01</td>\n",
       "      <td>T</td>\n",
       "      <td>0</td>\n",
       "      <td>104.9</td>\n",
       "      <td>1971504713008187</td>\n",
       "      <td>1200</td>\n",
       "      <td>C</td>\n",
       "      <td>N</td>\n",
       "      <td>G</td>\n",
       "      <td>0</td>\n",
       "      <td>2005-01-03 14:31:53.008</td>\n",
       "    </tr>\n",
       "    <tr>\n",
       "      <th>2</th>\n",
       "      <td></td>\n",
       "      <td>0</td>\n",
       "      <td>1970-01-01</td>\n",
       "      <td>T</td>\n",
       "      <td>0</td>\n",
       "      <td>104.9</td>\n",
       "      <td>1971504713508334</td>\n",
       "      <td>1000</td>\n",
       "      <td>C</td>\n",
       "      <td>N</td>\n",
       "      <td>G</td>\n",
       "      <td>0</td>\n",
       "      <td>2005-01-03 14:31:53.508</td>\n",
       "    </tr>\n",
       "    <tr>\n",
       "      <th>3</th>\n",
       "      <td></td>\n",
       "      <td>0</td>\n",
       "      <td>1970-01-01</td>\n",
       "      <td>T</td>\n",
       "      <td>0</td>\n",
       "      <td>104.9</td>\n",
       "      <td>1971504713511894</td>\n",
       "      <td>100</td>\n",
       "      <td>C</td>\n",
       "      <td>N</td>\n",
       "      <td>G</td>\n",
       "      <td>0</td>\n",
       "      <td>2005-01-03 14:31:53.511</td>\n",
       "    </tr>\n",
       "    <tr>\n",
       "      <th>4</th>\n",
       "      <td></td>\n",
       "      <td>0</td>\n",
       "      <td>1970-01-01</td>\n",
       "      <td>T</td>\n",
       "      <td>0</td>\n",
       "      <td>104.9</td>\n",
       "      <td>1971504713515182</td>\n",
       "      <td>200</td>\n",
       "      <td>C</td>\n",
       "      <td>N</td>\n",
       "      <td>G</td>\n",
       "      <td>0</td>\n",
       "      <td>2005-01-03 14:31:53.515</td>\n",
       "    </tr>\n",
       "  </tbody>\n",
       "</table>\n",
       "</div>"
      ],
      "text/plain": [
       "  COND  CORR DELETED_TIME EXCHANGE  OMDSEQ  PRICE           SEQ_NUM   SIZE  \\\n",
       "0          0   1970-01-01        N       0  104.9  1971504712011575  40400   \n",
       "1          0   1970-01-01        T       0  104.9  1971504713008187   1200   \n",
       "2          0   1970-01-01        T       0  104.9  1971504713508334   1000   \n",
       "3          0   1970-01-01        T       0  104.9  1971504713511894    100   \n",
       "4          0   1970-01-01        T       0  104.9  1971504713515182    200   \n",
       "\n",
       "  SOURCE STOP_STOCK TICKER  TICK_STATUS                    Time  \n",
       "0      C          N      G            0 2005-01-03 14:31:52.011  \n",
       "1      C          N      G            0 2005-01-03 14:31:53.008  \n",
       "2      C          N      G            0 2005-01-03 14:31:53.508  \n",
       "3      C          N      G            0 2005-01-03 14:31:53.511  \n",
       "4      C          N      G            0 2005-01-03 14:31:53.515  "
      ]
     },
     "execution_count": 54,
     "metadata": {},
     "output_type": "execute_result"
    }
   ],
   "source": [
    "pd.DataFrame(result('FULL_DEMO_L1::GS')[-1]).head()"
   ]
  },
  {
   "cell_type": "markdown",
   "metadata": {},
   "source": [
    "To obtain all the outputs associated with a symbol, the call operator '()' should be used; the last output of the query is always achieved via the '[]' operator."
   ]
  },
  {
   "cell_type": "markdown",
   "metadata": {},
   "source": [
    "<a><a id=\"multi\"></a>\n",
    "## Graphs with multiple EventProcessors"
   ]
  },
  {
   "cell_type": "markdown",
   "metadata": {},
   "source": [
    "Graphs can be constructed by sinking or sourcing EPs to one another. To filter the above results on PRICE, for example, sink a where_clause:"
   ]
  },
  {
   "cell_type": "code",
   "execution_count": 55,
   "metadata": {},
   "outputs": [
    {
     "data": {
      "text/html": [
       "<div>\n",
       "<table border=\"1\" class=\"dataframe\">\n",
       "  <thead>\n",
       "    <tr style=\"text-align: right;\">\n",
       "      <th></th>\n",
       "      <th>COND</th>\n",
       "      <th>CORR</th>\n",
       "      <th>DELETED_TIME</th>\n",
       "      <th>EXCHANGE</th>\n",
       "      <th>OMDSEQ</th>\n",
       "      <th>PRICE</th>\n",
       "      <th>SEQ_NUM</th>\n",
       "      <th>SIZE</th>\n",
       "      <th>SOURCE</th>\n",
       "      <th>STOP_STOCK</th>\n",
       "      <th>TICKER</th>\n",
       "      <th>TICK_STATUS</th>\n",
       "      <th>Time</th>\n",
       "    </tr>\n",
       "  </thead>\n",
       "  <tbody>\n",
       "    <tr>\n",
       "      <th>0</th>\n",
       "      <td></td>\n",
       "      <td>0</td>\n",
       "      <td>1970-01-01</td>\n",
       "      <td>N</td>\n",
       "      <td>0</td>\n",
       "      <td>105.05</td>\n",
       "      <td>1971504952659752</td>\n",
       "      <td>1500</td>\n",
       "      <td>C</td>\n",
       "      <td>N</td>\n",
       "      <td>G</td>\n",
       "      <td>0</td>\n",
       "      <td>2005-01-03 14:35:52.659</td>\n",
       "    </tr>\n",
       "    <tr>\n",
       "      <th>1</th>\n",
       "      <td>E</td>\n",
       "      <td>0</td>\n",
       "      <td>1970-01-01</td>\n",
       "      <td>N</td>\n",
       "      <td>0</td>\n",
       "      <td>105.05</td>\n",
       "      <td>1971504956661036</td>\n",
       "      <td>200</td>\n",
       "      <td>C</td>\n",
       "      <td>N</td>\n",
       "      <td>G</td>\n",
       "      <td>0</td>\n",
       "      <td>2005-01-03 14:35:56.661</td>\n",
       "    </tr>\n",
       "    <tr>\n",
       "      <th>2</th>\n",
       "      <td>E</td>\n",
       "      <td>0</td>\n",
       "      <td>1970-01-01</td>\n",
       "      <td>N</td>\n",
       "      <td>0</td>\n",
       "      <td>105.08</td>\n",
       "      <td>1971504958660452</td>\n",
       "      <td>500</td>\n",
       "      <td>C</td>\n",
       "      <td>N</td>\n",
       "      <td>G</td>\n",
       "      <td>0</td>\n",
       "      <td>2005-01-03 14:35:58.660</td>\n",
       "    </tr>\n",
       "    <tr>\n",
       "      <th>3</th>\n",
       "      <td></td>\n",
       "      <td>0</td>\n",
       "      <td>1970-01-01</td>\n",
       "      <td>N</td>\n",
       "      <td>0</td>\n",
       "      <td>105.08</td>\n",
       "      <td>1971504960661857</td>\n",
       "      <td>100</td>\n",
       "      <td>C</td>\n",
       "      <td>N</td>\n",
       "      <td>G</td>\n",
       "      <td>0</td>\n",
       "      <td>2005-01-03 14:36:00.661</td>\n",
       "    </tr>\n",
       "    <tr>\n",
       "      <th>4</th>\n",
       "      <td></td>\n",
       "      <td>0</td>\n",
       "      <td>1970-01-01</td>\n",
       "      <td>N</td>\n",
       "      <td>0</td>\n",
       "      <td>105.07</td>\n",
       "      <td>1971504961161477</td>\n",
       "      <td>100</td>\n",
       "      <td>C</td>\n",
       "      <td>N</td>\n",
       "      <td>G</td>\n",
       "      <td>0</td>\n",
       "      <td>2005-01-03 14:36:01.161</td>\n",
       "    </tr>\n",
       "  </tbody>\n",
       "</table>\n",
       "</div>"
      ],
      "text/plain": [
       "  COND  CORR DELETED_TIME EXCHANGE  OMDSEQ   PRICE           SEQ_NUM  SIZE  \\\n",
       "0          0   1970-01-01        N       0  105.05  1971504952659752  1500   \n",
       "1    E     0   1970-01-01        N       0  105.05  1971504956661036   200   \n",
       "2    E     0   1970-01-01        N       0  105.08  1971504958660452   500   \n",
       "3          0   1970-01-01        N       0  105.08  1971504960661857   100   \n",
       "4          0   1970-01-01        N       0  105.07  1971504961161477   100   \n",
       "\n",
       "  SOURCE STOP_STOCK TICKER  TICK_STATUS                    Time  \n",
       "0      C          N      G            0 2005-01-03 14:35:52.659  \n",
       "1      C          N      G            0 2005-01-03 14:35:56.661  \n",
       "2      C          N      G            0 2005-01-03 14:35:58.660  \n",
       "3      C          N      G            0 2005-01-03 14:36:00.661  \n",
       "4      C          N      G            0 2005-01-03 14:36:01.161  "
      ]
     },
     "execution_count": 55,
     "metadata": {},
     "output_type": "execute_result"
    }
   ],
   "source": [
    "from datetime import datetime\n",
    "import pandas as pd\n",
    "\n",
    "w = q.where_clause(where='PRICE > 105')\n",
    "root = p = q.passthrough(ticktype='TRD')\n",
    "p.sink(w)\n",
    "g = q.Graph(root)\n",
    "result = q.run_query(g,symbol='FULL_DEMO_L1::GS',s=datetime(2005,1,3,9,30),e=datetime(2005,1,3,16))\n",
    "pd.DataFrame(result['FULL_DEMO_L1::GS']).head()"
   ]
  },
  {
   "cell_type": "markdown",
   "metadata": {},
   "source": [
    "TODO - Replace table below with add_fields. EPs support chaining sinks and sources, so that separate calls to sink or source can occur simultatneously. For example, the above example can be chained like:"
   ]
  },
  {
   "cell_type": "code",
   "execution_count": 56,
   "metadata": {},
   "outputs": [
    {
     "data": {
      "text/html": [
       "<div>\n",
       "<table border=\"1\" class=\"dataframe\">\n",
       "  <thead>\n",
       "    <tr style=\"text-align: right;\">\n",
       "      <th></th>\n",
       "      <th>EXCHANGE</th>\n",
       "      <th>PRICE</th>\n",
       "      <th>SIZE</th>\n",
       "      <th>Time</th>\n",
       "    </tr>\n",
       "  </thead>\n",
       "  <tbody>\n",
       "    <tr>\n",
       "      <th>0</th>\n",
       "      <td>N</td>\n",
       "      <td>105.05</td>\n",
       "      <td>1500</td>\n",
       "      <td>2005-01-03 14:35:52.659</td>\n",
       "    </tr>\n",
       "    <tr>\n",
       "      <th>1</th>\n",
       "      <td>N</td>\n",
       "      <td>105.05</td>\n",
       "      <td>200</td>\n",
       "      <td>2005-01-03 14:35:56.661</td>\n",
       "    </tr>\n",
       "    <tr>\n",
       "      <th>2</th>\n",
       "      <td>N</td>\n",
       "      <td>105.08</td>\n",
       "      <td>500</td>\n",
       "      <td>2005-01-03 14:35:58.660</td>\n",
       "    </tr>\n",
       "    <tr>\n",
       "      <th>3</th>\n",
       "      <td>N</td>\n",
       "      <td>105.08</td>\n",
       "      <td>100</td>\n",
       "      <td>2005-01-03 14:36:00.661</td>\n",
       "    </tr>\n",
       "    <tr>\n",
       "      <th>4</th>\n",
       "      <td>N</td>\n",
       "      <td>105.07</td>\n",
       "      <td>100</td>\n",
       "      <td>2005-01-03 14:36:01.161</td>\n",
       "    </tr>\n",
       "  </tbody>\n",
       "</table>\n",
       "</div>"
      ],
      "text/plain": [
       "  EXCHANGE   PRICE  SIZE                    Time\n",
       "0        N  105.05  1500 2005-01-03 14:35:52.659\n",
       "1        N  105.05   200 2005-01-03 14:35:56.661\n",
       "2        N  105.08   500 2005-01-03 14:35:58.660\n",
       "3        N  105.08   100 2005-01-03 14:36:00.661\n",
       "4        N  105.07   100 2005-01-03 14:36:01.161"
      ]
     },
     "execution_count": 56,
     "metadata": {},
     "output_type": "execute_result"
    }
   ],
   "source": [
    "from datetime import datetime\n",
    "import pandas as pd\n",
    "\n",
    "w = q.where_clause(where='PRICE > 105')\n",
    "root = p = q.passthrough(ticktype='TRD')\n",
    "p.sink(w).sink(q.table(fields='PRICE,SIZE,EXCHANGE'))\n",
    "g = q.Graph(root)\n",
    "result = q.run_query(g,symbol='FULL_DEMO_L1::GS',s=datetime(2005,1,3,9,30),e=datetime(2005,1,3,16))\n",
    "pd.DataFrame(result['FULL_DEMO_L1::GS']).head()"
   ]
  },
  {
   "cell_type": "markdown",
   "metadata": {},
   "source": [
    "The above can be achieved also via operators in place of the 'sink' or 'source' methods:"
   ]
  },
  {
   "cell_type": "code",
   "execution_count": 57,
   "metadata": {
    "scrolled": true
   },
   "outputs": [
    {
     "data": {
      "text/html": [
       "<div>\n",
       "<table border=\"1\" class=\"dataframe\">\n",
       "  <thead>\n",
       "    <tr style=\"text-align: right;\">\n",
       "      <th></th>\n",
       "      <th>EXCHANGE</th>\n",
       "      <th>PRICE</th>\n",
       "      <th>SIZE</th>\n",
       "      <th>Time</th>\n",
       "    </tr>\n",
       "  </thead>\n",
       "  <tbody>\n",
       "    <tr>\n",
       "      <th>0</th>\n",
       "      <td>N</td>\n",
       "      <td>105.05</td>\n",
       "      <td>1500</td>\n",
       "      <td>2005-01-03 14:35:52.659</td>\n",
       "    </tr>\n",
       "    <tr>\n",
       "      <th>1</th>\n",
       "      <td>N</td>\n",
       "      <td>105.05</td>\n",
       "      <td>200</td>\n",
       "      <td>2005-01-03 14:35:56.661</td>\n",
       "    </tr>\n",
       "    <tr>\n",
       "      <th>2</th>\n",
       "      <td>N</td>\n",
       "      <td>105.08</td>\n",
       "      <td>500</td>\n",
       "      <td>2005-01-03 14:35:58.660</td>\n",
       "    </tr>\n",
       "    <tr>\n",
       "      <th>3</th>\n",
       "      <td>N</td>\n",
       "      <td>105.08</td>\n",
       "      <td>100</td>\n",
       "      <td>2005-01-03 14:36:00.661</td>\n",
       "    </tr>\n",
       "    <tr>\n",
       "      <th>4</th>\n",
       "      <td>N</td>\n",
       "      <td>105.07</td>\n",
       "      <td>100</td>\n",
       "      <td>2005-01-03 14:36:01.161</td>\n",
       "    </tr>\n",
       "  </tbody>\n",
       "</table>\n",
       "</div>"
      ],
      "text/plain": [
       "  EXCHANGE   PRICE  SIZE                    Time\n",
       "0        N  105.05  1500 2005-01-03 14:35:52.659\n",
       "1        N  105.05   200 2005-01-03 14:35:56.661\n",
       "2        N  105.08   500 2005-01-03 14:35:58.660\n",
       "3        N  105.08   100 2005-01-03 14:36:00.661\n",
       "4        N  105.07   100 2005-01-03 14:36:01.161"
      ]
     },
     "execution_count": 57,
     "metadata": {},
     "output_type": "execute_result"
    }
   ],
   "source": [
    "import quersive as q\n",
    "from datetime import datetime\n",
    "import pandas as pd\n",
    "\n",
    "root = p = q.passthrough(ticktype='TRD')\n",
    "p >> q.where_clause(where='PRICE > 105') >> q.table(fields='PRICE,SIZE,EXCHANGE')\n",
    "g = q.Graph(root)\n",
    "result = q.run_query(g,symbol='FULL_DEMO_L1::GS',s=datetime(2005,1,3,9,30),e=datetime(2005,1,3,16))\n",
    "pd.DataFrame(result['FULL_DEMO_L1::GS']).head()"
   ]
  },
  {
   "cell_type": "markdown",
   "metadata": {},
   "source": [
    "Note in the above example that we first created the passthrough EP, and then we constructed the Graph object to pass to quersive.run_query. The quesiv.Graph object is NOT and EP (i.e., Graph objects cannot be sinked our sourced themselves), but it does support sinking and sourcing of event processors. Rather than returning an EP, its sink and source methods return the same graph:"
   ]
  },
  {
   "cell_type": "code",
   "execution_count": 58,
   "metadata": {},
   "outputs": [
    {
     "data": {
      "text/html": [
       "<div>\n",
       "<table border=\"1\" class=\"dataframe\">\n",
       "  <thead>\n",
       "    <tr style=\"text-align: right;\">\n",
       "      <th></th>\n",
       "      <th>EXCHANGE</th>\n",
       "      <th>PRICE</th>\n",
       "      <th>SIZE</th>\n",
       "      <th>Time</th>\n",
       "    </tr>\n",
       "  </thead>\n",
       "  <tbody>\n",
       "    <tr>\n",
       "      <th>0</th>\n",
       "      <td>N</td>\n",
       "      <td>105.05</td>\n",
       "      <td>1500</td>\n",
       "      <td>2005-01-03 14:35:52.659</td>\n",
       "    </tr>\n",
       "    <tr>\n",
       "      <th>1</th>\n",
       "      <td>N</td>\n",
       "      <td>105.05</td>\n",
       "      <td>200</td>\n",
       "      <td>2005-01-03 14:35:56.661</td>\n",
       "    </tr>\n",
       "    <tr>\n",
       "      <th>2</th>\n",
       "      <td>N</td>\n",
       "      <td>105.08</td>\n",
       "      <td>500</td>\n",
       "      <td>2005-01-03 14:35:58.660</td>\n",
       "    </tr>\n",
       "    <tr>\n",
       "      <th>3</th>\n",
       "      <td>N</td>\n",
       "      <td>105.08</td>\n",
       "      <td>100</td>\n",
       "      <td>2005-01-03 14:36:00.661</td>\n",
       "    </tr>\n",
       "    <tr>\n",
       "      <th>4</th>\n",
       "      <td>N</td>\n",
       "      <td>105.07</td>\n",
       "      <td>100</td>\n",
       "      <td>2005-01-03 14:36:01.161</td>\n",
       "    </tr>\n",
       "  </tbody>\n",
       "</table>\n",
       "</div>"
      ],
      "text/plain": [
       "  EXCHANGE   PRICE  SIZE                    Time\n",
       "0        N  105.05  1500 2005-01-03 14:35:52.659\n",
       "1        N  105.05   200 2005-01-03 14:35:56.661\n",
       "2        N  105.08   500 2005-01-03 14:35:58.660\n",
       "3        N  105.08   100 2005-01-03 14:36:00.661\n",
       "4        N  105.07   100 2005-01-03 14:36:01.161"
      ]
     },
     "execution_count": 58,
     "metadata": {},
     "output_type": "execute_result"
    }
   ],
   "source": [
    "import quersive as q\n",
    "from datetime import datetime\n",
    "import pandas as pd\n",
    "\n",
    "g = q.Graph(q.passthrough(ticktype='TRD')) >> q.where_clause(where='PRICE > 105') >> q.table(fields='PRICE,SIZE,EXCHANGE')\n",
    "result = q.run_query(g,symbol='FULL_DEMO_L1::GS',s=datetime(2005,1,3,9,30),e=datetime(2005,1,3,16))\n",
    "pd.DataFrame(result['FULL_DEMO_L1::GS']).head()"
   ]
  },
  {
   "cell_type": "markdown",
   "metadata": {},
   "source": [
    "Sourcing the where_clause can be easily achieved as well:"
   ]
  },
  {
   "cell_type": "code",
   "execution_count": 59,
   "metadata": {},
   "outputs": [
    {
     "data": {
      "text/html": [
       "<div>\n",
       "<table border=\"1\" class=\"dataframe\">\n",
       "  <thead>\n",
       "    <tr style=\"text-align: right;\">\n",
       "      <th></th>\n",
       "      <th>COND</th>\n",
       "      <th>CORR</th>\n",
       "      <th>DELETED_TIME</th>\n",
       "      <th>EXCHANGE</th>\n",
       "      <th>OMDSEQ</th>\n",
       "      <th>PRICE</th>\n",
       "      <th>SEQ_NUM</th>\n",
       "      <th>SIZE</th>\n",
       "      <th>SOURCE</th>\n",
       "      <th>STOP_STOCK</th>\n",
       "      <th>TICKER</th>\n",
       "      <th>TICK_STATUS</th>\n",
       "      <th>Time</th>\n",
       "    </tr>\n",
       "  </thead>\n",
       "  <tbody>\n",
       "    <tr>\n",
       "      <th>0</th>\n",
       "      <td></td>\n",
       "      <td>0</td>\n",
       "      <td>1970-01-01</td>\n",
       "      <td>N</td>\n",
       "      <td>0</td>\n",
       "      <td>105.05</td>\n",
       "      <td>1971504952659752</td>\n",
       "      <td>1500</td>\n",
       "      <td>C</td>\n",
       "      <td>N</td>\n",
       "      <td>G</td>\n",
       "      <td>0</td>\n",
       "      <td>2005-01-03 14:35:52.659</td>\n",
       "    </tr>\n",
       "    <tr>\n",
       "      <th>1</th>\n",
       "      <td>E</td>\n",
       "      <td>0</td>\n",
       "      <td>1970-01-01</td>\n",
       "      <td>N</td>\n",
       "      <td>0</td>\n",
       "      <td>105.05</td>\n",
       "      <td>1971504956661036</td>\n",
       "      <td>200</td>\n",
       "      <td>C</td>\n",
       "      <td>N</td>\n",
       "      <td>G</td>\n",
       "      <td>0</td>\n",
       "      <td>2005-01-03 14:35:56.661</td>\n",
       "    </tr>\n",
       "    <tr>\n",
       "      <th>2</th>\n",
       "      <td>E</td>\n",
       "      <td>0</td>\n",
       "      <td>1970-01-01</td>\n",
       "      <td>N</td>\n",
       "      <td>0</td>\n",
       "      <td>105.08</td>\n",
       "      <td>1971504958660452</td>\n",
       "      <td>500</td>\n",
       "      <td>C</td>\n",
       "      <td>N</td>\n",
       "      <td>G</td>\n",
       "      <td>0</td>\n",
       "      <td>2005-01-03 14:35:58.660</td>\n",
       "    </tr>\n",
       "    <tr>\n",
       "      <th>3</th>\n",
       "      <td></td>\n",
       "      <td>0</td>\n",
       "      <td>1970-01-01</td>\n",
       "      <td>N</td>\n",
       "      <td>0</td>\n",
       "      <td>105.08</td>\n",
       "      <td>1971504960661857</td>\n",
       "      <td>100</td>\n",
       "      <td>C</td>\n",
       "      <td>N</td>\n",
       "      <td>G</td>\n",
       "      <td>0</td>\n",
       "      <td>2005-01-03 14:36:00.661</td>\n",
       "    </tr>\n",
       "    <tr>\n",
       "      <th>4</th>\n",
       "      <td></td>\n",
       "      <td>0</td>\n",
       "      <td>1970-01-01</td>\n",
       "      <td>N</td>\n",
       "      <td>0</td>\n",
       "      <td>105.07</td>\n",
       "      <td>1971504961161477</td>\n",
       "      <td>100</td>\n",
       "      <td>C</td>\n",
       "      <td>N</td>\n",
       "      <td>G</td>\n",
       "      <td>0</td>\n",
       "      <td>2005-01-03 14:36:01.161</td>\n",
       "    </tr>\n",
       "  </tbody>\n",
       "</table>\n",
       "</div>"
      ],
      "text/plain": [
       "  COND  CORR DELETED_TIME EXCHANGE  OMDSEQ   PRICE           SEQ_NUM  SIZE  \\\n",
       "0          0   1970-01-01        N       0  105.05  1971504952659752  1500   \n",
       "1    E     0   1970-01-01        N       0  105.05  1971504956661036   200   \n",
       "2    E     0   1970-01-01        N       0  105.08  1971504958660452   500   \n",
       "3          0   1970-01-01        N       0  105.08  1971504960661857   100   \n",
       "4          0   1970-01-01        N       0  105.07  1971504961161477   100   \n",
       "\n",
       "  SOURCE STOP_STOCK TICKER  TICK_STATUS                    Time  \n",
       "0      C          N      G            0 2005-01-03 14:35:52.659  \n",
       "1      C          N      G            0 2005-01-03 14:35:56.661  \n",
       "2      C          N      G            0 2005-01-03 14:35:58.660  \n",
       "3      C          N      G            0 2005-01-03 14:36:00.661  \n",
       "4      C          N      G            0 2005-01-03 14:36:01.161  "
      ]
     },
     "execution_count": 59,
     "metadata": {},
     "output_type": "execute_result"
    }
   ],
   "source": [
    "import quersive as q\n",
    "from datetime import datetime\n",
    "import pandas as pd\n",
    "\n",
    "g = q.Graph(q.passthrough(ticktype='TRD')) << q.where_clause(where='PRICE > 105')\n",
    "result = q.run_query(g,symbol='FULL_DEMO_L1::GS',s=datetime(2005,1,3,9,30),e=datetime(2005,1,3,16))\n",
    "pd.DataFrame(result['FULL_DEMO_L1::GS']).head()"
   ]
  },
  {
   "cell_type": "markdown",
   "metadata": {},
   "source": [
    "<a><a id=\"head\"></a>\n",
    "## The Head EP on the Graph\n",
    "\n",
    "The Graph object always keeps track of the last EP sourced or sinked to it via the 'head' property; whenever an EP is added to the Graph, the head of the Graph is updated and yields the EP. For example, consider the above examples:"
   ]
  },
  {
   "cell_type": "code",
   "execution_count": 60,
   "metadata": {},
   "outputs": [
    {
     "name": "stdout",
     "output_type": "stream",
     "text": [
      "True\n",
      "True\n",
      "True\n",
      "True\n"
     ]
    }
   ],
   "source": [
    "import quersive as q\n",
    "from datetime import datetime\n",
    "import pandas as pd\n",
    "\n",
    "p = q.passthrough(ticktype='TRD')\n",
    "g = q.Graph(p)\n",
    "\n",
    "print(p.name == g.head.name)\n",
    "print(p is g.head)\n",
    "\n",
    "w = q.where_clause(where='PRICE>105')\n",
    "g >> w\n",
    "\n",
    "print(w.name == g.head.name)\n",
    "print(w is g.head)"
   ]
  },
  {
   "cell_type": "markdown",
   "metadata": {},
   "source": [
    "Care must be taken when sinking or sourcing to the Graph object vs. sinking or sourcing to the underlying EP directly. If the underlying EP is accessed or is sinked-to/sourced-from directly the Graph object's head will not be updated, though the EP will still be connected to the Graph. For example, "
   ]
  },
  {
   "cell_type": "code",
   "execution_count": 61,
   "metadata": {},
   "outputs": [
    {
     "name": "stdout",
     "output_type": "stream",
     "text": [
      "True\n",
      "True\n",
      "False\n",
      "False\n"
     ]
    }
   ],
   "source": [
    "import quersive as q\n",
    "from datetime import datetime\n",
    "import pandas as pd\n",
    "\n",
    "p = q.passthrough(ticktype='TRD')\n",
    "g = q.Graph(p)\n",
    "\n",
    "print(p.name == g.head.name)\n",
    "print(p is g.head)\n",
    "\n",
    "w = q.where_clause(where='PRICE>105')\n",
    "p >> w\n",
    "\n",
    "print(w.name == g.head.name)\n",
    "print(w is g.head)"
   ]
  },
  {
   "cell_type": "markdown",
   "metadata": {},
   "source": [
    "In the above case, the 'where_clause' EP was directly sinked to the 'passthrough' EP and was therefore done 'off the graph', so the graph object's head still points to the passthrough EP. To update the head EP on the graph, it can be re-set, as:"
   ]
  },
  {
   "cell_type": "code",
   "execution_count": 62,
   "metadata": {},
   "outputs": [
    {
     "name": "stdout",
     "output_type": "stream",
     "text": [
      "True\n",
      "True\n",
      "True\n",
      "True\n"
     ]
    }
   ],
   "source": [
    "import quersive as q\n",
    "from datetime import datetime\n",
    "import pandas as pd\n",
    "\n",
    "p = q.passthrough(ticktype='TRD')\n",
    "g = q.Graph(p)\n",
    "\n",
    "print(p.name == g.head.name)\n",
    "print(p is g.head)\n",
    "\n",
    "w = q.where_clause(where='PRICE>105')\n",
    "p >> w\n",
    "\n",
    "g.head = w\n",
    "\n",
    "print(w.name == g.head.name)\n",
    "print(w is g.head)"
   ]
  },
  {
   "cell_type": "markdown",
   "metadata": {},
   "source": [
    "<a><a id=\"pins\"></a>\n",
    "## EventProcessor pins\n",
    "In the above example, the passthrough EP was sinked or sourced to the 'IF' pin of the Where_Clause EP, by default. To attach to the 'Else' pin, the 'pin' method of the EP object is called, below. In the example below, prices are filtered by PRICE < 105 since the Passthrough EP is sourcing the 'else' pin.\n"
   ]
  },
  {
   "cell_type": "code",
   "execution_count": 63,
   "metadata": {},
   "outputs": [
    {
     "data": {
      "text/html": [
       "<div>\n",
       "<table border=\"1\" class=\"dataframe\">\n",
       "  <thead>\n",
       "    <tr style=\"text-align: right;\">\n",
       "      <th></th>\n",
       "      <th>COND</th>\n",
       "      <th>CORR</th>\n",
       "      <th>DELETED_TIME</th>\n",
       "      <th>EXCHANGE</th>\n",
       "      <th>OMDSEQ</th>\n",
       "      <th>PRICE</th>\n",
       "      <th>SEQ_NUM</th>\n",
       "      <th>SIZE</th>\n",
       "      <th>SOURCE</th>\n",
       "      <th>STOP_STOCK</th>\n",
       "      <th>TICKER</th>\n",
       "      <th>TICK_STATUS</th>\n",
       "      <th>Time</th>\n",
       "    </tr>\n",
       "  </thead>\n",
       "  <tbody>\n",
       "    <tr>\n",
       "      <th>0</th>\n",
       "      <td></td>\n",
       "      <td>0</td>\n",
       "      <td>1970-01-01</td>\n",
       "      <td>N</td>\n",
       "      <td>0</td>\n",
       "      <td>104.9</td>\n",
       "      <td>1971504712011575</td>\n",
       "      <td>40400</td>\n",
       "      <td>C</td>\n",
       "      <td>N</td>\n",
       "      <td>G</td>\n",
       "      <td>0</td>\n",
       "      <td>2005-01-03 14:31:52.011</td>\n",
       "    </tr>\n",
       "    <tr>\n",
       "      <th>1</th>\n",
       "      <td></td>\n",
       "      <td>0</td>\n",
       "      <td>1970-01-01</td>\n",
       "      <td>T</td>\n",
       "      <td>0</td>\n",
       "      <td>104.9</td>\n",
       "      <td>1971504713008187</td>\n",
       "      <td>1200</td>\n",
       "      <td>C</td>\n",
       "      <td>N</td>\n",
       "      <td>G</td>\n",
       "      <td>0</td>\n",
       "      <td>2005-01-03 14:31:53.008</td>\n",
       "    </tr>\n",
       "    <tr>\n",
       "      <th>2</th>\n",
       "      <td></td>\n",
       "      <td>0</td>\n",
       "      <td>1970-01-01</td>\n",
       "      <td>T</td>\n",
       "      <td>0</td>\n",
       "      <td>104.9</td>\n",
       "      <td>1971504713508334</td>\n",
       "      <td>1000</td>\n",
       "      <td>C</td>\n",
       "      <td>N</td>\n",
       "      <td>G</td>\n",
       "      <td>0</td>\n",
       "      <td>2005-01-03 14:31:53.508</td>\n",
       "    </tr>\n",
       "    <tr>\n",
       "      <th>3</th>\n",
       "      <td></td>\n",
       "      <td>0</td>\n",
       "      <td>1970-01-01</td>\n",
       "      <td>T</td>\n",
       "      <td>0</td>\n",
       "      <td>104.9</td>\n",
       "      <td>1971504713511894</td>\n",
       "      <td>100</td>\n",
       "      <td>C</td>\n",
       "      <td>N</td>\n",
       "      <td>G</td>\n",
       "      <td>0</td>\n",
       "      <td>2005-01-03 14:31:53.511</td>\n",
       "    </tr>\n",
       "    <tr>\n",
       "      <th>4</th>\n",
       "      <td></td>\n",
       "      <td>0</td>\n",
       "      <td>1970-01-01</td>\n",
       "      <td>T</td>\n",
       "      <td>0</td>\n",
       "      <td>104.9</td>\n",
       "      <td>1971504713515182</td>\n",
       "      <td>200</td>\n",
       "      <td>C</td>\n",
       "      <td>N</td>\n",
       "      <td>G</td>\n",
       "      <td>0</td>\n",
       "      <td>2005-01-03 14:31:53.515</td>\n",
       "    </tr>\n",
       "  </tbody>\n",
       "</table>\n",
       "</div>"
      ],
      "text/plain": [
       "  COND  CORR DELETED_TIME EXCHANGE  OMDSEQ  PRICE           SEQ_NUM   SIZE  \\\n",
       "0          0   1970-01-01        N       0  104.9  1971504712011575  40400   \n",
       "1          0   1970-01-01        T       0  104.9  1971504713008187   1200   \n",
       "2          0   1970-01-01        T       0  104.9  1971504713508334   1000   \n",
       "3          0   1970-01-01        T       0  104.9  1971504713511894    100   \n",
       "4          0   1970-01-01        T       0  104.9  1971504713515182    200   \n",
       "\n",
       "  SOURCE STOP_STOCK TICKER  TICK_STATUS                    Time  \n",
       "0      C          N      G            0 2005-01-03 14:31:52.011  \n",
       "1      C          N      G            0 2005-01-03 14:31:53.008  \n",
       "2      C          N      G            0 2005-01-03 14:31:53.508  \n",
       "3      C          N      G            0 2005-01-03 14:31:53.511  \n",
       "4      C          N      G            0 2005-01-03 14:31:53.515  "
      ]
     },
     "execution_count": 63,
     "metadata": {},
     "output_type": "execute_result"
    }
   ],
   "source": [
    "import quersive as q\n",
    "from datetime import datetime\n",
    "import pandas as pd\n",
    "\n",
    "g = q.Graph(q.passthrough(ticktype='TRD')) << q.where_clause(where='PRICE > 105').pin('else')\n",
    "result = q.run_query(g,symbol='FULL_DEMO_L1::GS',s=datetime(2005,1,3,9,30),e=datetime(2005,1,3,16))\n",
    "pd.DataFrame(result['FULL_DEMO_L1::GS']).head()"
   ]
  },
  {
   "cell_type": "markdown",
   "metadata": {},
   "source": [
    "Likewise, pins can be used when sinking from the Where_Clause EP:"
   ]
  },
  {
   "cell_type": "code",
   "execution_count": 64,
   "metadata": {},
   "outputs": [
    {
     "data": {
      "text/html": [
       "<div>\n",
       "<table border=\"1\" class=\"dataframe\">\n",
       "  <thead>\n",
       "    <tr style=\"text-align: right;\">\n",
       "      <th></th>\n",
       "      <th>COND</th>\n",
       "      <th>CORR</th>\n",
       "      <th>DELETED_TIME</th>\n",
       "      <th>EXCHANGE</th>\n",
       "      <th>OMDSEQ</th>\n",
       "      <th>PRICE</th>\n",
       "      <th>SEQ_NUM</th>\n",
       "      <th>SIZE</th>\n",
       "      <th>SOURCE</th>\n",
       "      <th>STOP_STOCK</th>\n",
       "      <th>TICKER</th>\n",
       "      <th>TICK_STATUS</th>\n",
       "      <th>Time</th>\n",
       "    </tr>\n",
       "  </thead>\n",
       "  <tbody>\n",
       "    <tr>\n",
       "      <th>0</th>\n",
       "      <td></td>\n",
       "      <td>0</td>\n",
       "      <td>1970-01-01</td>\n",
       "      <td>N</td>\n",
       "      <td>0</td>\n",
       "      <td>104.9</td>\n",
       "      <td>1971504712011575</td>\n",
       "      <td>40400</td>\n",
       "      <td>C</td>\n",
       "      <td>N</td>\n",
       "      <td>G</td>\n",
       "      <td>0</td>\n",
       "      <td>2005-01-03 14:31:52.011</td>\n",
       "    </tr>\n",
       "    <tr>\n",
       "      <th>1</th>\n",
       "      <td></td>\n",
       "      <td>0</td>\n",
       "      <td>1970-01-01</td>\n",
       "      <td>T</td>\n",
       "      <td>0</td>\n",
       "      <td>104.9</td>\n",
       "      <td>1971504713008187</td>\n",
       "      <td>1200</td>\n",
       "      <td>C</td>\n",
       "      <td>N</td>\n",
       "      <td>G</td>\n",
       "      <td>0</td>\n",
       "      <td>2005-01-03 14:31:53.008</td>\n",
       "    </tr>\n",
       "    <tr>\n",
       "      <th>2</th>\n",
       "      <td></td>\n",
       "      <td>0</td>\n",
       "      <td>1970-01-01</td>\n",
       "      <td>T</td>\n",
       "      <td>0</td>\n",
       "      <td>104.9</td>\n",
       "      <td>1971504713508334</td>\n",
       "      <td>1000</td>\n",
       "      <td>C</td>\n",
       "      <td>N</td>\n",
       "      <td>G</td>\n",
       "      <td>0</td>\n",
       "      <td>2005-01-03 14:31:53.508</td>\n",
       "    </tr>\n",
       "    <tr>\n",
       "      <th>3</th>\n",
       "      <td></td>\n",
       "      <td>0</td>\n",
       "      <td>1970-01-01</td>\n",
       "      <td>T</td>\n",
       "      <td>0</td>\n",
       "      <td>104.9</td>\n",
       "      <td>1971504713511894</td>\n",
       "      <td>100</td>\n",
       "      <td>C</td>\n",
       "      <td>N</td>\n",
       "      <td>G</td>\n",
       "      <td>0</td>\n",
       "      <td>2005-01-03 14:31:53.511</td>\n",
       "    </tr>\n",
       "    <tr>\n",
       "      <th>4</th>\n",
       "      <td></td>\n",
       "      <td>0</td>\n",
       "      <td>1970-01-01</td>\n",
       "      <td>T</td>\n",
       "      <td>0</td>\n",
       "      <td>104.9</td>\n",
       "      <td>1971504713515182</td>\n",
       "      <td>200</td>\n",
       "      <td>C</td>\n",
       "      <td>N</td>\n",
       "      <td>G</td>\n",
       "      <td>0</td>\n",
       "      <td>2005-01-03 14:31:53.515</td>\n",
       "    </tr>\n",
       "  </tbody>\n",
       "</table>\n",
       "</div>"
      ],
      "text/plain": [
       "  COND  CORR DELETED_TIME EXCHANGE  OMDSEQ  PRICE           SEQ_NUM   SIZE  \\\n",
       "0          0   1970-01-01        N       0  104.9  1971504712011575  40400   \n",
       "1          0   1970-01-01        T       0  104.9  1971504713008187   1200   \n",
       "2          0   1970-01-01        T       0  104.9  1971504713508334   1000   \n",
       "3          0   1970-01-01        T       0  104.9  1971504713511894    100   \n",
       "4          0   1970-01-01        T       0  104.9  1971504713515182    200   \n",
       "\n",
       "  SOURCE STOP_STOCK TICKER  TICK_STATUS                    Time  \n",
       "0      C          N      G            0 2005-01-03 14:31:52.011  \n",
       "1      C          N      G            0 2005-01-03 14:31:53.008  \n",
       "2      C          N      G            0 2005-01-03 14:31:53.508  \n",
       "3      C          N      G            0 2005-01-03 14:31:53.511  \n",
       "4      C          N      G            0 2005-01-03 14:31:53.515  "
      ]
     },
     "execution_count": 64,
     "metadata": {},
     "output_type": "execute_result"
    }
   ],
   "source": [
    "import quersive as q\n",
    "from datetime import datetime\n",
    "import pandas as pd\n",
    "\n",
    "g = q.Graph(q.where_clause(where='PRICE > 105').pin('else')) >> q.passthrough(ticktype='TRD')\n",
    "result = q.run_query(g,symbol='FULL_DEMO_L1::GS',s=datetime(2005,1,3,9,30),e=datetime(2005,1,3,16))\n",
    "pd.DataFrame(result['FULL_DEMO_L1::GS']).head()"
   ]
  },
  {
   "cell_type": "markdown",
   "metadata": {},
   "source": [
    "<a><a id=\"labels\"></a>\n",
    "## Labeling an EventProcessor"
   ]
  },
  {
   "cell_type": "markdown",
   "metadata": {},
   "source": [
    "Labeling an EP is necessary when an EP needs to distinguish between mulitiple sources. For example, several of the parameters to the 'JOIN_BY_TIME' EP require specification of one or several of the input data being sourced. LEADING_SOURCES is a parameter that asks how ticks should be updated when they are streaming data into the EP. This is achieved by labeling the input EPs:"
   ]
  },
  {
   "cell_type": "code",
   "execution_count": 65,
   "metadata": {},
   "outputs": [
    {
     "name": "stdout",
     "output_type": "stream",
     "text": [
      "                     Time q.ASK_EXCHANGE  q.ASK_PRICE  q.ASK_SIZE  \\\n",
      "0 2005-01-03 14:31:52.011              C        999.0          10   \n",
      "1 2005-01-03 14:31:53.008              T        105.0          10   \n",
      "2 2005-01-03 14:31:53.508              T        105.0          10   \n",
      "3 2005-01-03 14:31:53.511              T        105.0          10   \n",
      "4 2005-01-03 14:31:53.515              T        105.0          10   \n",
      "\n",
      "  q.BID_EXCHANGE  q.BID_PRICE  q.BID_SIZE q.COND q.CORR q.DELETED_TIME  \\\n",
      "0              C         0.01          10      R            1970-01-01   \n",
      "1              T       104.64           1      R      A     1970-01-01   \n",
      "2              T       104.64           1      R      A     1970-01-01   \n",
      "3              T       104.64           1      R      A     1970-01-01   \n",
      "4              T       104.64           1      R      A     1970-01-01   \n",
      "\n",
      "            ...           t.OMDSEQ t.PRICE         t.SEQ_NUM t.SIZE  t.SOURCE  \\\n",
      "0           ...                  0   104.9  1971504712011575  40400         C   \n",
      "1           ...                  0   104.9  1971504713008187   1200         C   \n",
      "2           ...                  0   104.9  1971504713508334   1000         C   \n",
      "3           ...                  0   104.9  1971504713511894    100         C   \n",
      "4           ...                  0   104.9  1971504713515182    200         C   \n",
      "\n",
      "   t.STOP_STOCK t.TICKER t.TICK_ID  t.TICK_STATUS             t.TIMESTAMP  \n",
      "0             N        G       1.0              0 2005-01-03 14:31:52.011  \n",
      "1             N        G       2.0              0 2005-01-03 14:31:53.008  \n",
      "2             N        G       3.0              0 2005-01-03 14:31:53.508  \n",
      "3             N        G       4.0              0 2005-01-03 14:31:53.511  \n",
      "4             N        G       5.0              0 2005-01-03 14:31:53.515  \n",
      "\n",
      "[5 rows x 35 columns]\n"
     ]
    }
   ],
   "source": [
    "import quersive as q\n",
    "from datetime import datetime\n",
    "import pandas as pd\n",
    "\n",
    "trds = q.passthrough(ticktype='TRD')\n",
    "qtes = q.passthrough(ticktype='QTE')\n",
    "nticks = q.num_ticks(is_running_aggr=True,output_field_name='TICK_ID')\n",
    "\n",
    "g = q.Graph(trds) >> nticks.label('t') >> q.join_by_time(leading_sources='t') << nticks.copy().label('q') << qtes\n",
    "data = q.run_query(g,symbol='FULL_DEMO_L1::GS',s=datetime(2005,1,3,9,30),e=datetime(2005,1,3,16))\n",
    "print(pd.DataFrame(data['FULL_DEMO_L1::GS']).head())\n"
   ]
  },
  {
   "cell_type": "markdown",
   "metadata": {},
   "source": [
    "<a><a id=\"graph_labels\"></a>\n",
    "## Accessing EventProcessors on the Graph via labels\n",
    "\n",
    "In the previous example, trades and quotes were joined by time. To filter all prices > 105, we could make use of the head EP and build the graph like:"
   ]
  },
  {
   "cell_type": "code",
   "execution_count": 66,
   "metadata": {},
   "outputs": [
    {
     "name": "stdout",
     "output_type": "stream",
     "text": [
      "                     Time q.ASK_EXCHANGE  q.ASK_PRICE  q.ASK_SIZE  \\\n",
      "0 2005-01-03 14:35:52.659              N       105.05           1   \n",
      "1 2005-01-03 14:35:56.661              N       105.08           7   \n",
      "2 2005-01-03 14:35:58.660              N       105.08           1   \n",
      "3 2005-01-03 14:36:00.661              T       106.64          10   \n",
      "4 2005-01-03 14:36:01.161              N       105.08          21   \n",
      "\n",
      "  q.BID_EXCHANGE  q.BID_PRICE  q.BID_SIZE q.COND q.CORR q.DELETED_TIME  \\\n",
      "0              N       105.00           9      R            1970-01-01   \n",
      "1              N       105.05           1      R            1970-01-01   \n",
      "2              N       105.05           1      R            1970-01-01   \n",
      "3              T        90.85          10      R      A     1970-01-01   \n",
      "4              N       105.07           1      R            1970-01-01   \n",
      "\n",
      "            ...           t.OMDSEQ t.PRICE         t.SEQ_NUM t.SIZE  t.SOURCE  \\\n",
      "0           ...                  0  105.05  1971504952659752   1500         C   \n",
      "1           ...                  0  105.05  1971504956661036    200         C   \n",
      "2           ...                  0  105.08  1971504958660452    500         C   \n",
      "3           ...                  0  105.08  1971504960661857    100         C   \n",
      "4           ...                  0  105.07  1971504961161477    100         C   \n",
      "\n",
      "   t.STOP_STOCK t.TICKER t.TICK_ID  t.TICK_STATUS             t.TIMESTAMP  \n",
      "0             N        G      68.0              0 2005-01-03 14:35:52.659  \n",
      "1             N        G      70.0              0 2005-01-03 14:35:56.661  \n",
      "2             N        G      71.0              0 2005-01-03 14:35:58.660  \n",
      "3             N        G      72.0              0 2005-01-03 14:36:00.661  \n",
      "4             N        G      73.0              0 2005-01-03 14:36:01.161  \n",
      "\n",
      "[5 rows x 35 columns]\n"
     ]
    }
   ],
   "source": [
    "import quersive as q\n",
    "from datetime import datetime\n",
    "import pandas as pd\n",
    "\n",
    "trds = q.passthrough(ticktype='TRD')\n",
    "qtes = q.passthrough(ticktype='QTE')\n",
    "nticks = q.num_ticks(is_running_aggr=True,output_field_name='TICK_ID')\n",
    "\n",
    "join = q.join_by_time(leading_sources='t') \n",
    "g = q.Graph(trds) >> nticks.label('t') >> join << nticks.copy().label('q') << qtes\n",
    "join >> q.where_clause(where='t.PRICE>105')\n",
    "data = q.run_query(g,symbol='FULL_DEMO_L1::GS',s=datetime(2005,1,3,9,30),e=datetime(2005,1,3,16))\n",
    "print(pd.DataFrame(data['FULL_DEMO_L1::GS']).head())"
   ]
  },
  {
   "cell_type": "markdown",
   "metadata": {},
   "source": [
    "Above, the 'join_by_time' EP was explicitly set to the variable 'join' and the where_clause EP was sinked thereafter. A more intuitive approach is to label the join_by_time EP and set it directly:"
   ]
  },
  {
   "cell_type": "code",
   "execution_count": 67,
   "metadata": {},
   "outputs": [
    {
     "name": "stdout",
     "output_type": "stream",
     "text": [
      "False\n",
      "<class 'quersive.graph.Graph'>\n",
      "<class 'quersive.ep.JoinByTime'>\n",
      "                     Time q.ASK_EXCHANGE  q.ASK_PRICE  q.ASK_SIZE  \\\n",
      "0 2005-01-03 14:35:52.659              N       105.05           1   \n",
      "1 2005-01-03 14:35:56.661              N       105.08           7   \n",
      "2 2005-01-03 14:35:58.660              N       105.08           1   \n",
      "3 2005-01-03 14:36:00.661              T       106.64          10   \n",
      "4 2005-01-03 14:36:01.161              N       105.08          21   \n",
      "\n",
      "  q.BID_EXCHANGE  q.BID_PRICE  q.BID_SIZE q.COND q.CORR q.DELETED_TIME  \\\n",
      "0              N       105.00           9      R            1970-01-01   \n",
      "1              N       105.05           1      R            1970-01-01   \n",
      "2              N       105.05           1      R            1970-01-01   \n",
      "3              T        90.85          10      R      A     1970-01-01   \n",
      "4              N       105.07           1      R            1970-01-01   \n",
      "\n",
      "            ...           t.OMDSEQ t.PRICE         t.SEQ_NUM t.SIZE  t.SOURCE  \\\n",
      "0           ...                  0  105.05  1971504952659752   1500         C   \n",
      "1           ...                  0  105.05  1971504956661036    200         C   \n",
      "2           ...                  0  105.08  1971504958660452    500         C   \n",
      "3           ...                  0  105.08  1971504960661857    100         C   \n",
      "4           ...                  0  105.07  1971504961161477    100         C   \n",
      "\n",
      "   t.STOP_STOCK t.TICKER t.TICK_ID  t.TICK_STATUS             t.TIMESTAMP  \n",
      "0             N        G      68.0              0 2005-01-03 14:35:52.659  \n",
      "1             N        G      70.0              0 2005-01-03 14:35:56.661  \n",
      "2             N        G      71.0              0 2005-01-03 14:35:58.660  \n",
      "3             N        G      72.0              0 2005-01-03 14:36:00.661  \n",
      "4             N        G      73.0              0 2005-01-03 14:36:01.161  \n",
      "\n",
      "[5 rows x 35 columns]\n"
     ]
    }
   ],
   "source": [
    "import quersive as q\n",
    "from datetime import datetime\n",
    "import pandas as pd\n",
    "\n",
    "trds = q.passthrough(ticktype='TRD')\n",
    "qtes = q.passthrough(ticktype='QTE')\n",
    "nticks = q.num_ticks(is_running_aggr=True,output_field_name='TICK_ID')\n",
    "\n",
    "g = q.Graph(trds) >> nticks.label('t') >> q.join_by_time(leading_sources='t').label('join') << nticks.copy().label('q') << qtes\n",
    "g['join'] >> q.where_clause(where='t.PRICE>105')\n",
    "print(g.head is g['join'])\n",
    "print(type(g))\n",
    "print(type(g['join']))\n",
    "\n",
    "data = q.run_query(g,symbol='FULL_DEMO_L1::GS',s=datetime(2005,1,3,9,30),e=datetime(2005,1,3,16))\n",
    "print(pd.DataFrame(data['FULL_DEMO_L1::GS']).head())"
   ]
  },
  {
   "cell_type": "markdown",
   "metadata": {},
   "source": [
    "EPs that are labeled AND sinked/sourced to the graph can be accessed from the graph directly via the overloaded dict operator '[]'. In the above example, g['join'] refers to the underlying EP, join_by_time, and is an example of sinking an EP off-the-graph, as described above."
   ]
  },
  {
   "cell_type": "markdown",
   "metadata": {},
   "source": [
    "<a><a id=\"multi_output\"></a>\n",
    "## Outputs from multiple EventProcessors\n",
    "\n",
    "By default, only leaf-nodes (defined as those EPs that do not have any sinks and are not sourced by any other EP) are automatically output from the graph. In all of the examples thus far, only a single leaf node is present. Any EP, however, can output data via the 'output' function on the EP. The below example outputs from both EPs:"
   ]
  },
  {
   "cell_type": "code",
   "execution_count": 68,
   "metadata": {},
   "outputs": [
    {
     "name": "stdout",
     "output_type": "stream",
     "text": [
      "  COND  CORR DELETED_TIME EXCHANGE  OMDSEQ   PRICE           SEQ_NUM  SIZE  \\\n",
      "0          0   1970-01-01        N       0  105.05  1971504952659752  1500   \n",
      "1    E     0   1970-01-01        N       0  105.05  1971504956661036   200   \n",
      "2    E     0   1970-01-01        N       0  105.08  1971504958660452   500   \n",
      "3          0   1970-01-01        N       0  105.08  1971504960661857   100   \n",
      "4          0   1970-01-01        N       0  105.07  1971504961161477   100   \n",
      "\n",
      "  SOURCE STOP_STOCK TICKER  TICK_STATUS                    Time  \n",
      "0      C          N      G            0 2005-01-03 14:35:52.659  \n",
      "1      C          N      G            0 2005-01-03 14:35:56.661  \n",
      "2      C          N      G            0 2005-01-03 14:35:58.660  \n",
      "3      C          N      G            0 2005-01-03 14:36:00.661  \n",
      "4      C          N      G            0 2005-01-03 14:36:01.161  \n",
      "  COND  CORR DELETED_TIME EXCHANGE  OMDSEQ  PRICE           SEQ_NUM   SIZE  \\\n",
      "0          0   1970-01-01        N       0  104.9  1971504712011575  40400   \n",
      "1          0   1970-01-01        T       0  104.9  1971504713008187   1200   \n",
      "2          0   1970-01-01        T       0  104.9  1971504713508334   1000   \n",
      "3          0   1970-01-01        T       0  104.9  1971504713511894    100   \n",
      "4          0   1970-01-01        T       0  104.9  1971504713515182    200   \n",
      "\n",
      "  SOURCE STOP_STOCK TICKER  TICK_STATUS                    Time  \n",
      "0      C          N      G            0 2005-01-03 14:31:52.011  \n",
      "1      C          N      G            0 2005-01-03 14:31:53.008  \n",
      "2      C          N      G            0 2005-01-03 14:31:53.508  \n",
      "3      C          N      G            0 2005-01-03 14:31:53.511  \n",
      "4      C          N      G            0 2005-01-03 14:31:53.515  \n"
     ]
    }
   ],
   "source": [
    "import quersive as q\n",
    "from datetime import datetime\n",
    "import pandas as pd\n",
    "\n",
    "g = q.Graph(q.where_clause(where='PRICE > 105').pin('else').output(True)) >> q.passthrough(ticktype='TRD')\n",
    "result = q.run_query(g,symbol='FULL_DEMO_L1::GS',s=datetime(2005,1,3,9,30),e=datetime(2005,1,3,16))\n",
    "for o in result('FULL_DEMO_L1::GS'):\n",
    "    print(pd.DataFrame(o).head())"
   ]
  },
  {
   "cell_type": "markdown",
   "metadata": {},
   "source": [
    "Note that to see all of the output, the call operator '()' is used rather than the '[]' operator."
   ]
  },
  {
   "cell_type": "markdown",
   "metadata": {},
   "source": [
    "<a><a id=\"bind\"></a>\n",
    "## Binding symbols to an EventProcessor\n",
    "\n",
    "Symbols can be directly bound to an EP via the 'Symbol' method on the EP. Several  [examples](#return_correlation) below illustrate this usage"
   ]
  },
  {
   "cell_type": "markdown",
   "metadata": {},
   "source": [
    "<a><a id=\"chainlet\"></a>\n",
    "## Using utility functions for common Graph patterns\n",
    "\n",
    "Several patterns appear very frequently when building (simple) Graphs. Chief among them is the singly-connected graph. For example:"
   ]
  },
  {
   "cell_type": "code",
   "execution_count": 69,
   "metadata": {},
   "outputs": [
    {
     "name": "stdout",
     "output_type": "stream",
     "text": [
      "    PRICE                    Time\n",
      "0  105.05 2005-01-03 14:35:52.659\n",
      "1  105.05 2005-01-03 14:35:56.661\n",
      "2  105.08 2005-01-03 14:35:58.660\n",
      "3  105.08 2005-01-03 14:36:00.661\n",
      "4  105.07 2005-01-03 14:36:01.161\n"
     ]
    }
   ],
   "source": [
    "import quersive as q\n",
    "from datetime import datetime\n",
    "import pandas as pd\n",
    "\n",
    "g = q.Graph(q.passthrough(ticktype='TRD')) >> q.where_clause(where='PRICE>105') >> q.table(fields='PRICE')\n",
    "result=q.run_query(g, symbol='FULL_DEMO_L1::GS',s=datetime(2005,1,3,9,30),e=datetime(2005,1,3,16))\n",
    "print(pd.DataFrame(result['FULL_DEMO_L1::GS']).head())"
   ]
  },
  {
   "cell_type": "markdown",
   "metadata": {},
   "source": [
    "The above example is a linear chain where all EPs are sinked together. In fact, most of the examples in this tutorial are of this type. Since this is a recurring theme a convenience function is available to construct it. Graph.chainlet is a static function that accepts a list of EPs and builds a singly-linked graph (chainlet) and returns the graph object:"
   ]
  },
  {
   "cell_type": "code",
   "execution_count": 70,
   "metadata": {},
   "outputs": [
    {
     "name": "stdout",
     "output_type": "stream",
     "text": [
      "    PRICE                    Time\n",
      "0  105.05 2005-01-03 14:35:52.659\n",
      "1  105.05 2005-01-03 14:35:56.661\n",
      "2  105.08 2005-01-03 14:35:58.660\n",
      "3  105.08 2005-01-03 14:36:00.661\n",
      "4  105.07 2005-01-03 14:36:01.161\n"
     ]
    }
   ],
   "source": [
    "import quersive as q\n",
    "from datetime import datetime\n",
    "import pandas as pd\n",
    "\n",
    "g = q.Graph.chainlet([q.passthrough(ticktype='TRD'),q.where_clause(where='PRICE>105'),q.table(fields='PRICE')])\n",
    "result=q.run_query(g, symbol='FULL_DEMO_L1::GS',s=datetime(2005,1,3,9,30),e=datetime(2005,1,3,16))\n",
    "print(pd.DataFrame(result['FULL_DEMO_L1::GS']).head())"
   ]
  },
  {
   "cell_type": "markdown",
   "metadata": {},
   "source": [
    "Another common usage pattern results from using the join-by-time EP. Another utility function, Graph.join_chainlets, is available to join to lists of EPs. It returns the Graph object with the head node pointing to the 'join' EP:"
   ]
  },
  {
   "cell_type": "code",
   "execution_count": 71,
   "metadata": {},
   "outputs": [
    {
     "name": "stdout",
     "output_type": "stream",
     "text": [
      "  L.COND  L.CORR L.DELETED_TIME L.EXCHANGE  L.OMDSEQ  L.PRICE  L.SEQ_NUM  \\\n",
      "0              0     1970-01-01                    0      0.0          0   \n",
      "1              0     1970-01-01                    0      0.0          0   \n",
      "2              0     1970-01-01                    0      0.0          0   \n",
      "3              0     1970-01-01                    0      0.0          0   \n",
      "4              0     1970-01-01                    0      0.0          0   \n",
      "\n",
      "   L.SIZE L.SOURCE L.STOP_STOCK         ...         R.NASDAQ_BBO_IND  \\\n",
      "0       0                               ...                        3   \n",
      "1       0                               ...                        1   \n",
      "2       0                               ...                        0   \n",
      "3       0                               ...                        0   \n",
      "4       0                               ...                        0   \n",
      "\n",
      "   R.NBBO_IND  R.OMDSEQ R.SEQ_NUM R.SOURCE  R.TICKER  R.TICK_ID R.TICK_STATUS  \\\n",
      "0           1         0     28824        C         G        1.0             0   \n",
      "1           0         0     33589        C         G        2.0             0   \n",
      "2           0         1     33590        C         G        3.0             0   \n",
      "3           1         0     42588        C         G        4.0             0   \n",
      "4           0         1     42634        C         G        5.0             0   \n",
      "\n",
      "          R.TIMESTAMP                Time  \n",
      "0 2005-01-03 14:30:01 2005-01-03 14:30:01  \n",
      "1 2005-01-03 14:30:43 2005-01-03 14:30:43  \n",
      "2 2005-01-03 14:30:43 2005-01-03 14:30:43  \n",
      "3 2005-01-03 14:31:52 2005-01-03 14:31:52  \n",
      "4 2005-01-03 14:31:52 2005-01-03 14:31:52  \n",
      "\n",
      "[5 rows x 35 columns]\n",
      "JOIN_BY_TIME\n"
     ]
    }
   ],
   "source": [
    "import quersive as q\n",
    "from datetime import datetime\n",
    "import pandas as pd\n",
    "\n",
    "trds = q.passthrough(ticktype='TRD')\n",
    "qtes = q.passthrough(ticktype='QTE')\n",
    "nticks = q.num_ticks(is_running_aggr=True,output_field_name='TICK_ID')\n",
    "\n",
    "g = q.Graph.join_chainlets(lhs_epd=[trds,nticks.label('t')],rhs_epd=[qtes,nticks.copy().label('q')])\n",
    "result=q.run_query(g, symbol='FULL_DEMO_L1::GS',s=datetime(2005,1,3,9,30),e=datetime(2005,1,3,16))\n",
    "print(pd.DataFrame(result['FULL_DEMO_L1::GS']).head())\n",
    "print(g.head.name)"
   ]
  },
  {
   "cell_type": "markdown",
   "metadata": {},
   "source": [
    "<a><a id=\"print\"></a>\n",
    "## Printing the Graph"
   ]
  },
  {
   "cell_type": "markdown",
   "metadata": {},
   "source": [
    "Sometimes it is useful to view the relation of all the EPs on the Graph, especially for graphs with numerous EPs, without having to inspect the code. The method Graph.to_text() returns an OrderedDict of the names of all of the EPs connected in a Graph to easily see the connections. For example:"
   ]
  },
  {
   "cell_type": "code",
   "execution_count": 72,
   "metadata": {},
   "outputs": [
    {
     "name": "stdout",
     "output_type": "stream",
     "text": [
      "OrderedDict([('PASSTHROUGH|0', [])])\n",
      "OrderedDict([('PASSTHROUGH|0', ['OB_SNAPSHOT_WIDE|1'])])\n",
      "OrderedDict([('PASSTHROUGH|0', ['OB_SNAPSHOT_WIDE|1']), ('PASSTHROUGH|2', ['OB_SNAPSHOT_WIDE|1'])])\n"
     ]
    }
   ],
   "source": [
    "import quersive as q\n",
    "\n",
    "g = q.Graph(q.passthrough(ticktype='ARCA::PRL'))\n",
    "print(g.to_text())\n",
    "\n",
    "g >> q.ob_snapshot_wide(bucket_interval=60,max_levels=3,book_delimiters='D')\n",
    "print(g.to_text())\n",
    "\n",
    "g << q.passthrough(ticktype='BATS::PRL')\n",
    "print(g.to_text())\n",
    "    "
   ]
  },
  {
   "cell_type": "markdown",
   "metadata": {},
   "source": [
    "The above shows the connections of the graph, each with a numeric label. After the first print statement, only a Passthrough EP is present on the graph with no connections. This is represented as an OrderedDict with a single key, the EP Passthrough, and an empty list showing it has no connections. After the second print statement, the Passthrough EP is connected to the OB_SNAPSHOT_WIDE EP, as demonstrated by it being present in the list of connections of the Passthrough EP. The last print statement shows that a new Passthrough EP has been added, with a label '2', and it is connected to the same OB_SNAPSHOT_WIDE EP. Sources appear as keys and sinks appear as its list of values."
   ]
  },
  {
   "cell_type": "markdown",
   "metadata": {
    "collapsed": true
   },
   "source": [
    "<a><a id=\"business\"></a>\n",
    "# Business Cases"
   ]
  },
  {
   "cell_type": "markdown",
   "metadata": {},
   "source": [
    "The graphical representation of below use cases can be found [here]('file:///C:/OMD/one_market_data/one_tick/docs/OneTickQueryTrainingHandsOnExercises.pdf')."
   ]
  },
  {
   "cell_type": "code",
   "execution_count": 73,
   "metadata": {
    "collapsed": true
   },
   "outputs": [],
   "source": [
    "import pandas as pd\n",
    "import quersive as q\n",
    "from datetime import datetime"
   ]
  },
  {
   "cell_type": "markdown",
   "metadata": {},
   "source": [
    "<a><a id=\"db_snapshot\"></a>\n",
    "### Retrieve database snapshot as of given time"
   ]
  },
  {
   "cell_type": "code",
   "execution_count": 89,
   "metadata": {},
   "outputs": [
    {
     "name": "stdout",
     "output_type": "stream",
     "text": [
      "  ASK_EXCHANGE  ASK_PRICE  ASK_SIZE BID_EXCHANGE  BID_PRICE  BID_SIZE COND  \\\n",
      "0            D       80.7        20            D      78.50        20    R   \n",
      "1            D       80.7        20            D      78.50        20    R   \n",
      "2            P       79.9         2            P      79.31         1    R   \n",
      "3            D       80.5         1            D      78.50        20    R   \n",
      "4            D       80.5         1            D      78.50        20    R   \n",
      "\n",
      "  CORR DELETED_TIME EXCHANGE MMID NASDAQ_BBO_IND NBBO_IND  OMDSEQ  \\\n",
      "0    A   1970-01-01        D    B              2        0       0   \n",
      "1    A   1970-01-01        D    N              2        0       1   \n",
      "2        1970-01-01        P                   2        1       0   \n",
      "3    A   1970-01-01        D    B              2        0       0   \n",
      "4    A   1970-01-01        D    N              2        0       1   \n",
      "\n",
      "                  ORIG_TS  SEQ_NUM SOURCE TICKER  TICK_STATUS  \\\n",
      "0 2006-06-01 13:27:47.567   115916      C      I            0   \n",
      "1 2006-06-01 13:27:47.567   115920      C      I            0   \n",
      "2 2006-06-01 13:27:49.067   115948      C      I            0   \n",
      "3 2006-06-01 13:28:09.667   116292      C      I            0   \n",
      "4 2006-06-01 13:28:09.667   116296      C      I            0   \n",
      "\n",
      "                 Time  \n",
      "0 2006-06-01 13:30:00  \n",
      "1 2006-06-01 13:30:00  \n",
      "2 2006-06-01 13:30:00  \n",
      "3 2006-06-01 13:30:00  \n",
      "4 2006-06-01 13:30:00  \n"
     ]
    }
   ],
   "source": [
    "symbols = ['FULL_DEMO_L1::IBM']\n",
    "start_time, end_time = datetime(2006, 6, 1, 9, 30), datetime(2006, 6, 1, 9, 30)\n",
    "\n",
    "where_clause = q.where_clause(where='ASK_PRICE>0 AND BID_PRICE>0 AND COND=\"R\"')\n",
    "qte_pass = q.passthrough(ticktype='QTE', go_back_to_first_tick='86400', max_back_ticks_to_prepend=10)\n",
    "add_field = q.add_field(field='ORIG_TS msectime', value='TIMESTAMP')\n",
    "graph = q.Graph.chainlet([where_clause, add_field, qte_pass])\n",
    "\n",
    "data = q.run_query(graph, symbols, start_time, end_time)\n",
    "df = pd.DataFrame(data[symbols[0]])\n",
    "print(df.head())"
   ]
  },
  {
   "cell_type": "markdown",
   "metadata": {
    "collapsed": true
   },
   "source": [
    "<a><a id=\"package_filters\"></a>\n",
    "### Package trade filter conditions for reuse in different queries"
   ]
  },
  {
   "cell_type": "code",
   "execution_count": 75,
   "metadata": {},
   "outputs": [
    {
     "name": "stdout",
     "output_type": "stream",
     "text": [
      "OrderedDict([('PASSTHROUGH|0', ['CHARACTER_PRESENT|1']), ('CHARACTER_PRESENT|1', ['WHERE_CLAUSE|2']), ('WHERE_CLAUSE|2', ['TIME_FILTER|3'])])\n",
      "OrderedDict([('PASSTHROUGH|0', ['NESTED_OTQ|1', 'VWAP|2']), ('NESTED_OTQ|1', ['VWAP|3'])])\n",
      "                 Time       VWAP\n",
      "0 2006-06-01 20:00:00  80.544101\n",
      "                 Time       VWAP\n",
      "0 2006-06-01 20:00:00  80.516017\n"
     ]
    }
   ],
   "source": [
    "symbols = ['IBM']\n",
    "start_time, end_time = datetime(2006, 6, 1, 9, 30), datetime(2006, 6, 1, 16)\n",
    "db = 'FULL_DEMO_L1'\n",
    "conditions_to_exclude = 'N4Q'\n",
    "tz = 'EST5EDT'\n",
    "\n",
    "trd_pass = q.passthrough(ticktype='{}::TRD'.format(db))\n",
    "char_present = q.character_present(discard_on_match=True, field='COND', characters=conditions_to_exclude)\n",
    "where_clause = q.where_clause(where='PRICE>80 AND SIZE>0 AND MOD(DAY_OF_WEEK(TIMESTAMP,\"{}\"),6)!=0'.format(tz))\n",
    "time_filter = q.time_filter(start_time='93000000', end_time='1600000', timezone='EST5EDT')\n",
    "\n",
    "# create a nested query and save it to a file\n",
    "nested_query = q.Graph.chainlet([trd_pass, char_present, where_clause])\n",
    "nested_query.sink(event_processor=time_filter.pin('OUT'))\n",
    "otq_file = nested_query.save(symbols, start_time, end_time, otq_file='C:/temp/my_sample_filter.otq', query_name='_FilterTrades')\n",
    "\n",
    "#print the graph to view it\n",
    "print(nested_query.to_text())\n",
    "\n",
    "# create the main query\n",
    "trd_pass_main = q.passthrough('{}::TRD'.format(db))\n",
    "main_graph = q.Graph.chainlet([trd_pass_main, q.nested_otq(otq_name=otq_file), q.vwap(output_field_name='VWAP')])\n",
    "# Add another output leg with a filter\n",
    "# Make the TRD PASSTHROUGH EP node a head of the graph\n",
    "main_graph.head = trd_pass_main\n",
    "main_graph >> q.vwap(output_field_name='VWAP')\n",
    "main_graph.save(symbols, start_time, end_time, otq_file='C:/temp/main_filtering.otq', query_name='main')\n",
    "\n",
    "#print the main graph:\n",
    "print(main_graph.to_text())\n",
    "\n",
    "data = q.run_query(main_graph, symbols, start_time, end_time)\n",
    "df_1, df_2 = pd.DataFrame(data(symbols[0])[0]), pd.DataFrame(data(symbols[0])[1])\n",
    "print(df_1.head())\n",
    "print(df_2.head())"
   ]
  },
  {
   "cell_type": "markdown",
   "metadata": {},
   "source": [
    "<a><a id=\"bucketed_volume_N\"></a>\n",
    "### Bucketed volume for N second buckets or N ticks buckets"
   ]
  },
  {
   "cell_type": "code",
   "execution_count": 76,
   "metadata": {
    "scrolled": true
   },
   "outputs": [
    {
     "name": "stdout",
     "output_type": "stream",
     "text": [
      "FULL_DEMO_L1::A\n",
      "                     Time   VOLUME\n",
      "0 2006-06-01 13:31:03.619  45900.0\n",
      "1 2006-06-01 13:31:04.631  46000.0\n",
      "2 2006-06-01 13:31:04.666  46700.0\n",
      "3 2006-06-01 13:31:04.670  47300.0\n",
      "4 2006-06-01 13:31:04.673  47500.0\n",
      "FULL_DEMO_L1::AA\n",
      "                     Time    VOLUME\n",
      "0 2006-06-01 13:31:22.200     200.0\n",
      "1 2006-06-01 13:31:40.359     400.0\n",
      "2 2006-06-01 13:32:40.209  142000.0\n",
      "3 2006-06-01 13:32:40.723  142200.0\n",
      "4 2006-06-01 13:32:40.726  142600.0\n",
      "FULL_DEMO_L1::AAA\n",
      "                     Time  VOLUME\n",
      "0 2006-06-01 13:31:44.893   100.0\n",
      "1 2006-06-01 13:35:33.108   600.0\n",
      "2 2006-06-01 14:03:21.204  1500.0\n",
      "3 2006-06-01 14:27:34.966  1600.0\n",
      "4 2006-06-01 14:32:53.169  1700.0\n",
      "FULL_DEMO_L1::C\n",
      "                     Time    VOLUME\n",
      "0 2006-06-01 13:30:08.733  226700.0\n",
      "1 2006-06-01 13:30:09.225  226900.0\n",
      "2 2006-06-01 13:30:09.247  228200.0\n",
      "3 2006-06-01 13:30:09.250  229500.0\n",
      "4 2006-06-01 13:30:09.264  229700.0\n",
      "FULL_DEMO_L1::CSCO\n",
      "                     Time  VOLUME\n",
      "0 2006-06-01 13:30:00.193   407.0\n",
      "1 2006-06-01 13:30:00.242   567.0\n",
      "2 2006-06-01 13:30:00.644   852.0\n",
      "3 2006-06-01 13:30:00.669  1052.0\n",
      "4 2006-06-01 13:30:00.669  1452.0\n"
     ]
    }
   ],
   "source": [
    "symbols = ['FULL_DEMO_L1::A','FULL_DEMO_L1::AA','FULL_DEMO_L1::AAA','FULL_DEMO_L1::C','FULL_DEMO_L1::CSCO']\n",
    "start_time, end_time = datetime(2006, 6, 1, 9, 30), datetime(2006, 6, 1, 16)\n",
    "bucket_interval_units = 'TICKS' #SECONDS, DAYS, etc.\n",
    "bucket_interval = 600\n",
    "\n",
    "trd_volume = q.sum(bucket_interval=bucket_interval,\n",
    "                   bucket_interval_units=bucket_interval_units,\n",
    "                   is_running_aggr=True,\n",
    "                   output_field_name='VOLUME',\n",
    "                   input_field_name='SIZE')\n",
    "\n",
    "graph = q.Graph.chainlet([trd_pass, trd_volume])\n",
    "data = q.run_query(graph, symbols, start_time, end_time)\n",
    "for sym in symbols:\n",
    "    print(sym)\n",
    "    df = pd.DataFrame(data[sym])\n",
    "    print(df.head(5))"
   ]
  },
  {
   "cell_type": "markdown",
   "metadata": {},
   "source": [
    "<a><a id=\"running_total_to_each_tick\"></a>\n",
    "### Append running total and sliding bucketed volumes to each trade tick and calculate a ratio between the two"
   ]
  },
  {
   "cell_type": "code",
   "execution_count": 77,
   "metadata": {
    "scrolled": true
   },
   "outputs": [
    {
     "name": "stdout",
     "output_type": "stream",
     "text": [
      "FULL_DEMO_L1::A\n",
      "   BUCKET_VOLUME_CHANGE  BUCKET_VS_RUNNING_TOTAL EXCHANGE  PRICE   SIZE  \\\n",
      "0                   NaN                      1.0        N   34.7  45900   \n",
      "1              1.002179                      1.0        D   34.7    100   \n",
      "2              1.015217                      1.0        D   34.7    700   \n",
      "3              1.012848                      1.0        D   34.7    600   \n",
      "4              1.004228                      1.0        D   34.7    200   \n",
      "\n",
      "   TOTAL_RUNNING_VOLUME                    Time   VOLUME  \n",
      "0               45900.0 2006-06-01 13:31:03.619  45900.0  \n",
      "1               46000.0 2006-06-01 13:31:04.631  46000.0  \n",
      "2               46700.0 2006-06-01 13:31:04.666  46700.0  \n",
      "3               47300.0 2006-06-01 13:31:04.670  47300.0  \n",
      "4               47500.0 2006-06-01 13:31:04.673  47500.0  \n",
      "FULL_DEMO_L1::AA\n",
      "   BUCKET_VOLUME_CHANGE  BUCKET_VS_RUNNING_TOTAL EXCHANGE  PRICE    SIZE  \\\n",
      "0                   NaN                      1.0        P  31.81     200   \n",
      "1              2.000000                      1.0        P  31.77     200   \n",
      "2            355.000000                      1.0        N  31.72  141600   \n",
      "3              1.001408                      1.0        D  31.72     200   \n",
      "4              1.002813                      1.0        D  31.72     400   \n",
      "\n",
      "   TOTAL_RUNNING_VOLUME                    Time    VOLUME  \n",
      "0                 200.0 2006-06-01 13:31:22.200     200.0  \n",
      "1                 400.0 2006-06-01 13:31:40.359     400.0  \n",
      "2              142000.0 2006-06-01 13:32:40.209  142000.0  \n",
      "3              142200.0 2006-06-01 13:32:40.723  142200.0  \n",
      "4              142600.0 2006-06-01 13:32:40.726  142600.0  \n",
      "FULL_DEMO_L1::AAA\n",
      "   BUCKET_VOLUME_CHANGE  BUCKET_VS_RUNNING_TOTAL EXCHANGE    PRICE  SIZE  \\\n",
      "0                   NaN                      1.0        N  58.2000   100   \n",
      "1              6.000000                      1.0        N  58.1800   500   \n",
      "2              2.500000                      1.0        N  58.4000   900   \n",
      "3              1.066667                      1.0        D  58.6208   100   \n",
      "4              1.062500                      1.0        N  58.6500   100   \n",
      "\n",
      "   TOTAL_RUNNING_VOLUME                    Time  VOLUME  \n",
      "0                 100.0 2006-06-01 13:31:44.893   100.0  \n",
      "1                 600.0 2006-06-01 13:35:33.108   600.0  \n",
      "2                1500.0 2006-06-01 14:03:21.204  1500.0  \n",
      "3                1600.0 2006-06-01 14:27:34.966  1600.0  \n",
      "4                1700.0 2006-06-01 14:32:53.169  1700.0  \n",
      "FULL_DEMO_L1::C\n",
      "   BUCKET_VOLUME_CHANGE  BUCKET_VS_RUNNING_TOTAL EXCHANGE  PRICE    SIZE  \\\n",
      "0                   NaN                      1.0        N  49.38  226700   \n",
      "1              1.000882                      1.0        M  49.38     200   \n",
      "2              1.005729                      1.0        M  49.38    1300   \n",
      "3              1.005697                      1.0        M  49.38    1300   \n",
      "4              1.000871                      1.0        M  49.38     200   \n",
      "\n",
      "   TOTAL_RUNNING_VOLUME                    Time    VOLUME  \n",
      "0              226700.0 2006-06-01 13:30:08.733  226700.0  \n",
      "1              226900.0 2006-06-01 13:30:09.225  226900.0  \n",
      "2              228200.0 2006-06-01 13:30:09.247  228200.0  \n",
      "3              229500.0 2006-06-01 13:30:09.250  229500.0  \n",
      "4              229700.0 2006-06-01 13:30:09.264  229700.0  \n",
      "FULL_DEMO_L1::CSCO\n",
      "   BUCKET_VOLUME_CHANGE  BUCKET_VS_RUNNING_TOTAL EXCHANGE  PRICE  SIZE  \\\n",
      "0                   NaN                      1.0        Q  19.68   407   \n",
      "1              1.393120                      1.0        Q  19.68   160   \n",
      "2              1.502646                      1.0        Q  19.68   285   \n",
      "3              1.234742                      1.0        P  19.68   200   \n",
      "4              1.380228                      1.0        P  19.68   400   \n",
      "\n",
      "   TOTAL_RUNNING_VOLUME                    Time  VOLUME  \n",
      "0                 407.0 2006-06-01 13:30:00.193   407.0  \n",
      "1                 567.0 2006-06-01 13:30:00.242   567.0  \n",
      "2                 852.0 2006-06-01 13:30:00.644   852.0  \n",
      "3                1052.0 2006-06-01 13:30:00.669  1052.0  \n",
      "4                1452.0 2006-06-01 13:30:00.669  1452.0  \n"
     ]
    }
   ],
   "source": [
    "symbols = ['FULL_DEMO_L1::A','FULL_DEMO_L1::AA','FULL_DEMO_L1::AAA','FULL_DEMO_L1::C','FULL_DEMO_L1::CSCO']\n",
    "start_time, end_time = datetime(2006, 6, 1, 9, 30), datetime(2006, 6, 1, 16)\n",
    "bucket_interval_units = 'TICKS' #SECONDS, DAYS, etc.\n",
    "bucket_interval = 600\n",
    "\n",
    "trd_pass_ltd = q.passthrough(ticktype='TRD', fields='PRICE, SIZE, EXCHANGE')\n",
    "volume = q.sum(bucket_interval=bucket_interval,\n",
    "                   bucket_interval_units=bucket_interval_units,\n",
    "                   is_running_aggr=True,\n",
    "                   all_fields_for_sliding=True,\n",
    "                   output_field_name='VOLUME',\n",
    "                   input_field_name='SIZE')\n",
    "total_running_volume = q.sum(is_running_aggr=True,\n",
    "                              all_fields_for_sliding=True,\n",
    "                              output_field_name='TOTAL_RUNNING_VOLUME',\n",
    "                              input_field_name='SIZE')\n",
    "add_fields = q.add_fields(fields='BUCKET_VOLUME_CHANGE double = VOLUME/VOLUME[-1], '\n",
    "                                 'BUCKET_VS_RUNNING_TOTAL double = VOLUME/TOTAL_RUNNING_VOLUME')\n",
    "\n",
    "graph = q.Graph.chainlet([trd_pass_ltd, volume, total_running_volume, add_fields])\n",
    "data = q.run_query(graph, symbols, start_time, end_time)\n",
    "for sym in symbols:\n",
    "    print(sym)\n",
    "    df = pd.DataFrame(data[sym])\n",
    "    print(df.head())"
   ]
  },
  {
   "cell_type": "markdown",
   "metadata": {},
   "source": [
    "<a><a id=\"sliding_aggr_per_group\"></a>\n",
    "### Compute sliding aggregation per group"
   ]
  },
  {
   "cell_type": "code",
   "execution_count": 78,
   "metadata": {
    "scrolled": true
   },
   "outputs": [
    {
     "name": "stdout",
     "output_type": "stream",
     "text": [
      "FULL_DEMO_L1::A\n",
      "  EXCHANGE  EXCHANGE_VOLUME_VS_TOTAL  PRICE  RUNNING_VOLUME_PER_EXCHANGE  \\\n",
      "0        B                  0.007228  35.15                      20200.0   \n",
      "1        C                  0.004515  35.02                      12200.0   \n",
      "2        D                  0.055009  35.07                     161700.0   \n",
      "3        M                  0.251000  34.98                     652400.0   \n",
      "4        N                  0.645346  35.05                    1899900.0   \n",
      "\n",
      "   SIZE               TICK_TIME  TOTAL_RUNNING_VOLUME                Time  \n",
      "0  1000 2006-06-01 19:44:23.438             2794700.0 2006-06-01 20:00:00  \n",
      "1   200 2006-06-01 19:37:02.425             2702300.0 2006-06-01 20:00:00  \n",
      "2   300 2006-06-01 19:59:32.104             2939500.0 2006-06-01 20:00:00  \n",
      "3   200 2006-06-01 19:23:03.831             2599200.0 2006-06-01 20:00:00  \n",
      "4   100 2006-06-01 19:59:50.302             2944000.0 2006-06-01 20:00:00  \n",
      "FULL_DEMO_L1::AA\n",
      "  EXCHANGE  EXCHANGE_VOLUME_VS_TOTAL   PRICE  RUNNING_VOLUME_PER_EXCHANGE  \\\n",
      "0        B                  0.011988  32.630                      80500.0   \n",
      "1        C                  0.012320  32.630                      84800.0   \n",
      "2        D                  0.147008  32.606                    1018500.0   \n",
      "3        M                  0.044791  32.650                     300500.0   \n",
      "4        N                  0.709889  32.590                    4922300.0   \n",
      "\n",
      "   SIZE               TICK_TIME  TOTAL_RUNNING_VOLUME                Time  \n",
      "0  1000 2006-06-01 19:51:38.528             6714800.0 2006-06-01 20:00:00  \n",
      "1   400 2006-06-01 19:58:20.481             6883100.0 2006-06-01 20:00:00  \n",
      "2   500 2006-06-01 19:59:44.739             6928200.0 2006-06-01 20:00:00  \n",
      "3   100 2006-06-01 19:51:25.439             6709000.0 2006-06-01 20:00:00  \n",
      "4  4000 2006-06-01 19:59:47.279             6933900.0 2006-06-01 20:00:00  \n",
      "FULL_DEMO_L1::AAA\n",
      "  EXCHANGE  EXCHANGE_VOLUME_VS_TOTAL  PRICE  RUNNING_VOLUME_PER_EXCHANGE  \\\n",
      "0        D                  0.032258  59.45                        200.0   \n",
      "1        N                  0.953125  59.46                       6100.0   \n",
      "2        P                  0.032258  59.40                        100.0   \n",
      "\n",
      "   SIZE               TICK_TIME  TOTAL_RUNNING_VOLUME                Time  \n",
      "0   100 2006-06-01 19:24:31.857                6200.0 2006-06-01 20:00:00  \n",
      "1   200 2006-06-01 19:34:21.891                6400.0 2006-06-01 20:00:00  \n",
      "2   100 2006-06-01 15:38:26.007                3100.0 2006-06-01 20:00:00  \n",
      "FULL_DEMO_L1::C\n",
      "  EXCHANGE  EXCHANGE_VOLUME_VS_TOTAL  PRICE  RUNNING_VOLUME_PER_EXCHANGE  \\\n",
      "0        B                  0.006640  49.82                      83900.0   \n",
      "1        C                  0.028063  49.82                     357500.0   \n",
      "2        D                  0.279375  49.82                    3563200.0   \n",
      "3        M                  0.019356  49.80                     235500.0   \n",
      "4        N                  0.617049  49.82                    7869600.0   \n",
      "\n",
      "   SIZE               TICK_TIME  TOTAL_RUNNING_VOLUME                Time  \n",
      "0  1000 2006-06-01 19:59:07.429            12635800.0 2006-06-01 20:00:00  \n",
      "1   100 2006-06-01 19:59:55.119            12739200.0 2006-06-01 20:00:00  \n",
      "2   500 2006-06-01 19:59:59.701            12754200.0 2006-06-01 20:00:00  \n",
      "3   200 2006-06-01 19:55:06.572            12166600.0 2006-06-01 20:00:00  \n",
      "4  1200 2006-06-01 19:59:56.129            12753600.0 2006-06-01 20:00:00  \n",
      "FULL_DEMO_L1::CSCO\n",
      "  EXCHANGE  EXCHANGE_VOLUME_VS_TOTAL  PRICE  RUNNING_VOLUME_PER_EXCHANGE  \\\n",
      "0        A                  0.000026  20.43                       1000.0   \n",
      "1        C                  0.008634  20.45                     437922.0   \n",
      "2        D                  0.019162  20.45                     975400.0   \n",
      "3        M                  0.000538  20.33                      26100.0   \n",
      "4        P                  0.189727  20.47                    9714468.0   \n",
      "\n",
      "   SIZE               TICK_TIME  TOTAL_RUNNING_VOLUME                Time  \n",
      "0   100 2006-06-01 18:20:14.268            37824262.0 2006-06-01 20:00:00  \n",
      "1   500 2006-06-01 19:59:05.342            50718182.0 2006-06-01 20:00:00  \n",
      "2   300 2006-06-01 19:59:36.978            50903717.0 2006-06-01 20:00:00  \n",
      "3   400 2006-06-01 19:50:04.088            48472061.0 2006-06-01 20:00:00  \n",
      "4  4900 2006-06-01 19:59:57.982            51202435.0 2006-06-01 20:00:00  \n"
     ]
    }
   ],
   "source": [
    "symbols = ['FULL_DEMO_L1::A','FULL_DEMO_L1::AA','FULL_DEMO_L1::AAA','FULL_DEMO_L1::C','FULL_DEMO_L1::CSCO']\n",
    "start_time, end_time = datetime(2006, 6, 1, 9, 30), datetime(2006, 6, 1, 16)\n",
    "\n",
    "trd_pass_ltd = q.passthrough(ticktype='TRD', fields='PRICE, SIZE, EXCHANGE')\n",
    "running_volume_per_exch = q.sum(is_running_aggr=True,\n",
    "                                all_fields_for_sliding=True,\n",
    "                                output_field_name='RUNNING_VOLUME_PER_EXCHANGE',\n",
    "                                group_by='EXCHANGE',\n",
    "                                input_field_name='SIZE')\n",
    "total_running_volume = q.sum(is_running_aggr=True,\n",
    "                             all_fields_for_sliding=True,\n",
    "                             output_field_name='TOTAL_RUNNING_VOLUME',\n",
    "                             input_field_name='SIZE')\n",
    "add_fields = q.add_fields(fields='EXCHANGE_VOLUME_VS_TOTAL double = RUNNING_VOLUME_PER_EXCHANGE/TOTAL_RUNNING_VOLUME')\n",
    "last_tick = q.last_tick(group_by='EXCHANGE')\n",
    "\n",
    "graph = q.Graph.chainlet([trd_pass_ltd, running_volume_per_exch, total_running_volume, add_fields, last_tick])\n",
    "\n",
    "data = q.run_query(graph, symbols, start_time, end_time)\n",
    "for sym in symbols:\n",
    "    print(sym)\n",
    "    df = pd.DataFrame(data[sym])\n",
    "    print(df.head())"
   ]
  },
  {
   "cell_type": "markdown",
   "metadata": {},
   "source": [
    "<a><a id=\"mult_aggr_functions\"></a>\n",
    "### Combine multiple aggregation functions"
   ]
  },
  {
   "cell_type": "code",
   "execution_count": 79,
   "metadata": {
    "scrolled": true
   },
   "outputs": [
    {
     "name": "stdout",
     "output_type": "stream",
     "text": [
      "FULL_DEMO_L1::A\n",
      "   AVERAGE  CLOSE  HIGH   LOW  NUM_TICKS  OPEN  STDDEV  \\\n",
      "0     34.7   34.7  34.7  34.7        1.0  34.7     0.0   \n",
      "1     34.7   34.7  34.7  34.7        2.0  34.7     0.0   \n",
      "2     34.7   34.7  34.7  34.7        3.0  34.7     0.0   \n",
      "3     34.7   34.7  34.7  34.7        4.0  34.7     0.0   \n",
      "4     34.7   34.7  34.7  34.7        5.0  34.7     0.0   \n",
      "\n",
      "                     Time   VOLUME  VWAP  \n",
      "0 2006-06-01 13:31:03.619  45900.0  34.7  \n",
      "1 2006-06-01 13:31:04.631  46000.0  34.7  \n",
      "2 2006-06-01 13:31:04.666  46700.0  34.7  \n",
      "3 2006-06-01 13:31:04.670  47300.0  34.7  \n",
      "4 2006-06-01 13:31:04.673  47500.0  34.7   \n",
      "\n",
      "FULL_DEMO_L1::AA\n",
      "     AVERAGE  CLOSE   HIGH    LOW  NUM_TICKS   OPEN    STDDEV  \\\n",
      "0  31.810000  31.81  31.81  31.81        1.0  31.81  0.000000   \n",
      "1  31.790000  31.77  31.81  31.77        2.0  31.81  0.020000   \n",
      "2  31.766667  31.72  31.81  31.72        3.0  31.81  0.036818   \n",
      "3  31.755000  31.72  31.81  31.72        4.0  31.81  0.037749   \n",
      "4  31.748000  31.72  31.81  31.72        5.0  31.81  0.036551   \n",
      "\n",
      "                     Time    VOLUME       VWAP  \n",
      "0 2006-06-01 13:31:22.200     200.0  31.810000  \n",
      "1 2006-06-01 13:31:40.359     400.0  31.790000  \n",
      "2 2006-06-01 13:32:40.209  142000.0  31.720197  \n",
      "3 2006-06-01 13:32:40.723  142200.0  31.720197  \n",
      "4 2006-06-01 13:32:40.726  142600.0  31.720196   \n",
      "\n",
      "FULL_DEMO_L1::AAA\n",
      "   AVERAGE  CLOSE   HIGH    LOW  NUM_TICKS   OPEN  STDDEV  \\\n",
      "0    58.20  58.20  58.20  58.20        1.0  58.20    0.00   \n",
      "1    58.19  58.18  58.20  58.18        2.0  58.20    0.01   \n",
      "2    58.18  58.18  58.18  58.18        1.0  58.18    0.00   \n",
      "3      NaN    NaN    NaN    NaN        0.0    NaN     NaN   \n",
      "4    58.40  58.40  58.40  58.40        1.0  58.40    0.00   \n",
      "\n",
      "                     Time  VOLUME       VWAP  \n",
      "0 2006-06-01 13:31:44.893   100.0  58.200000  \n",
      "1 2006-06-01 13:35:33.108   600.0  58.183333  \n",
      "2 2006-06-01 13:36:44.893   500.0  58.180000  \n",
      "3 2006-06-01 13:40:33.108     0.0        NaN  \n",
      "4 2006-06-01 14:03:21.204   900.0  58.400000   \n",
      "\n",
      "FULL_DEMO_L1::C\n",
      "   AVERAGE  CLOSE   HIGH    LOW  NUM_TICKS   OPEN  STDDEV  \\\n",
      "0    49.38  49.38  49.38  49.38        1.0  49.38     0.0   \n",
      "1    49.38  49.38  49.38  49.38        2.0  49.38     0.0   \n",
      "2    49.38  49.38  49.38  49.38        3.0  49.38     0.0   \n",
      "3    49.38  49.38  49.38  49.38        4.0  49.38     0.0   \n",
      "4    49.38  49.38  49.38  49.38        5.0  49.38     0.0   \n",
      "\n",
      "                     Time    VOLUME   VWAP  \n",
      "0 2006-06-01 13:30:08.733  226700.0  49.38  \n",
      "1 2006-06-01 13:30:09.225  226900.0  49.38  \n",
      "2 2006-06-01 13:30:09.247  228200.0  49.38  \n",
      "3 2006-06-01 13:30:09.250  229500.0  49.38  \n",
      "4 2006-06-01 13:30:09.264  229700.0  49.38   \n",
      "\n",
      "FULL_DEMO_L1::CSCO\n",
      "   AVERAGE  CLOSE   HIGH    LOW  NUM_TICKS   OPEN  STDDEV  \\\n",
      "0    19.68  19.68  19.68  19.68        1.0  19.68     0.0   \n",
      "1    19.68  19.68  19.68  19.68        2.0  19.68     0.0   \n",
      "2    19.68  19.68  19.68  19.68        3.0  19.68     0.0   \n",
      "3    19.68  19.68  19.68  19.68        4.0  19.68     0.0   \n",
      "4    19.68  19.68  19.68  19.68        5.0  19.68     0.0   \n",
      "\n",
      "                     Time  VOLUME   VWAP  \n",
      "0 2006-06-01 13:30:00.193   407.0  19.68  \n",
      "1 2006-06-01 13:30:00.242   567.0  19.68  \n",
      "2 2006-06-01 13:30:00.644   852.0  19.68  \n",
      "3 2006-06-01 13:30:00.669  1052.0  19.68  \n",
      "4 2006-06-01 13:30:00.669  1452.0  19.68   \n",
      "\n"
     ]
    }
   ],
   "source": [
    "symbols = ['FULL_DEMO_L1::A','FULL_DEMO_L1::AA','FULL_DEMO_L1::AAA','FULL_DEMO_L1::C','FULL_DEMO_L1::CSCO']\n",
    "start_time, end_time = datetime(2006, 6, 1, 9, 30), datetime(2006, 6, 1, 16)\n",
    "\n",
    "bucket_interval = 300\n",
    "bucket_interval_units = 'SECONDS'\n",
    "is_running_aggr = True\n",
    "compute = q.compute(ticktype='TRD',compute='FIRST OPEN, HIGH, LOW, LAST CLOSE, VWAP, AVERAGE, STDDEV, SUM VOLUME, NUM_TICKS',\n",
    "                    bucket_interval=bucket_interval,\n",
    "                    bucket_interval_units=bucket_interval_units,\n",
    "                    is_running_aggr=is_running_aggr,\n",
    "                    append_output_field_name=False)\n",
    "# PASSTHROUGH EP is unnecessary\n",
    "graph = q.Graph(compute)\n",
    "\n",
    "data = q.run_query(graph, symbols, start_time, end_time)\n",
    "for sym in symbols:\n",
    "    print(sym)\n",
    "    df = pd.DataFrame(data[sym])\n",
    "    print(df.head(), \"\\n\")"
   ]
  },
  {
   "cell_type": "markdown",
   "metadata": {},
   "source": [
    "<a><a id=\"aggr_ticks_flex_buckets\"></a>\n",
    "### Aggregate ticks into flexible volume-based buckets"
   ]
  },
  {
   "cell_type": "code",
   "execution_count": 80,
   "metadata": {
    "scrolled": true
   },
   "outputs": [
    {
     "name": "stdout",
     "output_type": "stream",
     "text": [
      "FULL_DEMO_L1::A\n",
      "   CLOSE  HIGH  HIGH_SIZE   LOW  NUM_TICKS  OPEN                    Time  \\\n",
      "0   34.7  34.7    45900.0  34.7        1.0  34.7 2006-06-01 13:31:04.631   \n",
      "1   34.7  34.7      700.0  34.7        2.0  34.7 2006-06-01 13:31:04.670   \n",
      "2   34.7  34.7      600.0  34.7        4.0  34.7 2006-06-01 13:31:04.717   \n",
      "3   34.7  34.7      300.0  34.7        4.0  34.7 2006-06-01 13:31:04.730   \n",
      "4   34.7  34.7      300.0  34.7        4.0  34.7 2006-06-01 13:31:04.774   \n",
      "\n",
      "    VOLUME  VWAP  \n",
      "0  45900.0  34.7  \n",
      "1    800.0  34.7  \n",
      "2   1000.0  34.7  \n",
      "3   1100.0  34.7  \n",
      "4    900.0  34.7   \n",
      "\n",
      "FULL_DEMO_L1::AA\n",
      "   CLOSE   HIGH  HIGH_SIZE    LOW  NUM_TICKS   OPEN                    Time  \\\n",
      "0  31.77  31.81      200.0  31.77        2.0  31.81 2006-06-01 13:32:40.209   \n",
      "1  31.72  31.72   141600.0  31.72        3.0  31.72 2006-06-01 13:32:40.730   \n",
      "2  31.72  31.72     1200.0  31.72        2.0  31.72 2006-06-01 13:32:41.266   \n",
      "3  31.72  31.72      100.0  31.72        3.0  31.72 2006-06-01 13:32:41.307   \n",
      "4  31.72  31.72     1700.0  31.72        1.0  31.72 2006-06-01 13:32:41.342   \n",
      "\n",
      "     VOLUME   VWAP  \n",
      "0     400.0  31.79  \n",
      "1  142200.0  31.72  \n",
      "2    1300.0  31.72  \n",
      "3     300.0  31.72  \n",
      "4    1700.0  31.72   \n",
      "\n",
      "FULL_DEMO_L1::AAA\n",
      "   CLOSE   HIGH  HIGH_SIZE    LOW  NUM_TICKS   OPEN                    Time  \\\n",
      "0  58.18  58.20      500.0  58.18        2.0  58.20 2006-06-01 14:03:21.204   \n",
      "1  58.65  58.65      900.0  58.40        3.0  58.40 2006-06-01 14:41:52.863   \n",
      "2  59.07  59.11      700.0  58.96        3.0  58.96 2006-06-01 15:30:22.238   \n",
      "3  59.49  59.50      100.0  59.13        5.0  59.13 2006-06-01 15:42:20.016   \n",
      "4  59.47  59.50      700.0  59.47        4.0  59.50 2006-06-01 18:30:39.730   \n",
      "\n",
      "   VOLUME       VWAP  \n",
      "0   600.0  58.183333  \n",
      "1  1100.0  58.442800  \n",
      "2  1200.0  59.036667  \n",
      "3   500.0  59.402000  \n",
      "4  1500.0  59.487333   \n",
      "\n",
      "FULL_DEMO_L1::C\n",
      "   CLOSE   HIGH  HIGH_SIZE    LOW  NUM_TICKS   OPEN                    Time  \\\n",
      "0  49.38  49.38   226700.0  49.38        2.0  49.38 2006-06-01 13:30:09.247   \n",
      "1  49.38  49.38     1300.0  49.38        1.0  49.38 2006-06-01 13:30:09.250   \n",
      "2  49.38  49.38     1300.0  49.38        4.0  49.38 2006-06-01 13:30:09.735   \n",
      "3  49.38  49.38     2900.0  49.38        1.0  49.38 2006-06-01 13:30:09.738   \n",
      "4  49.38  49.38      500.0  49.38        2.0  49.38 2006-06-01 13:30:09.771   \n",
      "\n",
      "     VOLUME   VWAP  \n",
      "0  226900.0  49.38  \n",
      "1    1300.0  49.38  \n",
      "2    1700.0  49.38  \n",
      "3    2900.0  49.38  \n",
      "4     700.0  49.38   \n",
      "\n",
      "FULL_DEMO_L1::CSCO\n",
      "   CLOSE   HIGH  HIGH_SIZE     LOW  NUM_TICKS   OPEN                    Time  \\\n",
      "0  19.68  19.68      407.0  19.680        3.0  19.68 2006-06-01 13:30:00.669   \n",
      "1  19.68  19.68      500.0  19.680        3.0  19.68 2006-06-01 13:30:00.670   \n",
      "2  19.68  19.68      210.0  19.680        1.0  19.68 2006-06-01 13:30:00.844   \n",
      "3  19.69  19.69     1000.0  19.680        2.0  19.68 2006-06-01 13:30:01.166   \n",
      "4  19.69  19.69     1000.0  19.685        3.0  19.69 2006-06-01 13:30:01.493   \n",
      "\n",
      "   VOLUME       VWAP  \n",
      "0   852.0  19.680000  \n",
      "1  1100.0  19.680000  \n",
      "2   210.0  19.680000  \n",
      "3  1100.0  19.680909  \n",
      "4  1548.0  19.688553   \n",
      "\n"
     ]
    }
   ],
   "source": [
    "symbols = ['FULL_DEMO_L1::A','FULL_DEMO_L1::AA','FULL_DEMO_L1::AAA','FULL_DEMO_L1::C','FULL_DEMO_L1::CSCO']\n",
    "start_time, end_time = datetime(2006, 6, 1, 9, 30), datetime(2006, 6, 1, 16)\n",
    "\n",
    "volume_bucket_size = 1000\n",
    "trd_pass = q.passthrough(ticktype='TRD', fields='PRICE,SIZE')\n",
    "volume = q.sum(is_running_aggr=True, output_field_name='VOLUME')\n",
    "compute = q.compute(compute='FIRST OPEN,HIGH,LOW,LAST CLOSE,VWAP,HIGH(INPUT_FIELD_NAME=SIZE) HIGH_SIZE, SUM VOLUME, NUM_TICKS',\n",
    "                    bucket_interval_units='FLEXIBLE',\n",
    "                    bucket_end_criteria='DIV(VOLUME,{})>DIV(VOLUME[-1],{}) AND VOLUME[-1]>0'\n",
    "                    .format(volume_bucket_size, volume_bucket_size),\n",
    "                    append_output_field_name=False)\n",
    "graph = q.Graph.chainlet([trd_pass, volume, compute])\n",
    "\n",
    "data = q.run_query(graph, symbols, start_time, end_time)\n",
    "for sym in symbols:\n",
    "    print(sym)\n",
    "    df = pd.DataFrame(data[sym])\n",
    "    print(df.head(), \"\\n\")"
   ]
  },
  {
   "cell_type": "markdown",
   "metadata": {},
   "source": [
    "<a><a id=\"append_tot_vol_to_each_tick\"></a>\n",
    "### Append total daily volume to each detail tick to compute % of total"
   ]
  },
  {
   "cell_type": "code",
   "execution_count": 81,
   "metadata": {
    "scrolled": true
   },
   "outputs": [
    {
     "name": "stdout",
     "output_type": "stream",
     "text": [
      "FULL_DEMO_L1::A\n",
      "   PERCENT_COUNT  PERCENT_COUNT_60  PERCENT_VOLUME  PERCENT_VOLUME_60  \\\n",
      "0       0.000236          0.000236        0.015591           0.015591   \n",
      "1       0.000471          0.000471        0.015625           0.015625   \n",
      "2       0.000707          0.000707        0.015863           0.015863   \n",
      "3       0.000943          0.000943        0.016067           0.016067   \n",
      "4       0.001178          0.001178        0.016135           0.016135   \n",
      "\n",
      "                     Time  \n",
      "0 2006-06-01 13:31:03.619  \n",
      "1 2006-06-01 13:31:04.631  \n",
      "2 2006-06-01 13:31:04.666  \n",
      "3 2006-06-01 13:31:04.670  \n",
      "4 2006-06-01 13:31:04.673   \n",
      "\n",
      "FULL_DEMO_L1::AA\n",
      "   PERCENT_COUNT  PERCENT_COUNT_60  PERCENT_VOLUME  PERCENT_VOLUME_60  \\\n",
      "0       0.000102          0.000102        0.000029           0.000029   \n",
      "1       0.000203          0.000203        0.000058           0.000058   \n",
      "2       0.000305          0.000203        0.020477           0.020448   \n",
      "3       0.000406          0.000203        0.020506           0.020448   \n",
      "4       0.000508          0.000305        0.020564           0.020506   \n",
      "\n",
      "                     Time  \n",
      "0 2006-06-01 13:31:22.200  \n",
      "1 2006-06-01 13:31:40.359  \n",
      "2 2006-06-01 13:32:40.209  \n",
      "3 2006-06-01 13:32:40.723  \n",
      "4 2006-06-01 13:32:40.726   \n",
      "\n",
      "FULL_DEMO_L1::AAA\n",
      "   PERCENT_COUNT  PERCENT_COUNT_60  PERCENT_VOLUME  PERCENT_VOLUME_60  \\\n",
      "0       0.043478          0.043478        0.015625           0.015625   \n",
      "1       0.086957          0.043478        0.093750           0.078125   \n",
      "2       0.130435          0.043478        0.234375           0.140625   \n",
      "3       0.173913          0.043478        0.250000           0.015625   \n",
      "4       0.217391          0.043478        0.265625           0.015625   \n",
      "\n",
      "                     Time  \n",
      "0 2006-06-01 13:31:44.893  \n",
      "1 2006-06-01 13:35:33.108  \n",
      "2 2006-06-01 14:03:21.204  \n",
      "3 2006-06-01 14:27:34.966  \n",
      "4 2006-06-01 14:32:53.169   \n",
      "\n",
      "FULL_DEMO_L1::C\n",
      "   PERCENT_COUNT  PERCENT_COUNT_60  PERCENT_VOLUME  PERCENT_VOLUME_60  \\\n",
      "0       0.000052          0.000052        0.017775           0.017775   \n",
      "1       0.000105          0.000105        0.017790           0.017790   \n",
      "2       0.000157          0.000157        0.017892           0.017892   \n",
      "3       0.000210          0.000210        0.017994           0.017994   \n",
      "4       0.000262          0.000262        0.018010           0.018010   \n",
      "\n",
      "                     Time  \n",
      "0 2006-06-01 13:30:08.733  \n",
      "1 2006-06-01 13:30:09.225  \n",
      "2 2006-06-01 13:30:09.247  \n",
      "3 2006-06-01 13:30:09.250  \n",
      "4 2006-06-01 13:30:09.264   \n",
      "\n",
      "FULL_DEMO_L1::CSCO\n",
      "   PERCENT_COUNT  PERCENT_COUNT_60  PERCENT_VOLUME  PERCENT_VOLUME_60  \\\n",
      "0       0.000014          0.000014        0.000008           0.000008   \n",
      "1       0.000028          0.000028        0.000011           0.000011   \n",
      "2       0.000043          0.000043        0.000017           0.000017   \n",
      "3       0.000057          0.000057        0.000021           0.000021   \n",
      "4       0.000071          0.000071        0.000028           0.000028   \n",
      "\n",
      "                     Time  \n",
      "0 2006-06-01 13:30:00.193  \n",
      "1 2006-06-01 13:30:00.242  \n",
      "2 2006-06-01 13:30:00.644  \n",
      "3 2006-06-01 13:30:00.669  \n",
      "4 2006-06-01 13:30:00.669   \n",
      "\n"
     ]
    }
   ],
   "source": [
    "symbols = ['FULL_DEMO_L1::A','FULL_DEMO_L1::AA','FULL_DEMO_L1::AAA','FULL_DEMO_L1::C','FULL_DEMO_L1::CSCO']\n",
    "start_time, end_time = datetime(2006, 6, 1, 9, 30), datetime(2006, 6, 1, 16)\n",
    "rolling_bucket_sec = 60\n",
    "\n",
    "#Round - robin - start from leftmost node and construct each node left-to-right.\n",
    "trd_pass = q.passthrough(ticktype='TRD', fields='PRICE,SIZE')\n",
    "compute = q.compute(ticktype='TRD', compute='SUM VOLUME, NUM_TICKS', bucket_time='BUCKET_START', append_output_field_name=False)\n",
    "jbt = q.join_by_time(join_type='INNER', leading_sources='trd')\n",
    "\n",
    "# Create a graph object with trd_pass\n",
    "graph = q.Graph(trd_pass.label('trd'))\n",
    "\n",
    "# Attach 'join' node. Tag previous node as 'trd' and use it as the leading source\n",
    "graph.sink(jbt)\n",
    "\n",
    "# Now remember JBT node as head (will be used later) and add the COMPUTE branch\n",
    "jbt_node = graph.head\n",
    "graph.source(compute.label('day'))\n",
    "\n",
    "# Change head back to jbt_node and continue constructing the query\n",
    "graph.head = jbt_node\n",
    "rename_fields = q.rename_fields(rename_fields='trd.PRICE=PRICE, trd.SIZE=SIZE')\n",
    "compute_2 = q.compute(compute='SUM VOLUME, NUM_TICKS', show_all_fields=True, is_running_aggr=True,append_output_field_name=False)\n",
    "add_fields = q.add_fields(fields='PERCENT_VOLUME double=VOLUME/day.VOLUME,PERCENT_COUNT double = NUM_TICKS/day.NUM_TICKS')\n",
    "compute_3 = q.compute(compute='SUM VOLUME_{}, NUM_TICKS NUM_TICKS_{}'.format(rolling_bucket_sec, rolling_bucket_sec),\n",
    "                      show_all_fields=True,\n",
    "                      bucket_interval=rolling_bucket_sec,\n",
    "                      is_running_aggr=True,\n",
    "                      append_output_field_name=False)\n",
    "add_fields_2 = q.add_fields(fields='PERCENT_VOLUME_{} double=VOLUME_{}/day.VOLUME,'\n",
    "                                   'PERCENT_COUNT_{} double=NUM_TICKS_{}/day.NUM_TICKS'\n",
    "                            .format(rolling_bucket_sec, rolling_bucket_sec, rolling_bucket_sec, rolling_bucket_sec))\n",
    "filter_pt = q.passthrough(fields='PERCENT_VOLUME, PERCENT_COUNT, PERCENT_VOLUME_{}, PERCENT_COUNT_{}'.\n",
    "                          format(rolling_bucket_sec,rolling_bucket_sec))\n",
    "# Add all EPs to the Graph object\n",
    "graph >> rename_fields >> compute_2 >> add_fields >> compute_3 >> add_fields_2 >> filter_pt\n",
    "\n",
    "data = q.run_query(graph, symbols, start_time, end_time)\n",
    "for sym in symbols:\n",
    "    print(sym)\n",
    "    df = pd.DataFrame(data[sym])\n",
    "    print(df.head(), \"\\n\")"
   ]
  },
  {
   "cell_type": "markdown",
   "metadata": {},
   "source": [
    "<a><a id=\"RSI\"></a>\n",
    "### Compute Relative Strength Index"
   ]
  },
  {
   "cell_type": "code",
   "execution_count": 82,
   "metadata": {
    "scrolled": true
   },
   "outputs": [
    {
     "name": "stdout",
     "output_type": "stream",
     "text": [
      "FULL_DEMO_L1::A\n",
      "   FIRST   HIGH   LAST  RSI      SUM                Time\n",
      "0    NaN    NaN    NaN  NaN      0.0 2006-06-01 13:31:00\n",
      "1  34.70  34.70  34.69  NaN  62000.0 2006-06-01 13:32:00\n",
      "2  34.66  34.67  34.65  NaN   2100.0 2006-06-01 13:33:00\n",
      "3  34.65  34.65  34.62  NaN   4600.0 2006-06-01 13:34:00\n",
      "4  34.62  34.65  34.63  NaN   4400.0 2006-06-01 13:35:00 \n",
      "\n",
      "FULL_DEMO_L1::AA\n",
      "   FIRST     HIGH     LAST  RSI       SUM                Time\n",
      "0    NaN      NaN      NaN  NaN       0.0 2006-06-01 13:31:00\n",
      "1  31.81  31.8100  31.7700  NaN     400.0 2006-06-01 13:32:00\n",
      "2  31.72  31.7200  31.7200  NaN  194200.0 2006-06-01 13:33:00\n",
      "3  31.72  31.7399  31.6300  NaN   45800.0 2006-06-01 13:34:00\n",
      "4  31.60  31.7000  31.6791  NaN   60200.0 2006-06-01 13:35:00 \n",
      "\n",
      "FULL_DEMO_L1::AAA\n",
      "   FIRST  HIGH  LAST  RSI    SUM                Time\n",
      "0    NaN   NaN   NaN  NaN    0.0 2006-06-01 13:31:00\n",
      "1   58.2  58.2  58.2  NaN  100.0 2006-06-01 13:32:00\n",
      "2    NaN   NaN  58.2  NaN    0.0 2006-06-01 13:33:00\n",
      "3    NaN   NaN  58.2  NaN    0.0 2006-06-01 13:34:00\n",
      "4    NaN   NaN  58.2  NaN    0.0 2006-06-01 13:35:00 \n",
      "\n",
      "FULL_DEMO_L1::C\n",
      "    FIRST    HIGH   LAST  RSI       SUM                Time\n",
      "0  49.380  49.380  49.33  NaN  331800.0 2006-06-01 13:31:00\n",
      "1  49.320  49.380  49.36  NaN   35700.0 2006-06-01 13:32:00\n",
      "2  49.352  49.375  49.35  NaN   43200.0 2006-06-01 13:33:00\n",
      "3  49.350  49.360  49.30  NaN   29800.0 2006-06-01 13:34:00\n",
      "4  49.320  49.340  49.31  NaN   18800.0 2006-06-01 13:35:00 \n",
      "\n",
      "FULL_DEMO_L1::CSCO\n",
      "   FIRST   HIGH     LAST  RSI       SUM                Time\n",
      "0  19.68  19.74  19.7118  NaN  685030.0 2006-06-01 13:31:00\n",
      "1  19.72  19.77  19.7200  NaN  217448.0 2006-06-01 13:32:00\n",
      "2  19.73  19.74  19.7300  NaN  164660.0 2006-06-01 13:33:00\n",
      "3  19.73  19.76  19.7600  NaN  245526.0 2006-06-01 13:34:00\n",
      "4  19.76  19.78  19.7500  NaN   38988.0 2006-06-01 13:35:00 \n",
      "\n"
     ]
    }
   ],
   "source": [
    "symbols = ['FULL_DEMO_L1::A','FULL_DEMO_L1::AA','FULL_DEMO_L1::AAA','FULL_DEMO_L1::C','FULL_DEMO_L1::CSCO']\n",
    "start_time, end_time = datetime(2006, 6, 1, 9, 30), datetime(2006, 6, 1, 16)\n",
    "interval = 60\n",
    "rsi_ticks = 14\n",
    "\n",
    "compute = q.compute(ticktype='TRD', compute='FIRST,HIGH,LAST (TIME_SERIES_TYPE=STATE_TS),SUM',\n",
    "                    bucket_interval=interval,\n",
    "                    append_output_field_name=False)\n",
    "add_fields = q.add_fields(fields='GAIN double=(LAST-LAST[-1]),LOSS double=(LAST-LAST[-1])')\n",
    "update_fields = q.update_fields(set='GAIN=0,LOSS=ABS(LOSS)', else_set='LOSS=0', where='LOSS<0')\n",
    "compute_2 = q.compute(compute='SUM (INPUT_FIELD_NAME=GAIN) TOTAL_GAIN,SUM (INPUT_FIELD_NAME=LOSS) TOTAL_LOSS',\n",
    "                      show_all_fields=True,\n",
    "                      bucket_interval=rsi_ticks,\n",
    "                      bucket_interval_units='TICKS',\n",
    "                      is_running_aggr=True,\n",
    "                      append_output_field_name=False)\n",
    "add_fields_2 = q.add_fields(fields='AVG_GAIN double=TOTAL_GAIN/{}, AVG_LOSS double=TOTAL_LOSS/{}'.format(rsi_ticks, rsi_ticks))\n",
    "add_field = q.add_field(field='RSI', value='100 - ( 100/( 1 + AVG_GAIN/AVG_LOSS ) )')\n",
    "num_ticks = q.num_ticks(is_running_aggr=True, output_field_name='ROWNUM', bucket_end_per_group=True)\n",
    "update_field = q.update_field(field='RSI', value='NAN()', where='ROWNUM<={}'.format(rsi_ticks))\n",
    "#drop_fields = q.passthrough(fields='GAIN,LOSS,ROWNUM,AVG_GAIN,AVG_LOSS,TOTAL_GAIN,TOTAL_LOSS', drop_fields=True)\n",
    "drop_fields = q.passthrough(fields='\\.*GAIN,\\.*LOSS, ROWNUM', drop_fields=True, use_regex=True)\n",
    "\n",
    "graph = q.Graph(compute)\n",
    "graph >> add_fields >> update_fields >> compute_2 >> add_fields_2 >> add_field >> num_ticks >> update_field >> drop_fields\n",
    "\n",
    "data = q.run_query(graph, symbols, start_time, end_time)\n",
    "for sym in symbols:\n",
    "    print(sym)\n",
    "    df = pd.DataFrame(data[sym])\n",
    "    print(df.head(), \"\\n\")"
   ]
  },
  {
   "cell_type": "markdown",
   "metadata": {},
   "source": [
    "<a><a id=\"jbt_trd_qte\"></a>\n",
    "### Get trades along with prevailing quotes"
   ]
  },
  {
   "cell_type": "code",
   "execution_count": 83,
   "metadata": {},
   "outputs": [
    {
     "name": "stdout",
     "output_type": "stream",
     "text": [
      "FULL_DEMO_L1::IBM\n",
      "   L.PRICE  L.TICK_ID             L.TIMESTAMP  R.ASK_PRICE  R.BID_PRICE  \\\n",
      "0    79.89        1.0 2006-06-01 13:30:11.366       1000.0         0.01   \n",
      "1    79.89        2.0 2006-06-01 13:30:12.366         79.9        79.85   \n",
      "2    79.89        3.0 2006-06-01 13:30:12.406         81.1        78.10   \n",
      "3    79.89        4.0 2006-06-01 13:30:12.410         81.1        78.10   \n",
      "4    79.89        5.0 2006-06-01 13:30:12.414         81.1        78.10   \n",
      "\n",
      "   R.TICK_ID             R.TIMESTAMP        R.TIMESTAMP_ORIG  \\\n",
      "0        2.0 2006-06-01 13:30:02.136 2006-06-01 13:30:02.136   \n",
      "1        3.0 2006-06-01 13:30:11.876 2006-06-01 13:30:11.876   \n",
      "2        4.0 2006-06-01 13:30:12.386 2006-06-01 13:30:12.386   \n",
      "3        4.0 2006-06-01 13:30:12.386 2006-06-01 13:30:12.386   \n",
      "4        4.0 2006-06-01 13:30:12.386 2006-06-01 13:30:12.386   \n",
      "\n",
      "                     Time  \n",
      "0 2006-06-01 13:30:11.366  \n",
      "1 2006-06-01 13:30:12.366  \n",
      "2 2006-06-01 13:30:12.406  \n",
      "3 2006-06-01 13:30:12.410  \n",
      "4 2006-06-01 13:30:12.414  \n"
     ]
    }
   ],
   "source": [
    "symbols = ['FULL_DEMO_L1::IBM']\n",
    "start_time, end_time = datetime(2006, 6, 1, 9, 30), datetime(2006, 6, 1, 16)\n",
    "\n",
    "# QTE branch: ticks are filtered; GO_BACK_TO_FIRST_TICK is enabled\n",
    "trd_pass = q.passthrough('TRD', fields='PRICE')\n",
    "where_clause = q.where_clause(where='ASK_PRICE>0 AND BID_PRICE>0 AND COND=\"R\"')\n",
    "add_field = q.add_field(field='TIMESTAMP_ORIG msectime', value='TIMESTAMP')\n",
    "qte_pass = q.passthrough('QTE', fields='ASK_PRICE,BID_PRICE,TIMESTAMP_ORIG', go_back_to_first_tick='expr(3*86400)')\n",
    "num_ticks = q.num_ticks(is_running_aggr=True, output_field_name='TICK_ID')\n",
    "# Construct left/right hand side nodes\n",
    "lhs_epd = [trd_pass, num_ticks]\n",
    "rhs_epd = [where_clause, add_field, qte_pass, num_ticks.copy()]\n",
    "graph = q.Graph.join_chainlets(lhs_epd, rhs_epd, LEADING_SOURCES='L')\n",
    "\n",
    "data = q.run_query(graph, symbols, start_time, end_time)\n",
    "\n",
    "for sym in symbols:\n",
    "    print(sym)\n",
    "    df = pd.DataFrame(data[sym])\n",
    "    print(df.head())"
   ]
  },
  {
   "cell_type": "markdown",
   "metadata": {},
   "source": [
    "<a><a id=\"spread_avg_mid_flag\"></a>\n",
    "### Compute effective spread average and generate above/below mid flag for each trade"
   ]
  },
  {
   "cell_type": "code",
   "execution_count": 84,
   "metadata": {},
   "outputs": [
    {
     "name": "stdout",
     "output_type": "stream",
     "text": [
      "FULL_DEMO_L1::IBM\n",
      "   ABOVE_BELOW_MID_FLAG  AVERAGE_SPREAD      MID   SPREAD  \\\n",
      "0                    -1     -420.115000  500.005 -420.115   \n",
      "1                     1     -210.050000   79.875    0.015   \n",
      "2                     1     -139.936667   79.600    0.290   \n",
      "3                     1     -104.880000   79.600    0.290   \n",
      "4                     1      -83.846000   79.600    0.290   \n",
      "\n",
      "                     Time  q.ASK_PRICE  q.BID_PRICE             q.TIMESTAMP  \\\n",
      "0 2006-06-01 13:30:11.366       1000.0         0.01 2006-06-01 13:30:02.136   \n",
      "1 2006-06-01 13:30:12.366         79.9        79.85 2006-06-01 13:30:11.876   \n",
      "2 2006-06-01 13:30:12.406         81.1        78.10 2006-06-01 13:30:12.386   \n",
      "3 2006-06-01 13:30:12.410         81.1        78.10 2006-06-01 13:30:12.386   \n",
      "4 2006-06-01 13:30:12.414         81.1        78.10 2006-06-01 13:30:12.386   \n",
      "\n",
      "   t.PRICE             t.TIMESTAMP  \n",
      "0    79.89 2006-06-01 13:30:11.366  \n",
      "1    79.89 2006-06-01 13:30:12.366  \n",
      "2    79.89 2006-06-01 13:30:12.406  \n",
      "3    79.89 2006-06-01 13:30:12.410  \n",
      "4    79.89 2006-06-01 13:30:12.414  \n"
     ]
    }
   ],
   "source": [
    "symbols = ['FULL_DEMO_L1::IBM']\n",
    "start_time, end_time = datetime(2006, 6, 1, 9, 30), datetime(2006, 6, 1, 16)\n",
    "avg_interval_sec = 60\n",
    "\n",
    "trd_pass = q.passthrough(ticktype='TRD', fields='PRICE')\n",
    "trd_where_clause = q.where_clause(where='PRICE>0')\n",
    "jbt = q.join_by_time(join_type='INNER', leading_sources='t')\n",
    "qte_pass = q.passthrough(ticktype='QTE', fields='ASK_PRICE, BID_PRICE', go_back_to_first_tick='expr(3*86400)')\n",
    "qte_where_clause = q.where_clause(where='ASK_PRICE>0 AND BID_PRICE>0 AND COND=\"R\"')\n",
    "add_field = q.add_field(field='MID double', value='(q.ASK_PRICE+q.BID_PRICE)/2')\n",
    "add_fields = q.add_fields(fields='SPREAD double = t.PRICE - MID, '\n",
    "                                 'ABOVE_BELOW_MID_FLAG int = SIGN(t.PRICE - MID)')\n",
    "average = q.average(bucket_interval=avg_interval_sec,\n",
    "                    is_running_aggr=True,\n",
    "                    all_fields_for_sliding=True,\n",
    "                    output_field_name='AVERAGE_SPREAD',\n",
    "                    input_field_name='SPREAD')\n",
    "\n",
    "# Create a graph object\n",
    "graph = q.Graph(trd_pass)\n",
    "graph.sink(trd_where_clause.label('t'))\n",
    "\n",
    "# Attach 'join' node. Tag previous node as 'trd' and use it as the leading source\n",
    "graph.sink(jbt)\n",
    "\n",
    "# Now remember JBT node as head (will be used later) and add the COMPUTE branch\n",
    "jbt_node = graph.head\n",
    "graph.source(qte_pass.label('q'))\n",
    "graph.source(qte_where_clause)\n",
    "\n",
    "# Move the graph head back to JBT node and append Event Processors\n",
    "graph.head = jbt_node\n",
    "graph >> add_field >> add_fields >> average\n",
    "\n",
    "data = q.run_query(graph, symbols, start_time, end_time)\n",
    "\n",
    "for sym in symbols:\n",
    "    print(sym)\n",
    "    df = pd.DataFrame(data[sym])\n",
    "    print(df.head())"
   ]
  },
  {
   "cell_type": "markdown",
   "metadata": {},
   "source": [
    "<a><a id=\"return_correlation\"></a>\n",
    "### Compute symbol pair RETURN correlation"
   ]
  },
  {
   "cell_type": "code",
   "execution_count": 88,
   "metadata": {},
   "outputs": [
    {
     "name": "stdout",
     "output_type": "stream",
     "text": [
      "   RETURN_CORRELATION                            SYMBOL_PAIR  \\\n",
      "0                 NaN  FULL_DEMO_L1::MSFT-FULL_DEMO_L1::CSCO   \n",
      "1                 NaN  FULL_DEMO_L1::MSFT-FULL_DEMO_L1::CSCO   \n",
      "2            1.000000  FULL_DEMO_L1::MSFT-FULL_DEMO_L1::CSCO   \n",
      "3            0.802609  FULL_DEMO_L1::MSFT-FULL_DEMO_L1::CSCO   \n",
      "4            0.375188  FULL_DEMO_L1::MSFT-FULL_DEMO_L1::CSCO   \n",
      "\n",
      "                 Time  \n",
      "0 2006-06-01 13:31:00  \n",
      "1 2006-06-01 13:32:00  \n",
      "2 2006-06-01 13:33:00  \n",
      "3 2006-06-01 13:34:00  \n",
      "4 2006-06-01 13:35:00  \n"
     ]
    }
   ],
   "source": [
    "sym1 = 'FULL_DEMO_L1::MSFT'\n",
    "sym2 = 'FULL_DEMO_L1::CSCO'\n",
    "interval = 60\n",
    "compute_string='FIRST(TIME_SERIES_TYPE=STATE_TS) OPEN, LAST(TIME_SERIES_TYPE=STATE_TS) CLOSE'\n",
    "\n",
    "# create EPs\n",
    "trd_pass = q.passthrough('TRD', fields='PRICE',go_back_to_first_tick=86400).symbol(sym1)\n",
    "compute = q.compute(compute=compute_string, bucket_interval=0, output_interval=interval, \\\n",
    "                    is_running_aggr=False, append_output_field_name=False)\n",
    "add_field = q.add_field(field='RETURN double', value='(CLOSE-CLOSE[-1])/CLOSE[-1]')\n",
    "symbol_pair = q.add_field(field='SYMBOL_PAIR',value='\"{}-{}\"'.format(sym1,sym2))\n",
    "\n",
    "# Create two lists of the above EPs\n",
    "lhs=[trd_pass, compute, add_field]\n",
    "rhs=[ep.copy() for ep in lhs]\n",
    "rhs[0].symbol(sym2)\n",
    "graph = q.Graph.join_chainlets(lhs, rhs,\\\n",
    "                               source_order='L,R', match_if_identical_times=True)\n",
    "\n",
    "# Can now just add some extra EPs via sinks to the head node, which is the join (JOIN_BY_TIME) node\n",
    "graph >> q.correlation(is_running_aggr=True, input_field1_name='L.RETURN', \\\n",
    "                       input_field2_name='R.RETURN', output_field_name='RETURN_CORRELATION') >> symbol_pair\n",
    "\n",
    "data = q.run_query(graph, symbol=None, s=start_time, e=end_time)\n",
    "df = pd.DataFrame(data[''])\n",
    "print(df.head())"
   ]
  },
  {
   "cell_type": "markdown",
   "metadata": {},
   "source": [
    "<a><a id=\"top_N_players\"></a>\n",
    "### Get top N players, or how to MERGE time series to compute totals across symbols"
   ]
  },
  {
   "cell_type": "code",
   "execution_count": 86,
   "metadata": {},
   "outputs": [
    {
     "name": "stdout",
     "output_type": "stream",
     "text": [
      "        H.SYMBOL_NAME         H.TICK_TIME H.TICK_TYPE    H.VOLUME  \\\n",
      "0  FULL_DEMO_L1::CSCO 2006-06-01 20:00:00         TRD  51306585.0   \n",
      "1     FULL_DEMO_L1::C 2006-06-01 20:00:00         TRD  12754200.0   \n",
      "2    FULL_DEMO_L1::AA 2006-06-01 20:00:00         TRD   6934500.0   \n",
      "3     FULL_DEMO_L1::A 2006-06-01 20:00:00         TRD   2944000.0   \n",
      "4   FULL_DEMO_L1::AAA 2006-06-01 20:00:00         TRD      6400.0   \n",
      "\n",
      "   PERC_OF_TOTAL    T.VOLUME                Time  \n",
      "0       0.693842  73945685.0 2006-06-01 20:00:00  \n",
      "1       0.172481  73945685.0 2006-06-01 20:00:00  \n",
      "2       0.093778  73945685.0 2006-06-01 20:00:00  \n",
      "3       0.039813  73945685.0 2006-06-01 20:00:00  \n",
      "4       0.000087  73945685.0 2006-06-01 20:00:00  \n"
     ]
    }
   ],
   "source": [
    "symbols = ['FULL_DEMO_L1::A',\n",
    "           'FULL_DEMO_L1::AA',\n",
    "           'FULL_DEMO_L1::AAA',\n",
    "           'FULL_DEMO_L1::C',\n",
    "           'FULL_DEMO_L1::CSCO']\n",
    "start_time, end_time = datetime(2006, 6, 1, 9, 30), datetime(2006, 6, 1, 16)\n",
    "num_of_top_ticks = 10\n",
    "\n",
    "# create graph with EPs\n",
    "graph = q.Graph(q.passthrough(ticktype='TRD',fields='SIZE'))    \\\n",
    "    >> q.sum(output_field_name='VOLUME',input_field_name='SIZE')    \\\n",
    "    >> q.presort().symbol(symbols)   \\\n",
    "    >> q.merge().label('merge')    \\\n",
    "    >> q.high_tick(num_ticks=num_of_top_ticks,input_field_name='VOLUME').label('H')  \\\n",
    "    >> q.join_by_time(leading_sources='H',match_if_identical_times=True,same_timestamp_join_policy='EACH_FOR_LEADER_WITH_LATEST').label('join') \\\n",
    "    << q.sum(output_field_name='VOLUME',input_field_name='VOLUME').label('T')\n",
    "jbt = graph['join']\n",
    "graph << graph['merge']\n",
    "jbt >> q.add_field(field='PERC_OF_TOTAL',value='H.VOLUME/T.VOLUME')\n",
    "\n",
    "data = q.run_query(graph,symbol=None,s=start_time,e=end_time)\n",
    "df = pd.DataFrame(data[''])\n",
    "print(df.head())"
   ]
  },
  {
   "cell_type": "markdown",
   "metadata": {
    "collapsed": true
   },
   "source": [
    "<a><a id=\"vwap_volume_for_each_trd\"></a>\n",
    "### Compute ASK/BID VWAP and Volume over N seconds before and after each trade"
   ]
  },
  {
   "cell_type": "code",
   "execution_count": 87,
   "metadata": {},
   "outputs": [
    {
     "name": "stdout",
     "output_type": "stream",
     "text": [
      "FULL_DEMO_L1::IBM\n",
      "   AFTER_ASK_VOLUME  AFTER_ASK_VWAP  AFTER_BID_VOLUME  AFTER_BID_VWAP  \\\n",
      "0            6486.0       82.723298            6486.0       79.369503   \n",
      "1            6495.0       82.720092            6495.0       79.370549   \n",
      "2            6495.0       82.720075            6495.0       79.370916   \n",
      "3            6495.0       82.720075            6495.0       79.370916   \n",
      "4            6495.0       82.720075            6495.0       79.370916   \n",
      "\n",
      "          AFTER_TIMESTAMP  BEFORE_ASK_VOLUME  BEFORE_ASK_VWAP  \\\n",
      "0 2006-06-01 13:35:11.366              669.0        82.059193   \n",
      "1 2006-06-01 13:35:12.366              671.0        82.052757   \n",
      "2 2006-06-01 13:35:12.406              672.0        82.051339   \n",
      "3 2006-06-01 13:35:12.410              672.0        82.051339   \n",
      "4 2006-06-01 13:35:12.414              672.0        82.051339   \n",
      "\n",
      "   BEFORE_BID_VOLUME  BEFORE_BID_VWAP        BEFORE_TIMESTAMP EXCHANGE  PRICE  \\\n",
      "0              669.0        78.196237 2006-06-01 13:30:11.366        N  79.89   \n",
      "1              671.0        78.231053 2006-06-01 13:30:12.366        B  79.89   \n",
      "2              672.0        78.230503 2006-06-01 13:30:12.406        B  79.89   \n",
      "3              672.0        78.230503 2006-06-01 13:30:12.410        B  79.89   \n",
      "4              672.0        78.230503 2006-06-01 13:30:12.414        B  79.89   \n",
      "\n",
      "    SIZE                    Time  \n",
      "0  52800 2006-06-01 13:30:11.366  \n",
      "1    100 2006-06-01 13:30:12.366  \n",
      "2    200 2006-06-01 13:30:12.406  \n",
      "3    100 2006-06-01 13:30:12.410  \n",
      "4    300 2006-06-01 13:30:12.414  \n"
     ]
    }
   ],
   "source": [
    "symbols = ['FULL_DEMO_L1::IBM']\n",
    "start_time, end_time = datetime(2006, 6, 1, 9, 30), datetime(2006, 6, 1, 16)\n",
    "\n",
    "# calculate QTE stats and save query to a file\n",
    "get_qte_stats = q.Graph(q.passthrough(ticktype='QTE'))\n",
    "get_qte_stats >> q.compute(compute='VWAP(PRICE_FIELD_NAME=ASK_PRICE,SIZE_FIELD_NAME=ASK_SIZE) ASK_VWAP,'\n",
    "                                   'VWAP(PRICE_FIELD_NAME=BID_PRICE,SIZE_FIELD_NAME=BID_SIZE) BID_VWAP,'\n",
    "                                   'SUM(INPUT_FIELD_NAME=ASK_SIZE) ASK_VOLUME,'\n",
    "                                   'SUM(INPUT_FIELD_NAME=ASK_SIZE) BID_VOLUME',\n",
    "                          append_output_field_name=False)\n",
    "get_qte_stats = get_qte_stats.save(symbols, start_time, end_time, otq_file='C:/temp/temp.otq', query_name='get_qte_stats')\n",
    "\n",
    "# main query: use JOIN_WITH_QUERY EP\n",
    "time_window_sec = 300\n",
    "graph = q.Graph(q.passthrough(ticktype='TRD', fields='PRICE,SIZE,EXCHANGE'))\n",
    "graph >> q.join_with_query(otq_query='\"{}\"'.format(get_qte_stats), symbol_name='_SYMBOL_NAME',\n",
    "                           start_timestamp='TIMESTAMP-{}*1000'.format(time_window_sec),\n",
    "                           end_timestamp='TIMESTAMP',\n",
    "                           prefix_for_output_ticks='BEFORE_')\\\n",
    "      >> q.join_with_query(otq_query='\"{}\"'.format(get_qte_stats), symbol_name='_SYMBOL_NAME',\n",
    "                           start_timestamp='TIMESTAMP',\n",
    "                           end_timestamp='TIMESTAMP+{}*1000'.format(time_window_sec),\n",
    "                           prefix_for_output_ticks='AFTER_')\n",
    "    \n",
    "data = q.run_query(graph, symbols, start_time, end_time)\n",
    "for sym in symbols:\n",
    "    print(sym)\n",
    "    df = pd.DataFrame(data[sym])\n",
    "    print(df.head())"
   ]
  },
  {
   "cell_type": "code",
   "execution_count": null,
   "metadata": {
    "collapsed": true
   },
   "outputs": [],
   "source": []
  }
 ],
 "metadata": {
  "kernelspec": {
   "display_name": "Python 3 (ipykernel)",
   "language": "python",
   "name": "python3"
  },
  "language_info": {
   "codemirror_mode": {
    "name": "ipython",
    "version": 3
   },
   "file_extension": ".py",
   "mimetype": "text/x-python",
   "name": "python",
   "nbconvert_exporter": "python",
   "pygments_lexer": "ipython3",
   "version": "3.7.13"
  }
 },
 "nbformat": 4,
 "nbformat_minor": 2
}
