{
 "cells": [
  {
   "cell_type": "code",
   "execution_count": 1,
   "metadata": {
    "collapsed": true
   },
   "outputs": [],
   "source": [
    "# Standard\n",
    "import numpy as np\n",
    "import pandas as pd\n",
    "from numpy.random import randn\n",
    "\n",
    "# Stats\n",
    "from scipy import stats\n",
    "\n",
    "# Plotting\n",
    "import matplotlib as mpl\n",
    "import matplotlib.pyplot as plt\n",
    "import seaborn as sns\n",
    "%matplotlib inline"
   ]
  },
  {
   "cell_type": "code",
   "execution_count": 2,
   "metadata": {
    "collapsed": false
   },
   "outputs": [
    {
     "name": "stderr",
     "output_type": "stream",
     "text": [
      "C:\\Anaconda3\\lib\\site-packages\\IPython\\core\\interactiveshell.py:2723: DtypeWarning: Columns (0,3,5,27,36) have mixed types. Specify dtype option on import or set low_memory=False.\n",
      "  interactivity=interactivity, compiler=compiler, result=result)\n"
     ]
    }
   ],
   "source": [
    "food = pd.read_csv('../input/FoodFacts.csv')"
   ]
  },
  {
   "cell_type": "markdown",
   "metadata": {},
   "source": [
    "# Sugar Example from Kaggle for Caffeine (doesn't work well - not enough info on caffeine)"
   ]
  },
  {
   "cell_type": "code",
   "execution_count": 3,
   "metadata": {
    "collapsed": false
   },
   "outputs": [],
   "source": [
    "# Modify and clean data\n",
    "food.countries = food.countries.str.lower()\n",
    "world_sugars = food[food.sugars_100g.notnull()]\n",
    "world_caffeine = food[food.caffeine_100g.notnull()]"
   ]
  },
  {
   "cell_type": "code",
   "execution_count": 4,
   "metadata": {
    "collapsed": false
   },
   "outputs": [],
   "source": [
    "def return_sugars(country):\n",
    "    return world_sugars[world_sugars.countries == country].sugars_100g.tolist()\n",
    "def return_caffeine(country):\n",
    "    return world_caffeine[world_caffeine.countries == country].caffeine_100g.tolist()"
   ]
  },
  {
   "cell_type": "code",
   "execution_count": 5,
   "metadata": {
    "collapsed": true
   },
   "outputs": [],
   "source": [
    "# Get list of sugars per 100g for some countries\n",
    "fr_sugars = return_sugars('france') + return_sugars('en:fr')\n",
    "za_sugars = return_sugars('south africa')\n",
    "uk_sugars = return_sugars('united kingdom') + return_sugars('en:gb')\n",
    "us_sugars = return_sugars('united states') + return_sugars('en:us') + return_sugars('us')\n",
    "sp_sugars = return_sugars('spain') + return_sugars('españa') + return_sugars('en:es')\n",
    "nd_sugars = return_sugars('netherlands') + return_sugars('holland')\n",
    "au_sugars = return_sugars('australia') + return_sugars('en:au')\n",
    "ca_sugars = return_sugars('canada') + return_sugars('en:ca')\n",
    "de_sugars = return_sugars('germany')\n",
    "\n",
    "# Get list of caffeine per 100g for some countries\n",
    "fr_caffeine = return_caffeine('france') + return_caffeine('en:fr')\n",
    "za_caffeine = return_caffeine('south africa')\n",
    "uk_caffeine = return_caffeine('united kingdom') + return_caffeine('en:gb')\n",
    "us_caffeine = return_caffeine('united states') + return_caffeine('en:us') + return_caffeine('us')\n",
    "sp_caffeine = return_caffeine('spain') + return_caffeine('españa') + return_caffeine('en:es')\n",
    "nd_caffeine = return_caffeine('netherlands') + return_caffeine('holland')\n",
    "au_caffeine = return_caffeine('australia') + return_caffeine('en:au')\n",
    "ca_caffeine = return_caffeine('canada') + return_caffeine('en:ca')\n",
    "de_caffeine = return_caffeine('germany')"
   ]
  },
  {
   "cell_type": "code",
   "execution_count": 6,
   "metadata": {
    "collapsed": false
   },
   "outputs": [],
   "source": [
    "all_sugars = pd.DataFrame([fr_sugars,za_sugars,uk_sugars,us_sugars,sp_sugars,nd_sugars,au_sugars,ca_sugars,de_sugars])\n",
    "all_caffeine = pd.DataFrame([fr_caffeine,za_caffeine,uk_caffeine,us_caffeine,sp_caffeine,nd_caffeine,au_caffeine,ca_caffeine,de_caffeine])"
   ]
  },
  {
   "cell_type": "code",
   "execution_count": 7,
   "metadata": {
    "collapsed": false
   },
   "outputs": [
    {
     "data": {
      "text/plain": [
       "(0    12.477796\n",
       " 1     7.740000\n",
       " 2    16.290629\n",
       " 3    16.324474\n",
       " 4     9.657916\n",
       " 5    17.931739\n",
       " 6    14.664474\n",
       " 7    16.891364\n",
       " 8    11.518462\n",
       " dtype: float64, 0     0.498510\n",
       " 1          NaN\n",
       " 2          NaN\n",
       " 3     0.013477\n",
       " 4          NaN\n",
       " 5          NaN\n",
       " 6     0.018000\n",
       " 7          NaN\n",
       " 8    20.000000\n",
       " dtype: float64)"
      ]
     },
     "execution_count": 7,
     "metadata": {},
     "output_type": "execute_result"
    }
   ],
   "source": [
    "avg_all_sugars = pd.DataFrame.mean(all_sugars, axis=1)\n",
    "avg_all_caffeine = pd.DataFrame.mean(all_caffeine, axis=1) # I stop doing caffeine research here\n",
    "avg_all_sugars, avg_all_caffeine"
   ]
  },
  {
   "cell_type": "code",
   "execution_count": 8,
   "metadata": {
    "collapsed": false
   },
   "outputs": [],
   "source": [
    "countries = ['FR', 'ZA', 'UK', 'US', 'ES', 'ND', 'AU', 'CA', 'DE']"
   ]
  },
  {
   "cell_type": "code",
   "execution_count": 9,
   "metadata": {
    "collapsed": false,
    "scrolled": true
   },
   "outputs": [
    {
     "data": {
      "text/plain": [
       "Index(['FR', 'ZA', 'UK', 'US', 'ES', 'ND', 'AU', 'CA', 'DE'], dtype='object')"
      ]
     },
     "execution_count": 9,
     "metadata": {},
     "output_type": "execute_result"
    }
   ],
   "source": [
    "avg_all_sugars.index = countries\n",
    "avg_all_sugars.index"
   ]
  },
  {
   "cell_type": "code",
   "execution_count": 10,
   "metadata": {
    "collapsed": false
   },
   "outputs": [
    {
     "data": {
      "text/plain": [
       "ND    17.931739\n",
       "CA    16.891364\n",
       "US    16.324474\n",
       "UK    16.290629\n",
       "AU    14.664474\n",
       "FR    12.477796\n",
       "DE    11.518462\n",
       "ES     9.657916\n",
       "ZA     7.740000\n",
       "dtype: float64"
      ]
     },
     "execution_count": 10,
     "metadata": {},
     "output_type": "execute_result"
    }
   ],
   "source": [
    "# Sort pd array\n",
    "avg_all_sugars.sort_values(ascending=False)"
   ]
  },
  {
   "cell_type": "code",
   "execution_count": 11,
   "metadata": {
    "collapsed": false
   },
   "outputs": [
    {
     "data": {
      "text/plain": [
       "<matplotlib.text.Text at 0x16599240>"
      ]
     },
     "execution_count": 11,
     "metadata": {},
     "output_type": "execute_result"
    },
    {
     "data": {
      "image/png": "[encoded data removed]",
      "text/plain": [
       "<matplotlib.figure.Figure at 0x18b3c668>"
      ]
     },
     "metadata": {},
     "output_type": "display_data"
    }
   ],
   "source": [
    "plot = avg_all_sugars.plot(kind='bar',title='Average total sugar content per 100g',rot=0,alpha=0.75,grid=False,color='indianred')\n",
    "plot.set_ylabel('ylabel')"
   ]
  }
 ],
 "metadata": {
  "kernelspec": {
   "display_name": "Python 3",
   "language": "python",
   "name": "python3"
  },
  "language_info": {
   "codemirror_mode": {
    "name": "ipython",
    "version": 3
   },
   "file_extension": ".py",
   "mimetype": "text/x-python",
   "name": "python",
   "nbconvert_exporter": "python",
   "pygments_lexer": "ipython3",
   "version": "3.4.4"
  }
 },
 "nbformat": 4,
 "nbformat_minor": 0
}
