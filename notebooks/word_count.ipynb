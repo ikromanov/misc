{
 "cells": [
  {
   "cell_type": "code",
   "execution_count": 1,
   "metadata": {
    "collapsed": true
   },
   "outputs": [],
   "source": [
    "import sys"
   ]
  },
  {
   "cell_type": "code",
   "execution_count": 20,
   "metadata": {
    "collapsed": false
   },
   "outputs": [],
   "source": [
    "def word_count_dict(filename):\n",
    "  \"\"\"Returns a word/count dict for this filename.\"\"\"\n",
    "  # Utility used by count() and Topcount().\n",
    "  word_count = {}  # Map each word to its count\n",
    "  input_file = open(filename, 'r', encoding='utf8')\n",
    "  for line in input_file:\n",
    "    words = line.split()\n",
    "    for word in words:\n",
    "      word = word.lower()\n",
    "      # Special case if we're seeing this word for the first time.\n",
    "      if not word in word_count:\n",
    "        word_count[word] = 1\n",
    "      else:\n",
    "        word_count[word] = word_count[word] + 1\n",
    "  input_file.close()  # Not strictly required, but good form.\n",
    "  return word_count\n",
    "\n",
    "\n",
    "def print_words(word_count_dict):\n",
    "  \"\"\"Prints one per line '<word> <count>' sorted by word for the given file.\"\"\"\n",
    "  word_count = word_count_dict\n",
    "  words = sorted(word_count.keys())\n",
    "  for word in words:\n",
    "    print(word, word_count[word])\n",
    "\n",
    "\n",
    "def get_count(word_count_tuple):\n",
    "  \"\"\"Returns the count from a dict word/count tuple  -- used for custom sort.\"\"\"\n",
    "  return word_count_tuple[1]\n",
    "\n",
    "    \n",
    "def print_top(word_count_dict, n=20):\n",
    "  \"\"\"Prints the top count listing for the given file.\"\"\"\n",
    "  word_count = word_count_dict\n",
    "\n",
    "  # Each item is a (word, count) tuple.\n",
    "  # Sort them so the big counts are first using key=get_count() to extract count.\n",
    "  items = sorted(word_count.items(), key=get_count, reverse=True)\n",
    "\n",
    "  # Print the first n=20\n",
    "  for item in items[:n]:\n",
    "    print(item[0], item[1])"
   ]
  },
  {
   "cell_type": "code",
   "execution_count": 21,
   "metadata": {
    "collapsed": false
   },
   "outputs": [],
   "source": [
    "wc = word_count_dict('../input/crime_and_punishment_rus.txt')"
   ]
  },
  {
   "cell_type": "code",
   "execution_count": 24,
   "metadata": {
    "collapsed": false
   },
   "outputs": [
    {
     "name": "stdout",
     "output_type": "stream",
     "text": [
      "и 8157\n",
      "-- 6046\n",
      "не 3753\n",
      "в 3718\n",
      "что 3002\n",
      "он 2470\n",
      "на 2396\n",
      "я 2163\n",
      "с 2003\n",
      "а 1641\n"
     ]
    }
   ],
   "source": [
    "print_top(wc, 10)"
   ]
  },
  {
   "cell_type": "code",
   "execution_count": 25,
   "metadata": {
    "collapsed": false
   },
   "outputs": [
    {
     "data": {
      "text/plain": [
       "39223"
      ]
     },
     "execution_count": 25,
     "metadata": {},
     "output_type": "execute_result"
    }
   ],
   "source": [
    "len(wc)"
   ]
  },
  {
   "cell_type": "code",
   "execution_count": null,
   "metadata": {
    "collapsed": true
   },
   "outputs": [],
   "source": []
  }
 ],
 "metadata": {
  "kernelspec": {
   "display_name": "Python 3",
   "language": "python",
   "name": "python3"
  },
  "language_info": {
   "codemirror_mode": {
    "name": "ipython",
    "version": 3
   },
   "file_extension": ".py",
   "mimetype": "text/x-python",
   "name": "python",
   "nbconvert_exporter": "python",
   "pygments_lexer": "ipython3",
   "version": "3.4.5"
  }
 },
 "nbformat": 4,
 "nbformat_minor": 0
}
